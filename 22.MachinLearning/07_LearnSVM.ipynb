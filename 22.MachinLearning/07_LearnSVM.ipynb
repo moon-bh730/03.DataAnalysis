{
  "nbformat": 4,
  "nbformat_minor": 2,
  "metadata": {
    "colab": {
      "name": "LearnSVM.ipynb",
      "provenance": [],
      "collapsed_sections": []
    },
    "kernelspec": {
      "name": "python3",
      "display_name": "Python 3"
    },
    "language_info": {
      "name": "python"
    }
  },
  "cells": [
    {
      "cell_type": "markdown",
      "source": [
        "선형 SVM 선언 및 학습"
      ],
      "metadata": {
        "id": "OCiuZi3h5LGc"
      }
    },
    {
      "cell_type": "code",
      "execution_count": 1,
      "source": [
        "import numpy as np\r\n",
        "from sklearn import svm"
      ],
      "outputs": [],
      "metadata": {
        "id": "HEPauDZ_x0_m"
      }
    },
    {
      "cell_type": "code",
      "execution_count": 4,
      "source": [
        "X = np.array([[0,0],[1,1]])\r\n",
        "y = [0, 1]"
      ],
      "outputs": [],
      "metadata": {
        "id": "NSzR4fa744mL"
      }
    },
    {
      "cell_type": "code",
      "execution_count": 5,
      "source": [
        "# https://m.blog.naver.com/PostView.naver?isHttpsRedirect=true&blogId=gdpresent&logNo=221717231990\r\n",
        "LinearSVM = svm.LinearSVC()\r\n",
        "LinearSVM.fit(X, y)"
      ],
      "outputs": [
        {
          "output_type": "execute_result",
          "data": {
            "text/plain": [
              "LinearSVC(C=1.0, class_weight=None, dual=True, fit_intercept=True,\n",
              "          intercept_scaling=1, loss='squared_hinge', max_iter=1000,\n",
              "          multi_class='ovr', penalty='l2', random_state=None, tol=0.0001,\n",
              "          verbose=0)"
            ]
          },
          "metadata": {},
          "execution_count": 5
        }
      ],
      "metadata": {
        "colab": {
          "base_uri": "https://localhost:8080/"
        },
        "id": "doaaoFBQ4_oR",
        "outputId": "d7025fbd-138e-480e-f96e-112ff5471799"
      }
    },
    {
      "cell_type": "markdown",
      "source": [
        "학습결과 확인"
      ],
      "metadata": {
        "id": "feLrOTVn5Z4q"
      }
    },
    {
      "cell_type": "code",
      "execution_count": 6,
      "source": [
        "# predict : 서포트 벡터 머신(SVM) 분류기를 사용하여 관측값 분류\r\n",
        "LinearSVM.predict([[2,2]])\r\n"
      ],
      "outputs": [
        {
          "output_type": "execute_result",
          "data": {
            "text/plain": [
              "array([1])"
            ]
          },
          "metadata": {},
          "execution_count": 6
        }
      ],
      "metadata": {
        "colab": {
          "base_uri": "https://localhost:8080/"
        },
        "id": "lmGy724S5ZMV",
        "outputId": "393d8e24-6d6e-4894-c1c9-b891e0d1b0c5"
      }
    },
    {
      "cell_type": "code",
      "execution_count": 7,
      "source": [
        "# 기울기: .coef_\r\n",
        "# 절편: .intercept_\r\n",
        "print(LinearSVM.coef_[0])\r\n",
        "print(LinearSVM.intercept_[0])"
      ],
      "outputs": [
        {
          "output_type": "stream",
          "name": "stdout",
          "text": [
            "[0.58823254 0.58823254]\n",
            "-0.47058135542107304\n"
          ]
        }
      ],
      "metadata": {
        "colab": {
          "base_uri": "https://localhost:8080/"
        },
        "id": "C2LhJom85nPx",
        "outputId": "dcbfc8a0-2b09-4824-9cb3-7a376a282c13"
      }
    },
    {
      "cell_type": "code",
      "execution_count": 8,
      "source": [
        "import matplotlib.pyplot as plt\r\n",
        "from matplotlib import style\r\n",
        "style.use('ggplot')     # 'ggplot'배경 격자 사용"
      ],
      "outputs": [],
      "metadata": {
        "id": "vaeKnM315vCg"
      }
    },
    {
      "cell_type": "code",
      "execution_count": 15,
      "source": [
        "w = LinearSVM.coef_[0]        # 기울기: .coef_\r\n",
        "print(w)\r\n",
        "b = LinearSVM.intercept_[0]     # 절편: .intercept_\r\n",
        "slope = -w[0] / w[1]\r\n",
        "xx = np.linspace(0, 1.5)\r\n",
        "yy = (slope*xx) - (b/w[1])\r\n",
        "h0 = plt.plot(xx, yy, 'k-', label='HyperPlane')\r\n",
        "plt.scatter(X[:,0], X[:,1], c=y)\r\n",
        "plt.legend()\r\n",
        "plt.show()"
      ],
      "outputs": [
        {
          "output_type": "stream",
          "name": "stdout",
          "text": [
            "[0.58823254 0.58823254]\n"
          ]
        },
        {
          "output_type": "display_data",
          "data": {
            "image/png": "[encoded data removed]",
            "text/plain": [
              "<Figure size 432x288 with 1 Axes>"
            ]
          },
          "metadata": {}
        }
      ],
      "metadata": {
        "colab": {
          "base_uri": "https://localhost:8080/",
          "height": 284
        },
        "id": "LLMx18WN6PtY",
        "outputId": "30fa888c-637d-48cd-ea6d-abfcff3cc47b"
      }
    },
    {
      "cell_type": "code",
      "execution_count": null,
      "source": [],
      "outputs": [],
      "metadata": {
        "id": "aUUZ5zds67fp"
      }
    }
  ]
}
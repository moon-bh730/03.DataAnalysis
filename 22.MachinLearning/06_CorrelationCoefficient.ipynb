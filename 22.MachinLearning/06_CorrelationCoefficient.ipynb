{
  "nbformat": 4,
  "nbformat_minor": 0,
  "metadata": {
    "colab": {
      "name": "06_CorrelationCoefficient.ipynb",
      "provenance": [],
      "collapsed_sections": []
    },
    "kernelspec": {
      "name": "python3",
      "display_name": "Python 3"
    },
    "language_info": {
      "name": "python"
    }
  },
  "cells": [
    {
      "cell_type": "code",
      "metadata": {
        "colab": {
          "base_uri": "https://localhost:8080/",
          "height": 322
        },
        "id": "4woQE0XEwDBu",
        "outputId": "bc051294-258c-44e1-a801-44410fc2602f"
      },
      "source": [
        "from numpy import mean\n",
        "from numpy import std\n",
        "from numpy.random import randn\n",
        "from numpy.random import seed\n",
        "from matplotlib import pyplot\n",
        "\n",
        "# 데이터 샘플1\n",
        "seed(1)\n",
        "\n",
        "data1 = 20 * randn(1000) + 100\n",
        "data2 = data1 + (10 * randn(1000) + 50)\n",
        "\n",
        "print('data1: mean=%.3f stdv=%.3f' % (mean(data1), std(data1)))\n",
        "print('data2: mean=%.3f stdv=%.3f' % (mean(data2), std(data2)))\n",
        "\n",
        "pyplot.scatter(data1, data2)"
      ],
      "execution_count": 1,
      "outputs": [
        {
          "output_type": "stream",
          "name": "stdout",
          "text": [
            "data1: mean=100.776 stdv=19.620\n",
            "data2: mean=151.050 stdv=22.358\n"
          ]
        },
        {
          "output_type": "execute_result",
          "data": {
            "text/plain": [
              "<matplotlib.collections.PathCollection at 0x7f6110dcd950>"
            ]
          },
          "metadata": {},
          "execution_count": 1
        },
        {
          "output_type": "display_data",
          "data": {
            "image/png": "[encoded data removed]",
            "text/plain": [
              "<Figure size 432x288 with 1 Axes>"
            ]
          },
          "metadata": {
            "needs_background": "light"
          }
        }
      ]
    },
    {
      "cell_type": "code",
      "metadata": {
        "id": "dTOOvCP4wMH-"
      },
      "source": [
        "mean1 = mean(data1)\n",
        "std1 = std(data1)\n",
        "mean2 = mean(data2)\n",
        "std2 = std(data2)\n",
        "Qx = data1 - mean1\n",
        "Qy = data2 - mean2\n",
        "Q = Qx * Qy"
      ],
      "execution_count": 2,
      "outputs": []
    },
    {
      "cell_type": "code",
      "metadata": {
        "colab": {
          "base_uri": "https://localhost:8080/"
        },
        "id": "4czCa_EcwOYN",
        "outputId": "c1c1d389-3e9e-4d6b-d7e8-89e9cc3043e5"
      },
      "source": [
        "Q.shape\n",
        "print(len(Q))"
      ],
      "execution_count": 3,
      "outputs": [
        {
          "output_type": "stream",
          "name": "stdout",
          "text": [
            "1000\n"
          ]
        }
      ]
    },
    {
      "cell_type": "code",
      "metadata": {
        "colab": {
          "base_uri": "https://localhost:8080/"
        },
        "id": "xlxvy9MQwRrd",
        "outputId": "a607c336-6e94-404a-b664-9e9c1452bbd1"
      },
      "source": [
        "r = sum(Q)/((len(Q)-1)*std1*std2)\n",
        "print('correlation coefficient:', r)"
      ],
      "execution_count": 4,
      "outputs": [
        {
          "output_type": "stream",
          "name": "stdout",
          "text": [
            "correlation coefficient: 0.8885004089885196\n"
          ]
        }
      ]
    },
    {
      "cell_type": "code",
      "metadata": {
        "colab": {
          "base_uri": "https://localhost:8080/",
          "height": 112
        },
        "id": "roXccxb5wTVF",
        "outputId": "77d23a84-9c3c-4716-b7a6-7bcc25a8b879"
      },
      "source": [
        "import pandas as pd\n",
        "rows = [int(i) for i in range(len(data1))]\n",
        "s_d1 = pd.Series(data1, index=rows)\n",
        "s_d2 = pd.Series(data2, index=rows)\n",
        "clm = ['data1', 'data2']\n",
        "d = pd.DataFrame(columns=clm)\n",
        "d['data1'] = s_d1\n",
        "d['data2'] = s_d2\n",
        "d.corr()"
      ],
      "execution_count": 5,
      "outputs": [
        {
          "output_type": "execute_result",
          "data": {
            "text/html": [
              "<div>\n",
              "<style scoped>\n",
              "    .dataframe tbody tr th:only-of-type {\n",
              "        vertical-align: middle;\n",
              "    }\n",
              "\n",
              "    .dataframe tbody tr th {\n",
              "        vertical-align: top;\n",
              "    }\n",
              "\n",
              "    .dataframe thead th {\n",
              "        text-align: right;\n",
              "    }\n",
              "</style>\n",
              "<table border=\"1\" class=\"dataframe\">\n",
              "  <thead>\n",
              "    <tr style=\"text-align: right;\">\n",
              "      <th></th>\n",
              "      <th>data1</th>\n",
              "      <th>data2</th>\n",
              "    </tr>\n",
              "  </thead>\n",
              "  <tbody>\n",
              "    <tr>\n",
              "      <th>data1</th>\n",
              "      <td>1.000000</td>\n",
              "      <td>0.887612</td>\n",
              "    </tr>\n",
              "    <tr>\n",
              "      <th>data2</th>\n",
              "      <td>0.887612</td>\n",
              "      <td>1.000000</td>\n",
              "    </tr>\n",
              "  </tbody>\n",
              "</table>\n",
              "</div>"
            ],
            "text/plain": [
              "          data1     data2\n",
              "data1  1.000000  0.887612\n",
              "data2  0.887612  1.000000"
            ]
          },
          "metadata": {},
          "execution_count": 5
        }
      ]
    },
    {
      "cell_type": "code",
      "metadata": {
        "colab": {
          "base_uri": "https://localhost:8080/"
        },
        "id": "pL4zjydSwV1t",
        "outputId": "ae241c29-f39a-4705-cb2f-4b4c3eb42bb5"
      },
      "source": [
        "from scipy.stats import pearsonr\n",
        "\n",
        "corr1, _ = pearsonr(data1, data2)\n",
        "print('Pearsons correlation between data1 and data2: %.3f' % corr1)"
      ],
      "execution_count": 6,
      "outputs": [
        {
          "output_type": "stream",
          "name": "stdout",
          "text": [
            "Pearsons correlation between data1 and data2: 0.888\n"
          ]
        }
      ]
    },
    {
      "cell_type": "code",
      "metadata": {
        "colab": {
          "base_uri": "https://localhost:8080/",
          "height": 322
        },
        "id": "Mh15bzIXwYeF",
        "outputId": "0ae134b3-3f99-4bb2-d03b-38f25fd0022f"
      },
      "source": [
        "seed(1)\n",
        "data1 = 20 * randn(1000) + 100\n",
        "data2 = -data1 + (10 * randn(1000) + 50)\n",
        "\n",
        "print('data1: mean=%.3f stdv=%.3f' % (mean(data1), std(data1)))\n",
        "print('data2: mean=%.3f stdv=%.3f' % (mean(data2), std(data2)))\n",
        "\n",
        "pyplot.scatter(data1, data2)"
      ],
      "execution_count": 7,
      "outputs": [
        {
          "output_type": "stream",
          "name": "stdout",
          "text": [
            "data1: mean=100.776 stdv=19.620\n",
            "data2: mean=-50.503 stdv=21.959\n"
          ]
        },
        {
          "output_type": "execute_result",
          "data": {
            "text/plain": [
              "<matplotlib.collections.PathCollection at 0x7f6102ea0610>"
            ]
          },
          "metadata": {},
          "execution_count": 7
        },
        {
          "output_type": "display_data",
          "data": {
            "image/png": "[encoded data removed]",
            "text/plain": [
              "<Figure size 432x288 with 1 Axes>"
            ]
          },
          "metadata": {
            "needs_background": "light"
          }
        }
      ]
    },
    {
      "cell_type": "code",
      "metadata": {
        "id": "XD42Vo7NwaWe"
      },
      "source": [
        "mean1 = mean(data1)\n",
        "std1 = std(data1)\n",
        "mean2 = mean(data2)\n",
        "std2 = std(data2)\n",
        "Qx = data1 - mean1\n",
        "Qy = data2 - mean2\n",
        "Q = Qx * Qy"
      ],
      "execution_count": 8,
      "outputs": []
    },
    {
      "cell_type": "code",
      "metadata": {
        "colab": {
          "base_uri": "https://localhost:8080/"
        },
        "id": "M9hM4k_bwcTN",
        "outputId": "cc57867e-c108-41db-ffd0-0b0949b35a98"
      },
      "source": [
        "r = sum(Q)/((len(Q)-1)*std1*std2)\n",
        "print('correlation coefficient:', r)"
      ],
      "execution_count": 9,
      "outputs": [
        {
          "output_type": "stream",
          "name": "stdout",
          "text": [
            "correlation coefficient: -0.8841064512766241\n"
          ]
        }
      ]
    },
    {
      "cell_type": "code",
      "metadata": {
        "id": "I7uvS10iwd_1"
      },
      "source": [
        ""
      ],
      "execution_count": null,
      "outputs": []
    }
  ]
}
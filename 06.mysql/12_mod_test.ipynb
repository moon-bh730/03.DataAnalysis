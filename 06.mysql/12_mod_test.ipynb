{
 "cells": [
  {
   "cell_type": "code",
   "execution_count": 1,
   "source": [
    "import json\r\n",
    "\r\n",
    "with open('ini/mysql_local.json', 'r') as file:\r\n",
    " config_str = file.read()\r\n",
    "\r\n",
    "config = json.loads(config_str)"
   ],
   "outputs": [],
   "metadata": {}
  },
  {
   "cell_type": "code",
   "execution_count": 2,
   "source": [
    "import db_util as du"
   ],
   "outputs": [],
   "metadata": {}
  },
  {
   "cell_type": "code",
   "execution_count": 5,
   "source": [
    "# 샘플데이터 추가\r\n",
    "# print(du.set_Add_Sample_product(config))\r\n",
    "print(du.set_Add_Sample_sale(config))\r\n",
    "\r\n",
    "\r\n",
    "# 테이블 초기화(테이블 삭제하고 creation)\r\n",
    "# print(du.set_Data_Init(config))\r\n"
   ],
   "outputs": [
    {
     "output_type": "stream",
     "name": "stdout",
     "text": [
      "((495,),)\n"
     ]
    }
   ],
   "metadata": {}
  },
  {
   "cell_type": "code",
   "execution_count": 6,
   "source": [
    "# print(du.get_ByCustomer(config))\r\n",
    "# print(du.get_Item_ByCustomer(config))\r\n",
    "print(du.get_Summary_ByItem(config))"
   ],
   "outputs": [
    {
     "output_type": "stream",
     "name": "stdout",
     "text": [
      "(('마스크', Decimal('77'), 137200.0, 25200.0), ('노이즈캔슬링이어폰', Decimal('77'), 6282000.0, 1063800.0), ('무지셔츠', Decimal('62'), 267600.0, 54000.0), ('지샥머드마스터', Decimal('53'), 4290000.0, 1320000.0), ('스마트폰거치대', Decimal('87'), 394200.0, 162000.0), ('클리너', Decimal('70'), 156000.0, 27300.0), ('벨트', Decimal('44'), 250000.0, 81000.0), ('고속멀티충전기', Decimal('81'), 825000.0, 376500.0), ('텀블러', Decimal('90'), 318400.0, 160000.0), ('팔성화로', Decimal('43'), 1251000.0, 471600.0), ('바디스파', Decimal('80'), 6860000.0, 1260000.0), ('와그너스틸안경', Decimal('78'), 1680000.0, 896000.0), ('자켓', Decimal('48'), 979000.0, 330000.0), ('파워스테이션', Decimal('68'), 7527000.0, 1079000.0), ('스니커즈', Decimal('70'), 1800000.0, 165000.0), ('등산벨트', Decimal('99'), 323000.0, 229500.0), ('블루투스키보드', Decimal('43'), 291600.0, 22500.0), ('밴딩팬츠', Decimal('62'), 662200.0, 231000.0), ('코코넛샌들', Decimal('91'), 236300.0, 142800.0), ('워시팝코코넛화이트', Decimal('91'), 3040000.0, 1440000.0), ('손세정디스펜서', Decimal('79'), 686400.0, 80000.0), ('세정제', Decimal('62'), 165600.0, 22800.0), ('워시팝피치핑크', Decimal('36'), 1330000.0, 630000.0), ('와인잔거치대', Decimal('51'), 314100.0, 90000.0), ('시네마빔프로젝터', Decimal('86'), 31840000.0, 6096000.0), ('닥터하우스웜스텐우드', Decimal('63'), 1560000.0, 780000.0), ('식기세트', Decimal('68'), 1540000.0, 476000.0), ('선글라스', Decimal('54'), 1664000.0, 1223300.0), ('구공향로', Decimal('79'), 1443200.0, 291200.0), ('블루투스턴테이블', Decimal('57'), 3900000.0, 663000.0), ('로봇청소기', Decimal('76'), 10257000.0, 1300000.0), ('냉풍시트', Decimal('68'), 1806000.0, 1120000.0), ('우산', Decimal('63'), 405000.0, 60000.0), ('퍼퓸샴푸', Decimal('28'), 115000.0, 23000.0), ('무선이어폰이어셋', Decimal('29'), 636000.0, 288000.0), ('미러볼라이트', Decimal('66'), 236600.0, 56000.0), ('구강세정기', Decimal('54'), 385200.0, 71100.0), ('트리코트자켓', Decimal('73'), 2535000.0, 1818000.0))\n"
     ]
    }
   ],
   "metadata": {}
  }
 ],
 "metadata": {
  "orig_nbformat": 4,
  "language_info": {
   "name": "python",
   "version": "3.8.10",
   "mimetype": "text/x-python",
   "codemirror_mode": {
    "name": "ipython",
    "version": 3
   },
   "pygments_lexer": "ipython3",
   "nbconvert_exporter": "python",
   "file_extension": ".py"
  },
  "kernelspec": {
   "name": "python3",
   "display_name": "Python 3.8.10 64-bit ('btfsop': conda)"
  },
  "interpreter": {
   "hash": "795bef2181d8c1d673d637ebabbfa46c3363c718d3652ae25a9a4fec543c87a1"
  }
 },
 "nbformat": 4,
 "nbformat_minor": 2
}
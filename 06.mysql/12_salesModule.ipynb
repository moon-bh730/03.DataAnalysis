{
 "cells": [
  {
   "cell_type": "code",
   "execution_count": 25,
   "source": [
    "import json\r\n",
    "\r\n",
    "with open('ini/mysql_local.json', 'r') as file:\r\n",
    " config_str = file.read()\r\n",
    "\r\n",
    "config = json.loads(config_str)"
   ],
   "outputs": [],
   "metadata": {}
  },
  {
   "cell_type": "code",
   "execution_count": 26,
   "source": [
    "import numpy as np\r\n",
    "import pandas as pd\r\n",
    "import matplotlib as mpl\r\n",
    "import matplotlib.pyplot as plt\r\n",
    "\r\n",
    "plt.rc('font', family='Malgun Gothic') \r\n",
    "plt.rcParams['axes.unicode_minus'] = False"
   ],
   "outputs": [],
   "metadata": {}
  },
  {
   "cell_type": "code",
   "execution_count": 27,
   "source": [
    "import db_util as du"
   ],
   "outputs": [],
   "metadata": {}
  },
  {
   "cell_type": "code",
   "execution_count": 7,
   "source": [
    "result = du.get_Monthly(config)\r\n",
    "\r\n",
    "df = pd.DataFrame(result, columns = ['월','매출','이익'])\r\n",
    "df.set_index('월', inplace = True)\r\n",
    "\r\n",
    "df['매출'] = df.매출.astype(int)\r\n",
    "df['이익'] = df.이익.astype(int)\r\n",
    "df"
   ],
   "outputs": [
    {
     "output_type": "execute_result",
     "data": {
      "text/plain": [
       "              매출       이익\n",
       "월                        \n",
       "2020-01   383700   124000\n",
       "2020-02  4049800  1188600\n",
       "2020-03  6402000  1706400\n",
       "2020-04  8047800  1742400\n",
       "2020-05  4928600  1309100\n",
       "2020-06  8092500  1981200\n",
       "2020-07  3023300   803400\n",
       "2020-08  1002700   284000\n",
       "2020-09  3648900  1228200\n",
       "2020-10  5778900  1876200\n",
       "2020-11   414600   188300\n",
       "2020-12  6696600  1563600"
      ],
      "text/html": [
       "<div>\n",
       "<style scoped>\n",
       "    .dataframe tbody tr th:only-of-type {\n",
       "        vertical-align: middle;\n",
       "    }\n",
       "\n",
       "    .dataframe tbody tr th {\n",
       "        vertical-align: top;\n",
       "    }\n",
       "\n",
       "    .dataframe thead th {\n",
       "        text-align: right;\n",
       "    }\n",
       "</style>\n",
       "<table border=\"1\" class=\"dataframe\">\n",
       "  <thead>\n",
       "    <tr style=\"text-align: right;\">\n",
       "      <th></th>\n",
       "      <th>매출</th>\n",
       "      <th>이익</th>\n",
       "    </tr>\n",
       "    <tr>\n",
       "      <th>월</th>\n",
       "      <th></th>\n",
       "      <th></th>\n",
       "    </tr>\n",
       "  </thead>\n",
       "  <tbody>\n",
       "    <tr>\n",
       "      <th>2020-01</th>\n",
       "      <td>383700</td>\n",
       "      <td>124000</td>\n",
       "    </tr>\n",
       "    <tr>\n",
       "      <th>2020-02</th>\n",
       "      <td>4049800</td>\n",
       "      <td>1188600</td>\n",
       "    </tr>\n",
       "    <tr>\n",
       "      <th>2020-03</th>\n",
       "      <td>6402000</td>\n",
       "      <td>1706400</td>\n",
       "    </tr>\n",
       "    <tr>\n",
       "      <th>2020-04</th>\n",
       "      <td>8047800</td>\n",
       "      <td>1742400</td>\n",
       "    </tr>\n",
       "    <tr>\n",
       "      <th>2020-05</th>\n",
       "      <td>4928600</td>\n",
       "      <td>1309100</td>\n",
       "    </tr>\n",
       "    <tr>\n",
       "      <th>2020-06</th>\n",
       "      <td>8092500</td>\n",
       "      <td>1981200</td>\n",
       "    </tr>\n",
       "    <tr>\n",
       "      <th>2020-07</th>\n",
       "      <td>3023300</td>\n",
       "      <td>803400</td>\n",
       "    </tr>\n",
       "    <tr>\n",
       "      <th>2020-08</th>\n",
       "      <td>1002700</td>\n",
       "      <td>284000</td>\n",
       "    </tr>\n",
       "    <tr>\n",
       "      <th>2020-09</th>\n",
       "      <td>3648900</td>\n",
       "      <td>1228200</td>\n",
       "    </tr>\n",
       "    <tr>\n",
       "      <th>2020-10</th>\n",
       "      <td>5778900</td>\n",
       "      <td>1876200</td>\n",
       "    </tr>\n",
       "    <tr>\n",
       "      <th>2020-11</th>\n",
       "      <td>414600</td>\n",
       "      <td>188300</td>\n",
       "    </tr>\n",
       "    <tr>\n",
       "      <th>2020-12</th>\n",
       "      <td>6696600</td>\n",
       "      <td>1563600</td>\n",
       "    </tr>\n",
       "  </tbody>\n",
       "</table>\n",
       "</div>"
      ]
     },
     "metadata": {},
     "execution_count": 7
    }
   ],
   "metadata": {}
  },
  {
   "cell_type": "code",
   "execution_count": 8,
   "source": [
    "tdf = df.T\r\n",
    "tdf['계'] = [df.매출.sum(), df.이익.sum()]"
   ],
   "outputs": [],
   "metadata": {}
  },
  {
   "cell_type": "code",
   "execution_count": 9,
   "source": [
    "tdf"
   ],
   "outputs": [
    {
     "output_type": "execute_result",
     "data": {
      "text/plain": [
       "월   2020-01  2020-02  2020-03  2020-04  2020-05  2020-06  2020-07  2020-08  \\\n",
       "매출   383700  4049800  6402000  8047800  4928600  8092500  3023300  1002700   \n",
       "이익   124000  1188600  1706400  1742400  1309100  1981200   803400   284000   \n",
       "\n",
       "월   2020-09  2020-10  2020-11  2020-12         계  \n",
       "매출  3648900  5778900   414600  6696600  52469400  \n",
       "이익  1228200  1876200   188300  1563600  13995400  "
      ],
      "text/html": [
       "<div>\n",
       "<style scoped>\n",
       "    .dataframe tbody tr th:only-of-type {\n",
       "        vertical-align: middle;\n",
       "    }\n",
       "\n",
       "    .dataframe tbody tr th {\n",
       "        vertical-align: top;\n",
       "    }\n",
       "\n",
       "    .dataframe thead th {\n",
       "        text-align: right;\n",
       "    }\n",
       "</style>\n",
       "<table border=\"1\" class=\"dataframe\">\n",
       "  <thead>\n",
       "    <tr style=\"text-align: right;\">\n",
       "      <th>월</th>\n",
       "      <th>2020-01</th>\n",
       "      <th>2020-02</th>\n",
       "      <th>2020-03</th>\n",
       "      <th>2020-04</th>\n",
       "      <th>2020-05</th>\n",
       "      <th>2020-06</th>\n",
       "      <th>2020-07</th>\n",
       "      <th>2020-08</th>\n",
       "      <th>2020-09</th>\n",
       "      <th>2020-10</th>\n",
       "      <th>2020-11</th>\n",
       "      <th>2020-12</th>\n",
       "      <th>계</th>\n",
       "    </tr>\n",
       "  </thead>\n",
       "  <tbody>\n",
       "    <tr>\n",
       "      <th>매출</th>\n",
       "      <td>383700</td>\n",
       "      <td>4049800</td>\n",
       "      <td>6402000</td>\n",
       "      <td>8047800</td>\n",
       "      <td>4928600</td>\n",
       "      <td>8092500</td>\n",
       "      <td>3023300</td>\n",
       "      <td>1002700</td>\n",
       "      <td>3648900</td>\n",
       "      <td>5778900</td>\n",
       "      <td>414600</td>\n",
       "      <td>6696600</td>\n",
       "      <td>52469400</td>\n",
       "    </tr>\n",
       "    <tr>\n",
       "      <th>이익</th>\n",
       "      <td>124000</td>\n",
       "      <td>1188600</td>\n",
       "      <td>1706400</td>\n",
       "      <td>1742400</td>\n",
       "      <td>1309100</td>\n",
       "      <td>1981200</td>\n",
       "      <td>803400</td>\n",
       "      <td>284000</td>\n",
       "      <td>1228200</td>\n",
       "      <td>1876200</td>\n",
       "      <td>188300</td>\n",
       "      <td>1563600</td>\n",
       "      <td>13995400</td>\n",
       "    </tr>\n",
       "  </tbody>\n",
       "</table>\n",
       "</div>"
      ]
     },
     "metadata": {},
     "execution_count": 9
    }
   ],
   "metadata": {}
  },
  {
   "cell_type": "code",
   "execution_count": 10,
   "source": [
    "df.plot.bar(figsize=(10,6))\r\n",
    "plt.title(\"월별 매출/이익\", size=15)\r\n",
    "plt.grid()\r\n",
    "plt.show()"
   ],
   "outputs": [
    {
     "output_type": "display_data",
     "data": {
      "text/plain": [
       "<Figure size 720x432 with 1 Axes>"
      ],
      "image/svg+xml": "<?xml version=\"1.0\" encoding=\"utf-8\" standalone=\"no\"?>\r\n<!DOCTYPE svg PUBLIC \"-//W3C//DTD SVG 1.1//EN\"\r\n  \"http://www.w3.org/Graphics/SVG/1.1/DTD/svg11.dtd\">\r\n<svg height=\"416.052969pt\" version=\"1.1\" viewBox=\"0 0 584.907812 416.052969\" width=\"584.907812pt\" xmlns=\"http://www.w3.org/2000/svg\" xmlns:xlink=\"http://www.w3.org/1999/xlink\">\r\n <metadata>\r\n  <rdf:RDF xmlns:cc=\"http://creativecommons.org/ns#\" xmlns:dc=\"http://purl.org/dc/elements/1.1/\" xmlns:rdf=\"http://www.w3.org/1999/02/22-rdf-syntax-ns#\">\r\n   <cc:Work>\r\n    <dc:type rdf:resource=\"http://purl.org/dc/dcmitype/StillImage\"/>\r\n    <dc:date>2021-08-26T15:25:29.070469</dc:date>\r\n    <dc:format>image/svg+xml</dc:format>\r\n    <dc:creator>\r\n     <cc:Agent>\r\n      <dc:title>Matplotlib v3.4.2, https://matplotlib.org/</dc:title>\r\n     </cc:Agent>\r\n    </dc:creator>\r\n   </cc:Work>\r\n  </rdf:RDF>\r\n </metadata>\r\n <defs>\r\n  <style type=\"text/css\">*{stroke-linecap:butt;stroke-linejoin:round;}</style>\r\n </defs>\r\n <g id=\"figure_1\">\r\n  <g id=\"patch_1\">\r\n   <path d=\"M 0 416.052969 \r\nL 584.907812 416.052969 \r\nL 584.907812 0 \r\nL 0 0 \r\nz\r\n\" style=\"fill:none;\"/>\r\n  </g>\r\n  <g id=\"axes_1\">\r\n   <g id=\"patch_2\">\r\n    <path d=\"M 19.707813 350.748281 \r\nL 577.707813 350.748281 \r\nL 577.707813 24.588281 \r\nL 19.707813 24.588281 \r\nz\r\n\" style=\"fill:#ffffff;\"/>\r\n   </g>\r\n   <g id=\"patch_3\">\r\n    <path clip-path=\"url(#pd307a656f8)\" d=\"M 31.332813 350.748281 \r\nL 42.957813 350.748281 \r\nL 42.957813 336.020054 \r\nL 31.332813 336.020054 \r\nz\r\n\" style=\"fill:#1f77b4;\"/>\r\n   </g>\r\n   <g id=\"patch_4\">\r\n    <path clip-path=\"url(#pd307a656f8)\" d=\"M 77.832813 350.748281 \r\nL 89.457813 350.748281 \r\nL 89.457813 195.29773 \r\nL 77.832813 195.29773 \r\nz\r\n\" style=\"fill:#1f77b4;\"/>\r\n   </g>\r\n   <g id=\"patch_5\">\r\n    <path clip-path=\"url(#pd307a656f8)\" d=\"M 124.332813 350.748281 \r\nL 135.957812 350.748281 \r\nL 135.957812 105.009126 \r\nL 124.332813 105.009126 \r\nz\r\n\" style=\"fill:#1f77b4;\"/>\r\n   </g>\r\n   <g id=\"patch_6\">\r\n    <path clip-path=\"url(#pd307a656f8)\" d=\"M 170.832812 350.748281 \r\nL 182.457812 350.748281 \r\nL 182.457812 41.835508 \r\nL 170.832812 41.835508 \r\nz\r\n\" style=\"fill:#1f77b4;\"/>\r\n   </g>\r\n   <g id=\"patch_7\">\r\n    <path clip-path=\"url(#pd307a656f8)\" d=\"M 217.332812 350.748281 \r\nL 228.957812 350.748281 \r\nL 228.957812 161.565213 \r\nL 217.332812 161.565213 \r\nz\r\n\" style=\"fill:#1f77b4;\"/>\r\n   </g>\r\n   <g id=\"patch_8\">\r\n    <path clip-path=\"url(#pd307a656f8)\" d=\"M 263.832812 350.748281 \r\nL 275.457812 350.748281 \r\nL 275.457812 40.11971 \r\nL 263.832812 40.11971 \r\nz\r\n\" style=\"fill:#1f77b4;\"/>\r\n   </g>\r\n   <g id=\"patch_9\">\r\n    <path clip-path=\"url(#pd307a656f8)\" d=\"M 310.332812 350.748281 \r\nL 321.957812 350.748281 \r\nL 321.957812 234.699673 \r\nL 310.332812 234.699673 \r\nz\r\n\" style=\"fill:#1f77b4;\"/>\r\n   </g>\r\n   <g id=\"patch_10\">\r\n    <path clip-path=\"url(#pd307a656f8)\" d=\"M 356.832812 350.748281 \r\nL 368.457812 350.748281 \r\nL 368.457812 312.259895 \r\nL 356.832812 312.259895 \r\nz\r\n\" style=\"fill:#1f77b4;\"/>\r\n   </g>\r\n   <g id=\"patch_11\">\r\n    <path clip-path=\"url(#pd307a656f8)\" d=\"M 403.332812 350.748281 \r\nL 414.957812 350.748281 \r\nL 414.957812 210.686175 \r\nL 403.332812 210.686175 \r\nz\r\n\" style=\"fill:#1f77b4;\"/>\r\n   </g>\r\n   <g id=\"patch_12\">\r\n    <path clip-path=\"url(#pd307a656f8)\" d=\"M 449.832812 350.748281 \r\nL 461.457812 350.748281 \r\nL 461.457812 128.926662 \r\nL 449.832812 128.926662 \r\nz\r\n\" style=\"fill:#1f77b4;\"/>\r\n   </g>\r\n   <g id=\"patch_13\">\r\n    <path clip-path=\"url(#pd307a656f8)\" d=\"M 496.332812 350.748281 \r\nL 507.957812 350.748281 \r\nL 507.957812 334.833965 \r\nL 496.332812 334.833965 \r\nz\r\n\" style=\"fill:#1f77b4;\"/>\r\n   </g>\r\n   <g id=\"patch_14\">\r\n    <path clip-path=\"url(#pd307a656f8)\" d=\"M 542.832813 350.748281 \r\nL 554.457813 350.748281 \r\nL 554.457813 93.700979 \r\nL 542.832813 93.700979 \r\nz\r\n\" style=\"fill:#1f77b4;\"/>\r\n   </g>\r\n   <g id=\"patch_15\">\r\n    <path clip-path=\"url(#pd307a656f8)\" d=\"M 42.957813 350.748281 \r\nL 54.582813 350.748281 \r\nL 54.582813 345.988573 \r\nL 42.957813 345.988573 \r\nz\r\n\" style=\"fill:#ff7f0e;\"/>\r\n   </g>\r\n   <g id=\"patch_16\">\r\n    <path clip-path=\"url(#pd307a656f8)\" d=\"M 89.457813 350.748281 \r\nL 101.082813 350.748281 \r\nL 101.082813 305.12417 \r\nL 89.457813 305.12417 \r\nz\r\n\" style=\"fill:#ff7f0e;\"/>\r\n   </g>\r\n   <g id=\"patch_17\">\r\n    <path clip-path=\"url(#pd307a656f8)\" d=\"M 135.957812 350.748281 \r\nL 147.582812 350.748281 \r\nL 147.582812 285.248548 \r\nL 135.957812 285.248548 \r\nz\r\n\" style=\"fill:#ff7f0e;\"/>\r\n   </g>\r\n   <g id=\"patch_18\">\r\n    <path clip-path=\"url(#pd307a656f8)\" d=\"M 182.457812 350.748281 \r\nL 194.082812 350.748281 \r\nL 194.082812 283.866697 \r\nL 182.457812 283.866697 \r\nz\r\n\" style=\"fill:#ff7f0e;\"/>\r\n   </g>\r\n   <g id=\"patch_19\">\r\n    <path clip-path=\"url(#pd307a656f8)\" d=\"M 228.957812 350.748281 \r\nL 240.582812 350.748281 \r\nL 240.582812 300.498808 \r\nL 228.957812 300.498808 \r\nz\r\n\" style=\"fill:#ff7f0e;\"/>\r\n   </g>\r\n   <g id=\"patch_20\">\r\n    <path clip-path=\"url(#pd307a656f8)\" d=\"M 275.457812 350.748281 \r\nL 287.082812 350.748281 \r\nL 287.082812 274.700419 \r\nL 275.457812 274.700419 \r\nz\r\n\" style=\"fill:#ff7f0e;\"/>\r\n   </g>\r\n   <g id=\"patch_21\">\r\n    <path clip-path=\"url(#pd307a656f8)\" d=\"M 321.957812 350.748281 \r\nL 333.582812 350.748281 \r\nL 333.582812 319.909975 \r\nL 321.957812 319.909975 \r\nz\r\n\" style=\"fill:#ff7f0e;\"/>\r\n   </g>\r\n   <g id=\"patch_22\">\r\n    <path clip-path=\"url(#pd307a656f8)\" d=\"M 368.457812 350.748281 \r\nL 380.082812 350.748281 \r\nL 380.082812 339.847013 \r\nL 368.457812 339.847013 \r\nz\r\n\" style=\"fill:#ff7f0e;\"/>\r\n   </g>\r\n   <g id=\"patch_23\">\r\n    <path clip-path=\"url(#pd307a656f8)\" d=\"M 414.957812 350.748281 \r\nL 426.582812 350.748281 \r\nL 426.582812 303.604134 \r\nL 414.957812 303.604134 \r\nz\r\n\" style=\"fill:#ff7f0e;\"/>\r\n   </g>\r\n   <g id=\"patch_24\">\r\n    <path clip-path=\"url(#pd307a656f8)\" d=\"M 461.457812 350.748281 \r\nL 473.082812 350.748281 \r\nL 473.082812 278.730817 \r\nL 461.457812 278.730817 \r\nz\r\n\" style=\"fill:#ff7f0e;\"/>\r\n   </g>\r\n   <g id=\"patch_25\">\r\n    <path clip-path=\"url(#pd307a656f8)\" d=\"M 507.957812 350.748281 \r\nL 519.582813 350.748281 \r\nL 519.582813 343.520433 \r\nL 507.957812 343.520433 \r\nz\r\n\" style=\"fill:#ff7f0e;\"/>\r\n   </g>\r\n   <g id=\"patch_26\">\r\n    <path clip-path=\"url(#pd307a656f8)\" d=\"M 554.457813 350.748281 \r\nL 566.082813 350.748281 \r\nL 566.082813 290.72989 \r\nL 554.457813 290.72989 \r\nz\r\n\" style=\"fill:#ff7f0e;\"/>\r\n   </g>\r\n   <g id=\"matplotlib.axis_1\">\r\n    <g id=\"xtick_1\">\r\n     <g id=\"line2d_1\">\r\n      <path clip-path=\"url(#pd307a656f8)\" d=\"M 42.957813 350.748281 \r\nL 42.957813 24.588281 \r\n\" style=\"fill:none;stroke:#b0b0b0;stroke-linecap:square;stroke-width:0.8;\"/>\r\n     </g>\r\n     <g id=\"line2d_2\">\r\n      <defs>\r\n       <path d=\"M 0 0 \r\nL 0 3.5 \r\n\" id=\"mcd0df6d009\" style=\"stroke:#000000;stroke-width:0.8;\"/>\r\n      </defs>\r\n      <g>\r\n       <use style=\"stroke:#000000;stroke-width:0.8;\" x=\"42.957813\" xlink:href=\"#mcd0df6d009\" y=\"350.748281\"/>\r\n      </g>\r\n     </g>\r\n     <g id=\"text_1\">\r\n      <!-- 2020-01 -->\r\n      <g transform=\"translate(45.571875 394.896719)rotate(-90)scale(0.1 -0.1)\">\r\n       <defs>\r\n        <path d=\"M 2519 3372 \r\nQ 2519 3784 2275 4018 \r\nQ 2031 4253 1628 4253 \r\nQ 1341 4253 1053 4104 \r\nQ 766 3956 534 3697 \r\nL 534 4234 \r\nQ 981 4675 1691 4675 \r\nQ 2281 4675 2642 4334 \r\nQ 3003 3994 3003 3416 \r\nQ 3003 2919 2772 2545 \r\nQ 2541 2172 1984 1775 \r\nQ 1459 1406 1254 1215 \r\nQ 1050 1025 967 854 \r\nQ 884 684 884 450 \r\nL 3116 450 \r\nL 3116 0 \r\nL 356 0 \r\nL 356 225 \r\nQ 356 603 461 870 \r\nQ 566 1138 811 1392 \r\nQ 1056 1647 1597 2022 \r\nQ 2091 2363 2305 2670 \r\nQ 2519 2978 2519 3372 \r\nz\r\n\" id=\"MalgunGothicRegular-32\" transform=\"scale(0.015625)\"/>\r\n        <path d=\"M 278 2206 \r\nQ 278 3425 675 4050 \r\nQ 1072 4675 1819 4675 \r\nQ 3253 4675 3253 2319 \r\nQ 3253 1156 2854 539 \r\nQ 2456 -78 1716 -78 \r\nQ 1016 -78 647 520 \r\nQ 278 1119 278 2206 \r\nz\r\nM 784 2231 \r\nQ 784 344 1769 344 \r\nQ 2747 344 2747 2259 \r\nQ 2747 4250 1794 4250 \r\nQ 784 4250 784 2231 \r\nz\r\n\" id=\"MalgunGothicRegular-30\" transform=\"scale(0.015625)\"/>\r\n        <path d=\"M 2213 1634 \r\nL 463 1634 \r\nL 463 2031 \r\nL 2213 2031 \r\nL 2213 1634 \r\nz\r\n\" id=\"MalgunGothicRegular-2d\" transform=\"scale(0.015625)\"/>\r\n        <path d=\"M 2231 0 \r\nL 1734 0 \r\nL 1734 3972 \r\nQ 1591 3828 1266 3661 \r\nQ 941 3494 672 3428 \r\nL 672 3959 \r\nQ 1016 4056 1409 4275 \r\nQ 1803 4494 2031 4700 \r\nL 2231 4700 \r\nL 2231 0 \r\nz\r\n\" id=\"MalgunGothicRegular-31\" transform=\"scale(0.015625)\"/>\r\n       </defs>\r\n       <use xlink:href=\"#MalgunGothicRegular-32\"/>\r\n       <use x=\"55.078125\" xlink:href=\"#MalgunGothicRegular-30\"/>\r\n       <use x=\"110.15625\" xlink:href=\"#MalgunGothicRegular-32\"/>\r\n       <use x=\"165.234375\" xlink:href=\"#MalgunGothicRegular-30\"/>\r\n       <use x=\"220.3125\" xlink:href=\"#MalgunGothicRegular-2d\"/>\r\n       <use x=\"261.328125\" xlink:href=\"#MalgunGothicRegular-30\"/>\r\n       <use x=\"316.40625\" xlink:href=\"#MalgunGothicRegular-31\"/>\r\n      </g>\r\n     </g>\r\n    </g>\r\n    <g id=\"xtick_2\">\r\n     <g id=\"line2d_3\">\r\n      <path clip-path=\"url(#pd307a656f8)\" d=\"M 89.457813 350.748281 \r\nL 89.457813 24.588281 \r\n\" style=\"fill:none;stroke:#b0b0b0;stroke-linecap:square;stroke-width:0.8;\"/>\r\n     </g>\r\n     <g id=\"line2d_4\">\r\n      <g>\r\n       <use style=\"stroke:#000000;stroke-width:0.8;\" x=\"89.457813\" xlink:href=\"#mcd0df6d009\" y=\"350.748281\"/>\r\n      </g>\r\n     </g>\r\n     <g id=\"text_2\">\r\n      <!-- 2020-02 -->\r\n      <g transform=\"translate(92.071875 394.896719)rotate(-90)scale(0.1 -0.1)\">\r\n       <use xlink:href=\"#MalgunGothicRegular-32\"/>\r\n       <use x=\"55.078125\" xlink:href=\"#MalgunGothicRegular-30\"/>\r\n       <use x=\"110.15625\" xlink:href=\"#MalgunGothicRegular-32\"/>\r\n       <use x=\"165.234375\" xlink:href=\"#MalgunGothicRegular-30\"/>\r\n       <use x=\"220.3125\" xlink:href=\"#MalgunGothicRegular-2d\"/>\r\n       <use x=\"261.328125\" xlink:href=\"#MalgunGothicRegular-30\"/>\r\n       <use x=\"316.40625\" xlink:href=\"#MalgunGothicRegular-32\"/>\r\n      </g>\r\n     </g>\r\n    </g>\r\n    <g id=\"xtick_3\">\r\n     <g id=\"line2d_5\">\r\n      <path clip-path=\"url(#pd307a656f8)\" d=\"M 135.957812 350.748281 \r\nL 135.957812 24.588281 \r\n\" style=\"fill:none;stroke:#b0b0b0;stroke-linecap:square;stroke-width:0.8;\"/>\r\n     </g>\r\n     <g id=\"line2d_6\">\r\n      <g>\r\n       <use style=\"stroke:#000000;stroke-width:0.8;\" x=\"135.957812\" xlink:href=\"#mcd0df6d009\" y=\"350.748281\"/>\r\n      </g>\r\n     </g>\r\n     <g id=\"text_3\">\r\n      <!-- 2020-03 -->\r\n      <g transform=\"translate(138.571875 394.896719)rotate(-90)scale(0.1 -0.1)\">\r\n       <defs>\r\n        <path d=\"M 416 719 \r\nQ 891 344 1478 344 \r\nQ 1959 344 2254 587 \r\nQ 2550 831 2550 1247 \r\nQ 2550 2169 1253 2169 \r\nL 872 2169 \r\nL 872 2591 \r\nL 1234 2591 \r\nQ 2388 2591 2388 3453 \r\nQ 2388 4250 1509 4250 \r\nQ 1022 4250 594 3916 \r\nL 594 4413 \r\nQ 1031 4675 1634 4675 \r\nQ 2184 4675 2539 4372 \r\nQ 2894 4069 2894 3581 \r\nQ 2894 2678 1972 2409 \r\nL 1972 2400 \r\nQ 2469 2356 2764 2053 \r\nQ 3059 1750 3059 1300 \r\nQ 3059 672 2604 297 \r\nQ 2150 -78 1450 -78 \r\nQ 806 -78 416 169 \r\nL 416 719 \r\nz\r\n\" id=\"MalgunGothicRegular-33\" transform=\"scale(0.015625)\"/>\r\n       </defs>\r\n       <use xlink:href=\"#MalgunGothicRegular-32\"/>\r\n       <use x=\"55.078125\" xlink:href=\"#MalgunGothicRegular-30\"/>\r\n       <use x=\"110.15625\" xlink:href=\"#MalgunGothicRegular-32\"/>\r\n       <use x=\"165.234375\" xlink:href=\"#MalgunGothicRegular-30\"/>\r\n       <use x=\"220.3125\" xlink:href=\"#MalgunGothicRegular-2d\"/>\r\n       <use x=\"261.328125\" xlink:href=\"#MalgunGothicRegular-30\"/>\r\n       <use x=\"316.40625\" xlink:href=\"#MalgunGothicRegular-33\"/>\r\n      </g>\r\n     </g>\r\n    </g>\r\n    <g id=\"xtick_4\">\r\n     <g id=\"line2d_7\">\r\n      <path clip-path=\"url(#pd307a656f8)\" d=\"M 182.457812 350.748281 \r\nL 182.457812 24.588281 \r\n\" style=\"fill:none;stroke:#b0b0b0;stroke-linecap:square;stroke-width:0.8;\"/>\r\n     </g>\r\n     <g id=\"line2d_8\">\r\n      <g>\r\n       <use style=\"stroke:#000000;stroke-width:0.8;\" x=\"182.457812\" xlink:href=\"#mcd0df6d009\" y=\"350.748281\"/>\r\n      </g>\r\n     </g>\r\n     <g id=\"text_4\">\r\n      <!-- 2020-04 -->\r\n      <g transform=\"translate(185.071875 394.896719)rotate(-90)scale(0.1 -0.1)\">\r\n       <defs>\r\n        <path d=\"M 2703 4600 \r\nL 2703 1563 \r\nL 3309 1563 \r\nL 3309 1113 \r\nL 2703 1113 \r\nL 2703 0 \r\nL 2213 0 \r\nL 2213 1113 \r\nL 50 1113 \r\nL 50 1534 \r\nQ 728 2297 1295 3109 \r\nQ 1863 3922 2172 4600 \r\nL 2703 4600 \r\nz\r\nM 625 1563 \r\nL 2213 1563 \r\nL 2213 3831 \r\nQ 1613 2788 959 1981 \r\nL 625 1563 \r\nz\r\n\" id=\"MalgunGothicRegular-34\" transform=\"scale(0.015625)\"/>\r\n       </defs>\r\n       <use xlink:href=\"#MalgunGothicRegular-32\"/>\r\n       <use x=\"55.078125\" xlink:href=\"#MalgunGothicRegular-30\"/>\r\n       <use x=\"110.15625\" xlink:href=\"#MalgunGothicRegular-32\"/>\r\n       <use x=\"165.234375\" xlink:href=\"#MalgunGothicRegular-30\"/>\r\n       <use x=\"220.3125\" xlink:href=\"#MalgunGothicRegular-2d\"/>\r\n       <use x=\"261.328125\" xlink:href=\"#MalgunGothicRegular-30\"/>\r\n       <use x=\"316.40625\" xlink:href=\"#MalgunGothicRegular-34\"/>\r\n      </g>\r\n     </g>\r\n    </g>\r\n    <g id=\"xtick_5\">\r\n     <g id=\"line2d_9\">\r\n      <path clip-path=\"url(#pd307a656f8)\" d=\"M 228.957812 350.748281 \r\nL 228.957812 24.588281 \r\n\" style=\"fill:none;stroke:#b0b0b0;stroke-linecap:square;stroke-width:0.8;\"/>\r\n     </g>\r\n     <g id=\"line2d_10\">\r\n      <g>\r\n       <use style=\"stroke:#000000;stroke-width:0.8;\" x=\"228.957812\" xlink:href=\"#mcd0df6d009\" y=\"350.748281\"/>\r\n      </g>\r\n     </g>\r\n     <g id=\"text_5\">\r\n      <!-- 2020-05 -->\r\n      <g transform=\"translate(231.571875 394.896719)rotate(-90)scale(0.1 -0.1)\">\r\n       <defs>\r\n        <path d=\"M 3072 1403 \r\nQ 3072 722 2636 322 \r\nQ 2200 -78 1469 -78 \r\nQ 828 -78 516 113 \r\nL 516 650 \r\nQ 994 344 1475 344 \r\nQ 1969 344 2270 630 \r\nQ 2572 916 2572 1372 \r\nQ 2572 1838 2265 2092 \r\nQ 1959 2347 1381 2347 \r\nQ 994 2347 603 2300 \r\nL 759 4600 \r\nL 2869 4600 \r\nL 2869 4147 \r\nL 1206 4147 \r\nL 1106 2763 \r\nQ 1347 2784 1547 2784 \r\nQ 2263 2784 2667 2414 \r\nQ 3072 2044 3072 1403 \r\nz\r\n\" id=\"MalgunGothicRegular-35\" transform=\"scale(0.015625)\"/>\r\n       </defs>\r\n       <use xlink:href=\"#MalgunGothicRegular-32\"/>\r\n       <use x=\"55.078125\" xlink:href=\"#MalgunGothicRegular-30\"/>\r\n       <use x=\"110.15625\" xlink:href=\"#MalgunGothicRegular-32\"/>\r\n       <use x=\"165.234375\" xlink:href=\"#MalgunGothicRegular-30\"/>\r\n       <use x=\"220.3125\" xlink:href=\"#MalgunGothicRegular-2d\"/>\r\n       <use x=\"261.328125\" xlink:href=\"#MalgunGothicRegular-30\"/>\r\n       <use x=\"316.40625\" xlink:href=\"#MalgunGothicRegular-35\"/>\r\n      </g>\r\n     </g>\r\n    </g>\r\n    <g id=\"xtick_6\">\r\n     <g id=\"line2d_11\">\r\n      <path clip-path=\"url(#pd307a656f8)\" d=\"M 275.457812 350.748281 \r\nL 275.457812 24.588281 \r\n\" style=\"fill:none;stroke:#b0b0b0;stroke-linecap:square;stroke-width:0.8;\"/>\r\n     </g>\r\n     <g id=\"line2d_12\">\r\n      <g>\r\n       <use style=\"stroke:#000000;stroke-width:0.8;\" x=\"275.457812\" xlink:href=\"#mcd0df6d009\" y=\"350.748281\"/>\r\n      </g>\r\n     </g>\r\n     <g id=\"text_6\">\r\n      <!-- 2020-06 -->\r\n      <g transform=\"translate(278.071875 394.896719)rotate(-90)scale(0.1 -0.1)\">\r\n       <defs>\r\n        <path d=\"M 2981 4069 \r\nQ 2619 4250 2228 4250 \r\nQ 1591 4250 1228 3689 \r\nQ 866 3128 869 2213 \r\nL 884 2213 \r\nQ 1203 2872 1938 2872 \r\nQ 2547 2872 2903 2478 \r\nQ 3259 2084 3259 1450 \r\nQ 3259 797 2857 359 \r\nQ 2456 -78 1825 -78 \r\nQ 1116 -78 736 478 \r\nQ 356 1034 356 2019 \r\nQ 356 3181 847 3928 \r\nQ 1338 4675 2222 4675 \r\nQ 2700 4675 2981 4544 \r\nL 2981 4069 \r\nz\r\nM 906 1506 \r\nQ 906 1022 1165 683 \r\nQ 1425 344 1844 344 \r\nQ 2247 344 2498 645 \r\nQ 2750 947 2750 1388 \r\nQ 2750 1888 2509 2167 \r\nQ 2269 2447 1838 2447 \r\nQ 1444 2447 1175 2173 \r\nQ 906 1900 906 1506 \r\nz\r\n\" id=\"MalgunGothicRegular-36\" transform=\"scale(0.015625)\"/>\r\n       </defs>\r\n       <use xlink:href=\"#MalgunGothicRegular-32\"/>\r\n       <use x=\"55.078125\" xlink:href=\"#MalgunGothicRegular-30\"/>\r\n       <use x=\"110.15625\" xlink:href=\"#MalgunGothicRegular-32\"/>\r\n       <use x=\"165.234375\" xlink:href=\"#MalgunGothicRegular-30\"/>\r\n       <use x=\"220.3125\" xlink:href=\"#MalgunGothicRegular-2d\"/>\r\n       <use x=\"261.328125\" xlink:href=\"#MalgunGothicRegular-30\"/>\r\n       <use x=\"316.40625\" xlink:href=\"#MalgunGothicRegular-36\"/>\r\n      </g>\r\n     </g>\r\n    </g>\r\n    <g id=\"xtick_7\">\r\n     <g id=\"line2d_13\">\r\n      <path clip-path=\"url(#pd307a656f8)\" d=\"M 321.957812 350.748281 \r\nL 321.957812 24.588281 \r\n\" style=\"fill:none;stroke:#b0b0b0;stroke-linecap:square;stroke-width:0.8;\"/>\r\n     </g>\r\n     <g id=\"line2d_14\">\r\n      <g>\r\n       <use style=\"stroke:#000000;stroke-width:0.8;\" x=\"321.957812\" xlink:href=\"#mcd0df6d009\" y=\"350.748281\"/>\r\n      </g>\r\n     </g>\r\n     <g id=\"text_7\">\r\n      <!-- 2020-07 -->\r\n      <g transform=\"translate(324.571875 394.896719)rotate(-90)scale(0.1 -0.1)\">\r\n       <defs>\r\n        <path d=\"M 3213 4297 \r\nQ 2478 3006 2064 1918 \r\nQ 1650 831 1550 0 \r\nL 1009 0 \r\nQ 1084 531 1290 1176 \r\nQ 1497 1822 1815 2537 \r\nQ 2134 3253 2631 4147 \r\nL 291 4147 \r\nL 291 4600 \r\nL 3213 4600 \r\nL 3213 4297 \r\nz\r\n\" id=\"MalgunGothicRegular-37\" transform=\"scale(0.015625)\"/>\r\n       </defs>\r\n       <use xlink:href=\"#MalgunGothicRegular-32\"/>\r\n       <use x=\"55.078125\" xlink:href=\"#MalgunGothicRegular-30\"/>\r\n       <use x=\"110.15625\" xlink:href=\"#MalgunGothicRegular-32\"/>\r\n       <use x=\"165.234375\" xlink:href=\"#MalgunGothicRegular-30\"/>\r\n       <use x=\"220.3125\" xlink:href=\"#MalgunGothicRegular-2d\"/>\r\n       <use x=\"261.328125\" xlink:href=\"#MalgunGothicRegular-30\"/>\r\n       <use x=\"316.40625\" xlink:href=\"#MalgunGothicRegular-37\"/>\r\n      </g>\r\n     </g>\r\n    </g>\r\n    <g id=\"xtick_8\">\r\n     <g id=\"line2d_15\">\r\n      <path clip-path=\"url(#pd307a656f8)\" d=\"M 368.457812 350.748281 \r\nL 368.457812 24.588281 \r\n\" style=\"fill:none;stroke:#b0b0b0;stroke-linecap:square;stroke-width:0.8;\"/>\r\n     </g>\r\n     <g id=\"line2d_16\">\r\n      <g>\r\n       <use style=\"stroke:#000000;stroke-width:0.8;\" x=\"368.457812\" xlink:href=\"#mcd0df6d009\" y=\"350.748281\"/>\r\n      </g>\r\n     </g>\r\n     <g id=\"text_8\">\r\n      <!-- 2020-08 -->\r\n      <g transform=\"translate(371.071875 394.896719)rotate(-90)scale(0.1 -0.1)\">\r\n       <defs>\r\n        <path d=\"M 303 1281 \r\nQ 303 1669 539 2011 \r\nQ 775 2353 1153 2494 \r\nQ 856 2647 675 2915 \r\nQ 494 3184 494 3500 \r\nQ 494 3828 659 4098 \r\nQ 825 4369 1122 4522 \r\nQ 1419 4675 1778 4675 \r\nQ 2334 4675 2700 4342 \r\nQ 3066 4009 3066 3500 \r\nQ 3066 3181 2881 2914 \r\nQ 2697 2647 2413 2494 \r\nQ 2788 2350 3022 2009 \r\nQ 3256 1669 3256 1281 \r\nQ 3256 672 2843 297 \r\nQ 2431 -78 1778 -78 \r\nQ 1131 -78 717 301 \r\nQ 303 681 303 1281 \r\nz\r\nM 809 1328 \r\nQ 809 878 1081 611 \r\nQ 1353 344 1781 344 \r\nQ 2206 344 2482 619 \r\nQ 2759 894 2759 1328 \r\nQ 2759 1731 2482 2011 \r\nQ 2206 2291 1781 2291 \r\nQ 1372 2291 1090 2020 \r\nQ 809 1750 809 1328 \r\nz\r\nM 1003 3459 \r\nQ 1003 3125 1234 2900 \r\nQ 1466 2675 1781 2675 \r\nQ 2097 2675 2330 2900 \r\nQ 2563 3125 2563 3459 \r\nQ 2563 3803 2341 4026 \r\nQ 2119 4250 1781 4250 \r\nQ 1450 4250 1226 4029 \r\nQ 1003 3809 1003 3459 \r\nz\r\n\" id=\"MalgunGothicRegular-38\" transform=\"scale(0.015625)\"/>\r\n       </defs>\r\n       <use xlink:href=\"#MalgunGothicRegular-32\"/>\r\n       <use x=\"55.078125\" xlink:href=\"#MalgunGothicRegular-30\"/>\r\n       <use x=\"110.15625\" xlink:href=\"#MalgunGothicRegular-32\"/>\r\n       <use x=\"165.234375\" xlink:href=\"#MalgunGothicRegular-30\"/>\r\n       <use x=\"220.3125\" xlink:href=\"#MalgunGothicRegular-2d\"/>\r\n       <use x=\"261.328125\" xlink:href=\"#MalgunGothicRegular-30\"/>\r\n       <use x=\"316.40625\" xlink:href=\"#MalgunGothicRegular-38\"/>\r\n      </g>\r\n     </g>\r\n    </g>\r\n    <g id=\"xtick_9\">\r\n     <g id=\"line2d_17\">\r\n      <path clip-path=\"url(#pd307a656f8)\" d=\"M 414.957812 350.748281 \r\nL 414.957812 24.588281 \r\n\" style=\"fill:none;stroke:#b0b0b0;stroke-linecap:square;stroke-width:0.8;\"/>\r\n     </g>\r\n     <g id=\"line2d_18\">\r\n      <g>\r\n       <use style=\"stroke:#000000;stroke-width:0.8;\" x=\"414.957812\" xlink:href=\"#mcd0df6d009\" y=\"350.748281\"/>\r\n      </g>\r\n     </g>\r\n     <g id=\"text_9\">\r\n      <!-- 2020-09 -->\r\n      <g transform=\"translate(417.571875 394.896719)rotate(-90)scale(0.1 -0.1)\">\r\n       <defs>\r\n        <path d=\"M 556 563 \r\nQ 941 344 1366 344 \r\nQ 1994 344 2347 855 \r\nQ 2700 1366 2700 2313 \r\nQ 2694 2306 2688 2313 \r\nQ 2388 1713 1653 1713 \r\nQ 1059 1713 682 2120 \r\nQ 306 2528 306 3144 \r\nQ 306 3806 711 4240 \r\nQ 1116 4675 1772 4675 \r\nQ 2466 4675 2833 4131 \r\nQ 3200 3588 3200 2578 \r\nQ 3200 1319 2717 620 \r\nQ 2234 -78 1344 -78 \r\nQ 881 -78 556 78 \r\nL 556 563 \r\nz\r\nM 813 3219 \r\nQ 813 2741 1063 2450 \r\nQ 1313 2159 1759 2159 \r\nQ 2147 2159 2406 2417 \r\nQ 2666 2675 2666 3047 \r\nQ 2666 3556 2411 3903 \r\nQ 2156 4250 1725 4250 \r\nQ 1322 4250 1067 3948 \r\nQ 813 3647 813 3219 \r\nz\r\n\" id=\"MalgunGothicRegular-39\" transform=\"scale(0.015625)\"/>\r\n       </defs>\r\n       <use xlink:href=\"#MalgunGothicRegular-32\"/>\r\n       <use x=\"55.078125\" xlink:href=\"#MalgunGothicRegular-30\"/>\r\n       <use x=\"110.15625\" xlink:href=\"#MalgunGothicRegular-32\"/>\r\n       <use x=\"165.234375\" xlink:href=\"#MalgunGothicRegular-30\"/>\r\n       <use x=\"220.3125\" xlink:href=\"#MalgunGothicRegular-2d\"/>\r\n       <use x=\"261.328125\" xlink:href=\"#MalgunGothicRegular-30\"/>\r\n       <use x=\"316.40625\" xlink:href=\"#MalgunGothicRegular-39\"/>\r\n      </g>\r\n     </g>\r\n    </g>\r\n    <g id=\"xtick_10\">\r\n     <g id=\"line2d_19\">\r\n      <path clip-path=\"url(#pd307a656f8)\" d=\"M 461.457812 350.748281 \r\nL 461.457812 24.588281 \r\n\" style=\"fill:none;stroke:#b0b0b0;stroke-linecap:square;stroke-width:0.8;\"/>\r\n     </g>\r\n     <g id=\"line2d_20\">\r\n      <g>\r\n       <use style=\"stroke:#000000;stroke-width:0.8;\" x=\"461.457812\" xlink:href=\"#mcd0df6d009\" y=\"350.748281\"/>\r\n      </g>\r\n     </g>\r\n     <g id=\"text_10\">\r\n      <!-- 2020-10 -->\r\n      <g transform=\"translate(464.071875 394.896719)rotate(-90)scale(0.1 -0.1)\">\r\n       <use xlink:href=\"#MalgunGothicRegular-32\"/>\r\n       <use x=\"55.078125\" xlink:href=\"#MalgunGothicRegular-30\"/>\r\n       <use x=\"110.15625\" xlink:href=\"#MalgunGothicRegular-32\"/>\r\n       <use x=\"165.234375\" xlink:href=\"#MalgunGothicRegular-30\"/>\r\n       <use x=\"220.3125\" xlink:href=\"#MalgunGothicRegular-2d\"/>\r\n       <use x=\"261.328125\" xlink:href=\"#MalgunGothicRegular-31\"/>\r\n       <use x=\"316.40625\" xlink:href=\"#MalgunGothicRegular-30\"/>\r\n      </g>\r\n     </g>\r\n    </g>\r\n    <g id=\"xtick_11\">\r\n     <g id=\"line2d_21\">\r\n      <path clip-path=\"url(#pd307a656f8)\" d=\"M 507.957812 350.748281 \r\nL 507.957812 24.588281 \r\n\" style=\"fill:none;stroke:#b0b0b0;stroke-linecap:square;stroke-width:0.8;\"/>\r\n     </g>\r\n     <g id=\"line2d_22\">\r\n      <g>\r\n       <use style=\"stroke:#000000;stroke-width:0.8;\" x=\"507.957812\" xlink:href=\"#mcd0df6d009\" y=\"350.748281\"/>\r\n      </g>\r\n     </g>\r\n     <g id=\"text_11\">\r\n      <!-- 2020-11 -->\r\n      <g transform=\"translate(510.571875 394.896719)rotate(-90)scale(0.1 -0.1)\">\r\n       <use xlink:href=\"#MalgunGothicRegular-32\"/>\r\n       <use x=\"55.078125\" xlink:href=\"#MalgunGothicRegular-30\"/>\r\n       <use x=\"110.15625\" xlink:href=\"#MalgunGothicRegular-32\"/>\r\n       <use x=\"165.234375\" xlink:href=\"#MalgunGothicRegular-30\"/>\r\n       <use x=\"220.3125\" xlink:href=\"#MalgunGothicRegular-2d\"/>\r\n       <use x=\"261.328125\" xlink:href=\"#MalgunGothicRegular-31\"/>\r\n       <use x=\"316.40625\" xlink:href=\"#MalgunGothicRegular-31\"/>\r\n      </g>\r\n     </g>\r\n    </g>\r\n    <g id=\"xtick_12\">\r\n     <g id=\"line2d_23\">\r\n      <path clip-path=\"url(#pd307a656f8)\" d=\"M 554.457813 350.748281 \r\nL 554.457813 24.588281 \r\n\" style=\"fill:none;stroke:#b0b0b0;stroke-linecap:square;stroke-width:0.8;\"/>\r\n     </g>\r\n     <g id=\"line2d_24\">\r\n      <g>\r\n       <use style=\"stroke:#000000;stroke-width:0.8;\" x=\"554.457813\" xlink:href=\"#mcd0df6d009\" y=\"350.748281\"/>\r\n      </g>\r\n     </g>\r\n     <g id=\"text_12\">\r\n      <!-- 2020-12 -->\r\n      <g transform=\"translate(557.071875 394.896719)rotate(-90)scale(0.1 -0.1)\">\r\n       <use xlink:href=\"#MalgunGothicRegular-32\"/>\r\n       <use x=\"55.078125\" xlink:href=\"#MalgunGothicRegular-30\"/>\r\n       <use x=\"110.15625\" xlink:href=\"#MalgunGothicRegular-32\"/>\r\n       <use x=\"165.234375\" xlink:href=\"#MalgunGothicRegular-30\"/>\r\n       <use x=\"220.3125\" xlink:href=\"#MalgunGothicRegular-2d\"/>\r\n       <use x=\"261.328125\" xlink:href=\"#MalgunGothicRegular-31\"/>\r\n       <use x=\"316.40625\" xlink:href=\"#MalgunGothicRegular-32\"/>\r\n      </g>\r\n     </g>\r\n    </g>\r\n    <g id=\"text_13\">\r\n     <!-- 월 -->\r\n     <g transform=\"translate(293.707812 406.488906)scale(0.1 -0.1)\">\r\n      <defs>\r\n       <path d=\"M 4984 1888 \r\nL 4984 2125 \r\nL 3706 2125 \r\nL 3706 2509 \r\nL 4984 2509 \r\nL 4984 5466 \r\nL 5453 5466 \r\nL 5453 1888 \r\nL 4984 1888 \r\nz\r\nM 2591 3513 \r\nQ 1894 3513 1491 3769 \r\nQ 1088 4025 1088 4475 \r\nQ 1088 4925 1494 5179 \r\nQ 1900 5434 2591 5434 \r\nQ 3281 5434 3689 5181 \r\nQ 4097 4928 4097 4475 \r\nQ 4097 4019 3692 3766 \r\nQ 3288 3513 2591 3513 \r\nz\r\nM 2591 5056 \r\nQ 2113 5056 1834 4898 \r\nQ 1556 4741 1556 4475 \r\nQ 1556 4206 1836 4048 \r\nQ 2116 3891 2591 3891 \r\nQ 3069 3891 3351 4047 \r\nQ 3634 4203 3634 4475 \r\nQ 3634 4741 3353 4898 \r\nQ 3072 5056 2591 5056 \r\nz\r\nM 4525 2869 \r\nQ 3341 2791 2822 2784 \r\nL 2822 1913 \r\nL 2363 1913 \r\nL 2363 2766 \r\nL 653 2706 \r\nL 581 3122 \r\nQ 1975 3122 4494 3256 \r\nL 4525 2869 \r\nz\r\nM 1569 -447 \r\nL 1569 806 \r\nL 4997 806 \r\nL 4997 1228 \r\nL 1569 1228 \r\nL 1569 1638 \r\nL 5459 1638 \r\nL 5459 416 \r\nL 2028 416 \r\nL 2028 -38 \r\nL 5619 -38 \r\nL 5619 -447 \r\nL 1569 -447 \r\nz\r\n\" id=\"MalgunGothicRegular-c6d4\" transform=\"scale(0.015625)\"/>\r\n      </defs>\r\n      <use xlink:href=\"#MalgunGothicRegular-c6d4\"/>\r\n     </g>\r\n    </g>\r\n   </g>\r\n   <g id=\"matplotlib.axis_2\">\r\n    <g id=\"ytick_1\">\r\n     <g id=\"line2d_25\">\r\n      <path clip-path=\"url(#pd307a656f8)\" d=\"M 19.707813 350.748281 \r\nL 577.707813 350.748281 \r\n\" style=\"fill:none;stroke:#b0b0b0;stroke-linecap:square;stroke-width:0.8;\"/>\r\n     </g>\r\n     <g id=\"line2d_26\">\r\n      <defs>\r\n       <path d=\"M 0 0 \r\nL -3.5 0 \r\n\" id=\"m0641d5e41c\" style=\"stroke:#000000;stroke-width:0.8;\"/>\r\n      </defs>\r\n      <g>\r\n       <use style=\"stroke:#000000;stroke-width:0.8;\" x=\"19.707813\" xlink:href=\"#m0641d5e41c\" y=\"350.748281\"/>\r\n      </g>\r\n     </g>\r\n     <g id=\"text_14\">\r\n      <!-- 0 -->\r\n      <g transform=\"translate(7.2 354.544375)scale(0.1 -0.1)\">\r\n       <use xlink:href=\"#MalgunGothicRegular-30\"/>\r\n      </g>\r\n     </g>\r\n    </g>\r\n    <g id=\"ytick_2\">\r\n     <g id=\"line2d_27\">\r\n      <path clip-path=\"url(#pd307a656f8)\" d=\"M 19.707813 312.363533 \r\nL 577.707813 312.363533 \r\n\" style=\"fill:none;stroke:#b0b0b0;stroke-linecap:square;stroke-width:0.8;\"/>\r\n     </g>\r\n     <g id=\"line2d_28\">\r\n      <g>\r\n       <use style=\"stroke:#000000;stroke-width:0.8;\" x=\"19.707813\" xlink:href=\"#m0641d5e41c\" y=\"312.363533\"/>\r\n      </g>\r\n     </g>\r\n     <g id=\"text_15\">\r\n      <!-- 1 -->\r\n      <g transform=\"translate(7.2 316.159627)scale(0.1 -0.1)\">\r\n       <use xlink:href=\"#MalgunGothicRegular-31\"/>\r\n      </g>\r\n     </g>\r\n    </g>\r\n    <g id=\"ytick_3\">\r\n     <g id=\"line2d_29\">\r\n      <path clip-path=\"url(#pd307a656f8)\" d=\"M 19.707813 273.978786 \r\nL 577.707813 273.978786 \r\n\" style=\"fill:none;stroke:#b0b0b0;stroke-linecap:square;stroke-width:0.8;\"/>\r\n     </g>\r\n     <g id=\"line2d_30\">\r\n      <g>\r\n       <use style=\"stroke:#000000;stroke-width:0.8;\" x=\"19.707813\" xlink:href=\"#m0641d5e41c\" y=\"273.978786\"/>\r\n      </g>\r\n     </g>\r\n     <g id=\"text_16\">\r\n      <!-- 2 -->\r\n      <g transform=\"translate(7.2 277.774879)scale(0.1 -0.1)\">\r\n       <use xlink:href=\"#MalgunGothicRegular-32\"/>\r\n      </g>\r\n     </g>\r\n    </g>\r\n    <g id=\"ytick_4\">\r\n     <g id=\"line2d_31\">\r\n      <path clip-path=\"url(#pd307a656f8)\" d=\"M 19.707813 235.594038 \r\nL 577.707813 235.594038 \r\n\" style=\"fill:none;stroke:#b0b0b0;stroke-linecap:square;stroke-width:0.8;\"/>\r\n     </g>\r\n     <g id=\"line2d_32\">\r\n      <g>\r\n       <use style=\"stroke:#000000;stroke-width:0.8;\" x=\"19.707813\" xlink:href=\"#m0641d5e41c\" y=\"235.594038\"/>\r\n      </g>\r\n     </g>\r\n     <g id=\"text_17\">\r\n      <!-- 3 -->\r\n      <g transform=\"translate(7.2 239.390132)scale(0.1 -0.1)\">\r\n       <use xlink:href=\"#MalgunGothicRegular-33\"/>\r\n      </g>\r\n     </g>\r\n    </g>\r\n    <g id=\"ytick_5\">\r\n     <g id=\"line2d_33\">\r\n      <path clip-path=\"url(#pd307a656f8)\" d=\"M 19.707813 197.20929 \r\nL 577.707813 197.20929 \r\n\" style=\"fill:none;stroke:#b0b0b0;stroke-linecap:square;stroke-width:0.8;\"/>\r\n     </g>\r\n     <g id=\"line2d_34\">\r\n      <g>\r\n       <use style=\"stroke:#000000;stroke-width:0.8;\" x=\"19.707813\" xlink:href=\"#m0641d5e41c\" y=\"197.20929\"/>\r\n      </g>\r\n     </g>\r\n     <g id=\"text_18\">\r\n      <!-- 4 -->\r\n      <g transform=\"translate(7.2 201.005384)scale(0.1 -0.1)\">\r\n       <use xlink:href=\"#MalgunGothicRegular-34\"/>\r\n      </g>\r\n     </g>\r\n    </g>\r\n    <g id=\"ytick_6\">\r\n     <g id=\"line2d_35\">\r\n      <path clip-path=\"url(#pd307a656f8)\" d=\"M 19.707813 158.824542 \r\nL 577.707813 158.824542 \r\n\" style=\"fill:none;stroke:#b0b0b0;stroke-linecap:square;stroke-width:0.8;\"/>\r\n     </g>\r\n     <g id=\"line2d_36\">\r\n      <g>\r\n       <use style=\"stroke:#000000;stroke-width:0.8;\" x=\"19.707813\" xlink:href=\"#m0641d5e41c\" y=\"158.824542\"/>\r\n      </g>\r\n     </g>\r\n     <g id=\"text_19\">\r\n      <!-- 5 -->\r\n      <g transform=\"translate(7.2 162.620636)scale(0.1 -0.1)\">\r\n       <use xlink:href=\"#MalgunGothicRegular-35\"/>\r\n      </g>\r\n     </g>\r\n    </g>\r\n    <g id=\"ytick_7\">\r\n     <g id=\"line2d_37\">\r\n      <path clip-path=\"url(#pd307a656f8)\" d=\"M 19.707813 120.439795 \r\nL 577.707813 120.439795 \r\n\" style=\"fill:none;stroke:#b0b0b0;stroke-linecap:square;stroke-width:0.8;\"/>\r\n     </g>\r\n     <g id=\"line2d_38\">\r\n      <g>\r\n       <use style=\"stroke:#000000;stroke-width:0.8;\" x=\"19.707813\" xlink:href=\"#m0641d5e41c\" y=\"120.439795\"/>\r\n      </g>\r\n     </g>\r\n     <g id=\"text_20\">\r\n      <!-- 6 -->\r\n      <g transform=\"translate(7.2 124.235888)scale(0.1 -0.1)\">\r\n       <use xlink:href=\"#MalgunGothicRegular-36\"/>\r\n      </g>\r\n     </g>\r\n    </g>\r\n    <g id=\"ytick_8\">\r\n     <g id=\"line2d_39\">\r\n      <path clip-path=\"url(#pd307a656f8)\" d=\"M 19.707813 82.055047 \r\nL 577.707813 82.055047 \r\n\" style=\"fill:none;stroke:#b0b0b0;stroke-linecap:square;stroke-width:0.8;\"/>\r\n     </g>\r\n     <g id=\"line2d_40\">\r\n      <g>\r\n       <use style=\"stroke:#000000;stroke-width:0.8;\" x=\"19.707813\" xlink:href=\"#m0641d5e41c\" y=\"82.055047\"/>\r\n      </g>\r\n     </g>\r\n     <g id=\"text_21\">\r\n      <!-- 7 -->\r\n      <g transform=\"translate(7.2 85.851141)scale(0.1 -0.1)\">\r\n       <use xlink:href=\"#MalgunGothicRegular-37\"/>\r\n      </g>\r\n     </g>\r\n    </g>\r\n    <g id=\"ytick_9\">\r\n     <g id=\"line2d_41\">\r\n      <path clip-path=\"url(#pd307a656f8)\" d=\"M 19.707813 43.670299 \r\nL 577.707813 43.670299 \r\n\" style=\"fill:none;stroke:#b0b0b0;stroke-linecap:square;stroke-width:0.8;\"/>\r\n     </g>\r\n     <g id=\"line2d_42\">\r\n      <g>\r\n       <use style=\"stroke:#000000;stroke-width:0.8;\" x=\"19.707813\" xlink:href=\"#m0641d5e41c\" y=\"43.670299\"/>\r\n      </g>\r\n     </g>\r\n     <g id=\"text_22\">\r\n      <!-- 8 -->\r\n      <g transform=\"translate(7.2 47.466393)scale(0.1 -0.1)\">\r\n       <use xlink:href=\"#MalgunGothicRegular-38\"/>\r\n      </g>\r\n     </g>\r\n    </g>\r\n    <g id=\"text_23\">\r\n     <!-- 1e6 -->\r\n     <g transform=\"translate(19.707813 21.588281)scale(0.1 -0.1)\">\r\n      <defs>\r\n       <path d=\"M 3156 1519 \r\nL 828 1519 \r\nQ 844 950 1133 648 \r\nQ 1422 347 1909 347 \r\nQ 2472 347 2934 719 \r\nL 2934 244 \r\nQ 2494 -78 1794 -78 \r\nQ 1100 -78 708 376 \r\nQ 316 831 316 1634 \r\nQ 316 2381 747 2870 \r\nQ 1178 3359 1816 3359 \r\nQ 2453 3359 2804 2942 \r\nQ 3156 2525 3156 1788 \r\nL 3156 1519 \r\nz\r\nM 2644 1956 \r\nQ 2644 2416 2423 2675 \r\nQ 2203 2934 1809 2934 \r\nQ 1438 2934 1169 2667 \r\nQ 900 2400 834 1956 \r\nL 2644 1956 \r\nz\r\n\" id=\"MalgunGothicRegular-65\" transform=\"scale(0.015625)\"/>\r\n      </defs>\r\n      <use xlink:href=\"#MalgunGothicRegular-31\"/>\r\n      <use x=\"55.078125\" xlink:href=\"#MalgunGothicRegular-65\"/>\r\n      <use x=\"108.59375\" xlink:href=\"#MalgunGothicRegular-36\"/>\r\n     </g>\r\n    </g>\r\n   </g>\r\n   <g id=\"patch_27\">\r\n    <path d=\"M 19.707813 350.748281 \r\nL 19.707813 24.588281 \r\n\" style=\"fill:none;stroke:#000000;stroke-linecap:square;stroke-linejoin:miter;stroke-width:0.8;\"/>\r\n   </g>\r\n   <g id=\"patch_28\">\r\n    <path d=\"M 577.707813 350.748281 \r\nL 577.707813 24.588281 \r\n\" style=\"fill:none;stroke:#000000;stroke-linecap:square;stroke-linejoin:miter;stroke-width:0.8;\"/>\r\n   </g>\r\n   <g id=\"patch_29\">\r\n    <path d=\"M 19.707813 350.748281 \r\nL 577.707813 350.748281 \r\n\" style=\"fill:none;stroke:#000000;stroke-linecap:square;stroke-linejoin:miter;stroke-width:0.8;\"/>\r\n   </g>\r\n   <g id=\"patch_30\">\r\n    <path d=\"M 19.707813 24.588281 \r\nL 577.707813 24.588281 \r\n\" style=\"fill:none;stroke:#000000;stroke-linecap:square;stroke-linejoin:miter;stroke-width:0.8;\"/>\r\n   </g>\r\n   <g id=\"text_24\">\r\n    <!-- 월별 매출/이익 -->\r\n    <g transform=\"translate(248.101562 18.588281)scale(0.15 -0.15)\">\r\n     <defs>\r\n      <path d=\"M 1038 2578 \r\nL 1038 5288 \r\nL 1497 5288 \r\nL 1497 4294 \r\nL 3366 4294 \r\nL 3366 5288 \r\nL 3828 5288 \r\nL 3828 4666 \r\nL 4947 4666 \r\nL 4947 5466 \r\nL 5416 5466 \r\nL 5416 2259 \r\nL 4947 2259 \r\nL 4947 3128 \r\nL 3828 3128 \r\nL 3828 2578 \r\nL 1038 2578 \r\nz\r\nM 3828 4263 \r\nL 3828 3525 \r\nL 4947 3525 \r\nL 4947 4263 \r\nL 3828 4263 \r\nz\r\nM 3366 3884 \r\nL 1497 3884 \r\nL 1497 2994 \r\nL 3366 2994 \r\nL 3366 3884 \r\nz\r\nM 1728 -488 \r\nL 1728 947 \r\nL 4953 947 \r\nL 4953 1516 \r\nL 1728 1516 \r\nL 1728 1925 \r\nL 5416 1925 \r\nL 5416 550 \r\nL 2194 550 \r\nL 2194 -72 \r\nL 5581 -72 \r\nL 5581 -488 \r\nL 1728 -488 \r\nz\r\n\" id=\"MalgunGothicRegular-bcc4\" transform=\"scale(0.015625)\"/>\r\n      <path id=\"MalgunGothicRegular-20\" transform=\"scale(0.015625)\"/>\r\n      <path d=\"M 5069 -563 \r\nL 5069 2584 \r\nL 4313 2584 \r\nL 4313 -378 \r\nL 3853 -378 \r\nL 3853 5344 \r\nL 4313 5344 \r\nL 4313 3003 \r\nL 5069 3003 \r\nL 5069 5466 \r\nL 5538 5466 \r\nL 5538 -563 \r\nL 5069 -563 \r\nz\r\nM 763 1197 \r\nL 763 4928 \r\nL 3175 4928 \r\nL 3175 1197 \r\nL 763 1197 \r\nz\r\nM 2713 4519 \r\nL 1222 4519 \r\nL 1222 1606 \r\nL 2713 1606 \r\nL 2713 4519 \r\nz\r\n\" id=\"MalgunGothicRegular-b9e4\" transform=\"scale(0.015625)\"/>\r\n      <path d=\"M 5466 3334 \r\nQ 4759 3400 4114 3664 \r\nQ 3469 3928 3213 4225 \r\nQ 2966 3931 2323 3670 \r\nQ 1681 3409 966 3341 \r\nL 709 3750 \r\nQ 1328 3725 2017 3970 \r\nQ 2706 4216 2906 4603 \r\nL 1056 4603 \r\nL 1056 5019 \r\nL 2969 5019 \r\nL 2969 5550 \r\nL 3444 5550 \r\nL 3444 5019 \r\nL 5344 5019 \r\nL 5344 4603 \r\nL 3494 4603 \r\nQ 3691 4241 4356 3995 \r\nQ 5022 3750 5691 3750 \r\nL 5466 3334 \r\nz\r\nM 1319 -416 \r\nL 1319 947 \r\nL 4616 947 \r\nL 4616 1478 \r\nL 1319 1478 \r\nL 1319 1888 \r\nL 2963 1888 \r\nL 2963 2484 \r\nL 403 2484 \r\nL 403 2900 \r\nL 5997 2900 \r\nL 5997 2484 \r\nL 3438 2484 \r\nL 3438 1888 \r\nL 5075 1888 \r\nL 5075 544 \r\nL 1778 544 \r\nL 1778 0 \r\nL 5234 0 \r\nL 5234 -416 \r\nL 1319 -416 \r\nz\r\n\" id=\"MalgunGothicRegular-cd9c\" transform=\"scale(0.015625)\"/>\r\n      <path d=\"M 2584 4600 \r\nL 378 -763 \r\nL -84 -763 \r\nL 2113 4600 \r\nL 2584 4600 \r\nz\r\n\" id=\"MalgunGothicRegular-2f\" transform=\"scale(0.015625)\"/>\r\n      <path d=\"M 4947 -563 \r\nL 4947 5466 \r\nL 5416 5466 \r\nL 5416 -563 \r\nL 4947 -563 \r\nz\r\nM 2284 959 \r\nQ 1597 959 1173 1514 \r\nQ 750 2069 750 3016 \r\nQ 750 3975 1169 4522 \r\nQ 1588 5069 2284 5069 \r\nQ 2978 5069 3403 4522 \r\nQ 3828 3975 3828 3016 \r\nQ 3828 2063 3401 1511 \r\nQ 2975 959 2284 959 \r\nz\r\nM 2284 4653 \r\nQ 1803 4653 1503 4204 \r\nQ 1203 3756 1203 3016 \r\nQ 1203 2278 1506 1826 \r\nQ 1809 1375 2284 1375 \r\nQ 2756 1375 3061 1828 \r\nQ 3366 2281 3366 3016 \r\nQ 3366 3759 3067 4206 \r\nQ 2769 4653 2284 4653 \r\nz\r\n\" id=\"MalgunGothicRegular-c774\" transform=\"scale(0.015625)\"/>\r\n      <path d=\"M 4953 2069 \r\nL 4953 5466 \r\nL 5428 5466 \r\nL 5428 2069 \r\nL 4953 2069 \r\nz\r\nM 2400 2394 \r\nQ 1728 2394 1300 2808 \r\nQ 872 3222 872 3847 \r\nQ 872 4469 1297 4881 \r\nQ 1722 5294 2400 5294 \r\nQ 3078 5294 3508 4883 \r\nQ 3938 4472 3938 3847 \r\nQ 3938 3216 3506 2805 \r\nQ 3075 2394 2400 2394 \r\nz\r\nM 2400 4897 \r\nQ 1928 4897 1633 4601 \r\nQ 1338 4306 1338 3847 \r\nQ 1338 3381 1631 3089 \r\nQ 1925 2797 2400 2797 \r\nQ 2878 2797 3173 3090 \r\nQ 3469 3384 3469 3847 \r\nQ 3469 4300 3173 4598 \r\nQ 2878 4897 2400 4897 \r\nz\r\nM 4953 -563 \r\nL 4953 1319 \r\nL 1478 1319 \r\nL 1478 1734 \r\nL 5428 1734 \r\nL 5428 -563 \r\nL 4953 -563 \r\nz\r\n\" id=\"MalgunGothicRegular-c775\" transform=\"scale(0.015625)\"/>\r\n     </defs>\r\n     <use xlink:href=\"#MalgunGothicRegular-c6d4\"/>\r\n     <use x=\"100\" xlink:href=\"#MalgunGothicRegular-bcc4\"/>\r\n     <use x=\"200\" xlink:href=\"#MalgunGothicRegular-20\"/>\r\n     <use x=\"235.15625\" xlink:href=\"#MalgunGothicRegular-b9e4\"/>\r\n     <use x=\"335.15625\" xlink:href=\"#MalgunGothicRegular-cd9c\"/>\r\n     <use x=\"435.15625\" xlink:href=\"#MalgunGothicRegular-2f\"/>\r\n     <use x=\"474.755859\" xlink:href=\"#MalgunGothicRegular-c774\"/>\r\n     <use x=\"574.755859\" xlink:href=\"#MalgunGothicRegular-c775\"/>\r\n    </g>\r\n   </g>\r\n   <g id=\"legend_1\">\r\n    <g id=\"patch_31\">\r\n     <path d=\"M 518.707813 62.500781 \r\nL 570.707813 62.500781 \r\nQ 572.707813 62.500781 572.707813 60.500781 \r\nL 572.707813 31.588281 \r\nQ 572.707813 29.588281 570.707813 29.588281 \r\nL 518.707813 29.588281 \r\nQ 516.707813 29.588281 516.707813 31.588281 \r\nL 516.707813 60.500781 \r\nQ 516.707813 62.500781 518.707813 62.500781 \r\nz\r\n\" style=\"fill:#ffffff;opacity:0.8;stroke:#cccccc;stroke-linejoin:miter;\"/>\r\n    </g>\r\n    <g id=\"patch_32\">\r\n     <path d=\"M 520.707813 41.180469 \r\nL 540.707813 41.180469 \r\nL 540.707813 34.180469 \r\nL 520.707813 34.180469 \r\nz\r\n\" style=\"fill:#1f77b4;\"/>\r\n    </g>\r\n    <g id=\"text_25\">\r\n     <!-- 매출 -->\r\n     <g transform=\"translate(548.707813 41.180469)scale(0.1 -0.1)\">\r\n      <use xlink:href=\"#MalgunGothicRegular-b9e4\"/>\r\n      <use x=\"100\" xlink:href=\"#MalgunGothicRegular-cd9c\"/>\r\n     </g>\r\n    </g>\r\n    <g id=\"patch_33\">\r\n     <path d=\"M 520.707813 56.136719 \r\nL 540.707813 56.136719 \r\nL 540.707813 49.136719 \r\nL 520.707813 49.136719 \r\nz\r\n\" style=\"fill:#ff7f0e;\"/>\r\n    </g>\r\n    <g id=\"text_26\">\r\n     <!-- 이익 -->\r\n     <g transform=\"translate(548.707813 56.136719)scale(0.1 -0.1)\">\r\n      <use xlink:href=\"#MalgunGothicRegular-c774\"/>\r\n      <use x=\"100\" xlink:href=\"#MalgunGothicRegular-c775\"/>\r\n     </g>\r\n    </g>\r\n   </g>\r\n  </g>\r\n </g>\r\n <defs>\r\n  <clipPath id=\"pd307a656f8\">\r\n   <rect height=\"326.16\" width=\"558\" x=\"19.707813\" y=\"24.588281\"/>\r\n  </clipPath>\r\n </defs>\r\n</svg>\r\n",
      "image/png": "[encoded data removed]"
     },
     "metadata": {
      "needs_background": "light"
     }
    }
   ],
   "metadata": {}
  },
  {
   "cell_type": "code",
   "execution_count": 17,
   "source": [
    "# print(du.get_ByCustomer(config))\r\n",
    "# print(du.get_Item_ByCustomer(config))\r\n",
    "print(du.get_Summary_ByItem(config))\r\n",
    "# print(du.get_Summary_ByCategory(config))      --요건 수정필요"
   ],
   "outputs": [
    {
     "output_type": "stream",
     "name": "stdout",
     "text": [
      "(('워시팝피치핑크', Decimal('22'), 950000.0, 450000.0), ('와인잔거치대', Decimal('57'), 383900.0, 110000.0), ('미러볼라이트', Decimal('52'), 169000.0, 40000.0), ('스마트폰거치대', Decimal('28'), 153300.0, 63000.0), ('스니커즈', Decimal('22'), 840000.0, 77000.0), ('무지셔츠', Decimal('50'), 178400.0, 36000.0), ('식기세트', Decimal('40'), 990000.0, 306000.0), ('벨트', Decimal('38'), 250000.0, 81000.0), ('선글라스', Decimal('69'), 1792000.0, 1317400.0), ('퍼퓸샴푸', Decimal('57'), 253000.0, 50600.0), ('블루투스키보드', Decimal('19'), 162000.0, 12500.0), ('워시팝코코넛화이트', Decimal('33'), 1330000.0, 630000.0), ('구공향로', Decimal('40'), 811800.0, 163800.0), ('손세정디스펜서', Decimal('60'), 643500.0, 75000.0), ('트리코트자켓', Decimal('40'), 1352000.0, 969600.0), ('닥터하우스웜스텐우드', Decimal('51'), 1300000.0, 650000.0), ('팔성화로', Decimal('41'), 973000.0, 366800.0), ('블루투스턴테이블', Decimal('36'), 3000000.0, 510000.0), ('냉풍시트', Decimal('8'), 258000.0, 160000.0), ('마스크', Decimal('47'), 88200.0, 16200.0), ('등산벨트', Decimal('33'), 133000.0, 94500.0), ('고속멀티충전기', Decimal('67'), 605000.0, 276100.0), ('로봇청소기', Decimal('17'), 3945000.0, 500000.0), ('바디스파', Decimal('72'), 5880000.0, 1080000.0), ('와그너스틸안경', Decimal('37'), 1050000.0, 560000.0), ('자켓', Decimal('41'), 623000.0, 210000.0), ('텀블러', Decimal('53'), 179100.0, 90000.0), ('지샥머드마스터', Decimal('45'), 3510000.0, 1080000.0), ('파워스테이션', Decimal('55'), 5211000.0, 747000.0), ('밴딩팬츠', Decimal('41'), 473000.0, 165000.0), ('무선이어폰이어셋', Decimal('29'), 1113000.0, 504000.0), ('노이즈캔슬링이어폰', Decimal('46'), 2792000.0, 472800.0), ('세정제', Decimal('64'), 165600.0, 22800.0), ('우산', Decimal('45'), 243000.0, 36000.0), ('구강세정기', Decimal('74'), 599200.0, 110600.0), ('시네마빔프로젝터', Decimal('18'), 9950000.0, 1905000.0), ('코코넛샌들', Decimal('37'), 83400.0, 50400.0), ('클리너', Decimal('24'), 36000.0, 6300.0))\n"
     ]
    }
   ],
   "metadata": {}
  }
 ],
 "metadata": {
  "orig_nbformat": 4,
  "language_info": {
   "name": "python",
   "version": "3.8.10",
   "mimetype": "text/x-python",
   "codemirror_mode": {
    "name": "ipython",
    "version": 3
   },
   "pygments_lexer": "ipython3",
   "nbconvert_exporter": "python",
   "file_extension": ".py"
  },
  "kernelspec": {
   "name": "python3",
   "display_name": "Python 3.8.10 64-bit ('btfsop': conda)"
  },
  "interpreter": {
   "hash": "795bef2181d8c1d673d637ebabbfa46c3363c718d3652ae25a9a4fec543c87a1"
  }
 },
 "nbformat": 4,
 "nbformat_minor": 2
}
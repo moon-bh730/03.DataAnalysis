{
 "cells": [
  {
   "cell_type": "code",
   "execution_count": 1,
   "source": [
    "import json\r\n",
    "\r\n",
    "with open('ini/mysql_local.json', 'r') as file:\r\n",
    " config_str = file.read()\r\n",
    "\r\n",
    "config = json.loads(config_str)\r\n",
    "\r\n",
    "import pymysql\r\n",
    "\r\n",
    "conn = pymysql.connect(\r\n",
    " host = config['host'],\r\n",
    " user = config['user'],\r\n",
    " password = config['password'],\r\n",
    " database = config['database'],\r\n",
    " port = config['port']\r\n",
    ")"
   ],
   "outputs": [],
   "metadata": {}
  },
  {
   "cell_type": "code",
   "execution_count": 3,
   "source": [
    "cur = conn.cursor()\r\n",
    "cur.execute(\"SELECT id, date_format(dt, '%y-%m-%d %h:%i') as my_date from date_table ;\")"
   ],
   "outputs": [
    {
     "output_type": "execute_result",
     "data": {
      "text/plain": [
       "8"
      ]
     },
     "metadata": {},
     "execution_count": 3
    }
   ],
   "metadata": {}
  },
  {
   "cell_type": "code",
   "execution_count": 4,
   "source": [
    "for row in cur.fetchall():\r\n",
    "    print(row)"
   ],
   "outputs": [
    {
     "output_type": "stream",
     "name": "stdout",
     "text": [
      "(1, '17-08-28 05:22')\n",
      "(2, '17-02-15 10:22')\n",
      "(3, '17-12-09 10:13')\n",
      "(4, '18-07-06 08:15')\n",
      "(5, '21-08-24 03:03')\n",
      "(6, '21-08-24 03:03')\n",
      "(7, '21-08-24 03:03')\n",
      "(8, '21-08-24 03:03')\n"
     ]
    }
   ],
   "metadata": {}
  },
  {
   "cell_type": "code",
   "execution_count": 5,
   "source": [
    "cur.close()\r\n",
    "conn.close()"
   ],
   "outputs": [],
   "metadata": {}
  }
 ],
 "metadata": {
  "orig_nbformat": 4,
  "language_info": {
   "name": "python",
   "version": "3.8.10",
   "mimetype": "text/x-python",
   "codemirror_mode": {
    "name": "ipython",
    "version": 3
   },
   "pygments_lexer": "ipython3",
   "nbconvert_exporter": "python",
   "file_extension": ".py"
  },
  "kernelspec": {
   "name": "python3",
   "display_name": "Python 3.8.10 64-bit ('btfsop': conda)"
  },
  "interpreter": {
   "hash": "795bef2181d8c1d673d637ebabbfa46c3363c718d3652ae25a9a4fec543c87a1"
  }
 },
 "nbformat": 4,
 "nbformat_minor": 2
}
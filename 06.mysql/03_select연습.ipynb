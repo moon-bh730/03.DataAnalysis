{
 "cells": [
  {
   "cell_type": "markdown",
   "source": [
    "# mysql - 조회하는 방법"
   ],
   "metadata": {}
  },
  {
   "cell_type": "code",
   "execution_count": 2,
   "source": [
    "import json\r\n",
    "\r\n",
    "with open('ini/mysql_local.json', 'r') as file:\r\n",
    " config_str = file.read()\r\n",
    "\r\n",
    "config = json.loads(config_str)\r\n",
    "\r\n",
    "import pymysql\r\n",
    "\r\n",
    "conn = pymysql.connect(\r\n",
    " host = config['host'],\r\n",
    " user = config['user'],\r\n",
    " password = config['password'],\r\n",
    " database = config['database'],\r\n",
    " port = config['port']\r\n",
    ")"
   ],
   "outputs": [],
   "metadata": {}
  },
  {
   "cell_type": "markdown",
   "source": [
    "## 데이터 조회"
   ],
   "metadata": {}
  },
  {
   "cell_type": "markdown",
   "source": [
    "- 1 건 조회"
   ],
   "metadata": {}
  },
  {
   "cell_type": "code",
   "execution_count": 3,
   "source": [
    "sql_select = \"\"\"\r\n",
    "    SELECT uid, uname, email, DATE_FORMAT(reg_date,'%y-%m-%n %h:%i') AS reg_date\r\n",
    "    FROM users WHERE is_deleted = 0\r\n",
    "    ORDER BY reg_date;\r\n",
    "\"\"\""
   ],
   "outputs": [],
   "metadata": {}
  },
  {
   "cell_type": "code",
   "execution_count": 4,
   "source": [
    "cur = conn.cursor()\r\n",
    "cur.execute(sql_select)\r\n",
    "row = cur.fetchone();\r\n",
    "row"
   ],
   "outputs": [
    {
     "output_type": "execute_result",
     "data": {
      "text/plain": [
       "('admin', '관리자', None, '21-08-n 01:28')"
      ]
     },
     "metadata": {},
     "execution_count": 4
    }
   ],
   "metadata": {}
  },
  {
   "cell_type": "code",
   "execution_count": 14,
   "source": [
    "row = cur.fetchone\r\n",
    "row         # 맨 아래에서 close한후 돌렷음"
   ],
   "outputs": [
    {
     "output_type": "execute_result",
     "data": {
      "text/plain": [
       "<bound method Cursor.fetchone of <pymysql.cursors.Cursor object at 0x0000001478245040>>"
      ]
     },
     "metadata": {},
     "execution_count": 14
    }
   ],
   "metadata": {}
  },
  {
   "cell_type": "markdown",
   "source": [
    "- 여러건 조회"
   ],
   "metadata": {}
  },
  {
   "cell_type": "code",
   "execution_count": 6,
   "source": [
    "cur = conn.cursor()\r\n",
    "cur.execute(sql_select)\r\n",
    "rows = cur.fetchmany(3);\r\n",
    "rows"
   ],
   "outputs": [
    {
     "output_type": "execute_result",
     "data": {
      "text/plain": [
       "(('admin', '관리자', None, '21-08-n 01:28'),\n",
       " ('dskim', '김은숙', None, '21-08-n 01:37'),\n",
       " ('wjlee', '이우정', None, '21-08-n 01:37'))"
      ]
     },
     "metadata": {},
     "execution_count": 6
    }
   ],
   "metadata": {}
  },
  {
   "cell_type": "code",
   "execution_count": 7,
   "source": [
    "cur = conn.cursor()\r\n",
    "cur.execute(sql_select)\r\n",
    "rows = cur.fetchall();\r\n",
    "rows"
   ],
   "outputs": [
    {
     "output_type": "execute_result",
     "data": {
      "text/plain": [
       "(('admin', '관리자', None, '21-08-n 01:28'),\n",
       " ('dskim', '김은숙', None, '21-08-n 01:37'),\n",
       " ('wjlee', '이우정', None, '21-08-n 01:37'),\n",
       " ('cpg', '칠팔구', None, '21-08-n 02:06'),\n",
       " ('gdhong', '홍길동', None, '21-08-n 02:06'),\n",
       " ('soy', '사오육', None, '21-08-n 02:06'))"
      ]
     },
     "metadata": {},
     "execution_count": 7
    }
   ],
   "metadata": {}
  },
  {
   "cell_type": "markdown",
   "source": [
    "- 반복문을 사용해서 조회"
   ],
   "metadata": {}
  },
  {
   "cell_type": "code",
   "execution_count": 8,
   "source": [
    "cur = conn.cursor()\r\n",
    "cur.execute(sql_select)\r\n",
    "for row in cur:\r\n",
    "    print(row)"
   ],
   "outputs": [
    {
     "output_type": "stream",
     "name": "stdout",
     "text": [
      "('admin', '관리자', None, '21-08-n 01:28')\n",
      "('dskim', '김은숙', None, '21-08-n 01:37')\n",
      "('wjlee', '이우정', None, '21-08-n 01:37')\n",
      "('cpg', '칠팔구', None, '21-08-n 02:06')\n",
      "('gdhong', '홍길동', None, '21-08-n 02:06')\n",
      "('soy', '사오육', None, '21-08-n 02:06')\n"
     ]
    }
   ],
   "metadata": {}
  },
  {
   "cell_type": "markdown",
   "source": [
    "## 데이터 검색"
   ],
   "metadata": {}
  },
  {
   "cell_type": "code",
   "execution_count": 10,
   "source": [
    "uid = 'dskim'\r\n",
    "sql_search = \"\"\"\r\n",
    "        SELECT uid, uname, email, DATE_FORMAT(reg_date,'%%y-%%m-%%n %%h:%%i') AS reg_date\r\n",
    "        FROM users WHERE is_deleted = 0 AND uid = %s;\r\n",
    "\"\"\"\r\n",
    "cur = conn.cursor()\r\n",
    "cur.execute(sql_search,(uid,))\r\n",
    "result = cur.fetchone()"
   ],
   "outputs": [],
   "metadata": {}
  },
  {
   "cell_type": "code",
   "execution_count": 11,
   "source": [
    "result"
   ],
   "outputs": [
    {
     "output_type": "execute_result",
     "data": {
      "text/plain": [
       "('dskim', '김은숙', None, '21-08-n 01:37')"
      ]
     },
     "metadata": {},
     "execution_count": 11
    }
   ],
   "metadata": {}
  },
  {
   "cell_type": "markdown",
   "source": [
    "- 데이터가 없는경우"
   ],
   "metadata": {}
  },
  {
   "cell_type": "code",
   "execution_count": 12,
   "source": [
    "uid = 'park'\r\n",
    "cur = conn.cursor()\r\n",
    "cur.execute(sql_search,(uid,))\r\n",
    "result = cur.fetchone()\r\n",
    "\r\n",
    "if result:\r\n",
    "    print(result)\r\n",
    "else:\r\n",
    "    print(f'uid={uid}인 사용자는 없습니다.')"
   ],
   "outputs": [
    {
     "output_type": "stream",
     "name": "stdout",
     "text": [
      "uid=park인 사용자는 없습니다.\n"
     ]
    }
   ],
   "metadata": {}
  },
  {
   "cell_type": "code",
   "execution_count": 13,
   "source": [
    "cur.close()\r\n",
    "conn.close()"
   ],
   "outputs": [],
   "metadata": {}
  }
 ],
 "metadata": {
  "orig_nbformat": 4,
  "language_info": {
   "name": "python",
   "version": "3.8.10",
   "mimetype": "text/x-python",
   "codemirror_mode": {
    "name": "ipython",
    "version": 3
   },
   "pygments_lexer": "ipython3",
   "nbconvert_exporter": "python",
   "file_extension": ".py"
  },
  "kernelspec": {
   "name": "python3",
   "display_name": "Python 3.8.10 64-bit ('btfsop': conda)"
  },
  "interpreter": {
   "hash": "795bef2181d8c1d673d637ebabbfa46c3363c718d3652ae25a9a4fec543c87a1"
  }
 },
 "nbformat": 4,
 "nbformat_minor": 2
}
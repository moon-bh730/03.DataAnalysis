{
 "cells": [
  {
   "cell_type": "markdown",
   "source": [
    "# 1. table 생성"
   ],
   "metadata": {}
  },
  {
   "cell_type": "code",
   "execution_count": 18,
   "source": [
    "import json\r\n",
    "\r\n",
    "with open('ini/mysql_local.json', 'r') as file:\r\n",
    " config_str = file.read()\r\n",
    "\r\n",
    "config = json.loads(config_str)\r\n",
    "\r\n",
    "import pymysql\r\n",
    "\r\n",
    "conn = pymysql.connect(\r\n",
    " host = config['host'],\r\n",
    " user = config['user'],\r\n",
    " password = config['password'],\r\n",
    " database = config['database'],\r\n",
    " port = config['port']\r\n",
    ")\r\n",
    "cur = conn.cursor()"
   ],
   "outputs": [],
   "metadata": {}
  },
  {
   "cell_type": "code",
   "execution_count": 20,
   "source": [
    "\r\n",
    "sql_table = '''\r\n",
    "CREATE TABLE IF NOT EXISTS products (    \r\n",
    "pid         INT AUTO_INCREMENT PRIMARY KEY,\r\n",
    "pname       VARCHAR(50) NOT NULL,\r\n",
    "pprice      FLOAT NOT NULL,\r\n",
    "pcategory   VARCHAR(20) NOT NULL,\r\n",
    "pcost       FLOAT NOT NULL  \r\n",
    " );\r\n",
    "'''\r\n",
    "cur.execute(sql_table)\r\n",
    "\r\n",
    "sql_table = '''\r\n",
    "CREATE TABLE IF NOT EXISTS sales (\r\n",
    "sid         INT AUTO_INCREMENT PRIMARY KEY,\r\n",
    "sdate       VARCHAR(50) NOT NULL,\r\n",
    "scompany    VARCHAR(50) NOT NULL,      \r\n",
    "spid        INT NOT NULL, \r\n",
    "sunit       INT NOT NULL        \r\n",
    " );\r\n",
    "'''\r\n",
    "cur.execute(sql_table)"
   ],
   "outputs": [
    {
     "output_type": "execute_result",
     "data": {
      "text/plain": [
       "0"
      ]
     },
     "metadata": {},
     "execution_count": 20
    }
   ],
   "metadata": {}
  },
  {
   "cell_type": "markdown",
   "source": [
    "# 2. 값 집어넣기"
   ],
   "metadata": {}
  },
  {
   "cell_type": "markdown",
   "source": [
    "- 상품정보 만들기"
   ],
   "metadata": {}
  },
  {
   "cell_type": "code",
   "execution_count": 19,
   "source": [
    "#  테이블 데이터 초기화\r\n",
    "\r\n",
    "# sql_table = '''\r\n",
    "# TRUNCATE TABLE products;\r\n",
    "# '''\r\n",
    "# cur.execute(sql_table)\r\n",
    "\r\n",
    "# sql_table = '''\r\n",
    "# TRUNCATE TABLE sales;\r\n",
    "# '''\r\n",
    "# cur.execute(sql_table)\r\n",
    "\r\n",
    "# sql_table = '''\r\n",
    "# drop TABLE products;\r\n",
    "# '''\r\n",
    "# cur.execute(sql_table)\r\n",
    "\r\n",
    "# sql_table = '''\r\n",
    "# drop TABLE SALES;\r\n",
    "# '''\r\n",
    "# cur.execute(sql_table)"
   ],
   "outputs": [
    {
     "output_type": "execute_result",
     "data": {
      "text/plain": [
       "0"
      ]
     },
     "metadata": {},
     "execution_count": 19
    }
   ],
   "metadata": {}
  },
  {
   "cell_type": "code",
   "execution_count": 21,
   "source": [
    "sql_insert = \"INSERT INTO products (pname, pprice , pcategory, pcost) VALUES (%s, %s, %s, %s);\"\r\n",
    "# 상품명, 판매가, 카테고리(라이프/테크/패션), 제조원가\r\n",
    "products = [\r\n",
    "             ('와인잔거치대',34900,'라이프',24900)\r\n",
    "            ,('식기세트',110000,'라이프',76000)\r\n",
    "            ,('구공향로',90200,'라이프',72000)\r\n",
    "            ,('팔성화로',139000,'라이프',86600)\r\n",
    "            ,('퍼퓸샴푸',23000,'라이프',18400)\r\n",
    "            ,('바디스파',490000,'라이프',400000)\r\n",
    "            ,('워시팝피치핑크',190000,'라이프',100000)\r\n",
    "            ,('워시팝코코넛화이트',190000,'라이프',100000)\r\n",
    "            ,('텀블러',19900,'라이프',9900)\r\n",
    "            ,('클리너',12000,'라이프',9900)    \r\n",
    "            ,('닥터하우스웜스텐우드',130000,'라이프',65000)\r\n",
    "            ,('세정제',13800,'라이프',11900)\r\n",
    "            ,('우산',27000,'라이프',23000)\r\n",
    "            ,('스마트폰거치대',21900,'테크',12900)\r\n",
    "            ,('블루투스턴테이블',300000,'테크',249000)\r\n",
    "            ,('손세정디스펜서',42900,'테크',37900)\r\n",
    "            ,('구강세정기',42800,'테크',34900)\r\n",
    "            ,('냉풍시트',129000,'테크',49000)\r\n",
    "            ,('미러볼라이트',16900,'테크',12900)\r\n",
    "            ,('블루투스키보드',32400,'테크',29900)\r\n",
    "            ,('로봇청소기',789000,'테크',689000)\r\n",
    "            ,('무선이어폰이어셋',159000,'테크',87000)\r\n",
    "            ,('시네마빔프로젝터',1990000,'테크',1609000)    \r\n",
    "            ,('노이즈캔슬링이어폰',349000,'테크',289900)\r\n",
    "            ,('고속멀티충전기',55000,'테크',29900)\r\n",
    "            ,('파워스테이션',579000,'테크',496000)\r\n",
    "            ,('자켓',89000,'패션',59000)\r\n",
    "            ,('벨트',25000,'패션',16900)\r\n",
    "            ,('지샥머드마스터',390000,'패션',270000)\r\n",
    "            ,('와그너스틸안경',105000,'패션',49000)\r\n",
    "            ,('트리코트자켓',169000,'패션',47800)\r\n",
    "            ,('밴딩팬츠',47300,'패션',30800)\r\n",
    "            ,('무지셔츠',22300,'패션',17800)    \r\n",
    "            ,('등산벨트',19000,'패션',5500)\r\n",
    "            ,('선글라스',128000,'패션',33900)\r\n",
    "            ,('마스크',9800,'패션',8000)\r\n",
    "            ,('스니커즈',120000,'패션',109000)\r\n",
    "            ,('코코넛샌들',13900,'패션',5500)\r\n",
    "            ,('카드지갑',24000,'패션',19200)\r\n",
    "]\r\n",
    "\r\n",
    "for product in products:\r\n",
    "    cur.execute(sql_insert, product)\r\n",
    "conn.commit()"
   ],
   "outputs": [],
   "metadata": {}
  },
  {
   "cell_type": "code",
   "execution_count": 22,
   "source": [
    "import random\r\n",
    "\r\n",
    "customer = ['현대중공업','한국공항공사','롯데건설','포스코건설','삼성물산','현대산업개발','조달청']\r\n",
    "# a = random.choice([1,2,3,4,5])\r\n",
    "# cus_ran = random.choice(customer)"
   ],
   "outputs": [],
   "metadata": {}
  },
  {
   "cell_type": "code",
   "execution_count": 23,
   "source": [
    "# 1월~ 12월까지 LOOP\r\n",
    "# 거래처 리스트 만들기\r\n",
    "# 월별 거래처 랜덤선정\r\n",
    "# 거래처별 랜덤 구매 횟수 루프\r\n",
    "# 각 횟수별 구매일자 랜덤 산출\r\n",
    "# 상품 랜덤 선택(1~39)\r\n",
    "\r\n",
    "import calendar\r\n",
    "\r\n",
    "for month_12 in range(12):\r\n",
    "    month_cus_cnt = random.randrange(1,7)     #월별 거래처 수 랜덤\r\n",
    "    month_last_day = calendar.monthrange(2020, month_12+1)[1]\r\n",
    "    for cus_cnt in range(month_cus_cnt):\r\n",
    "        rand_cur = customer[random.randrange(1,7)]  #월별 랜덤 거래처선택\r\n",
    "        #월별 랜덤거래처의 랜덤 거래 횟수\r\n",
    "        rand_buy_cnt = random.randrange(5,10)        \r\n",
    "        for rand_by in range(rand_buy_cnt):         #거래 횟수별 루프\r\n",
    "            # 랜덤 상품, 랜덤 수량, 랜덤 일자\r\n",
    "            rand_item = random.randrange(1,39)\r\n",
    "            rand_count = random.randrange(1,10)\r\n",
    "            rand_date = \"2020-\" + str(month_12+1)+\"-\"+str(random.randrange(1,month_last_day))\r\n",
    "\r\n",
    "            sql_insert = \"INSERT INTO sales (sdate, scompany , spid, sunit) VALUES (date_format('{}','%Y-%m-%d'), '{}', {}, {});\"   \r\n",
    "            #print(sql_insert.format(rand_date, rand_cur, rand_item, rand_count))         \r\n",
    "            cur.execute(sql_insert.format(rand_date, rand_cur, rand_item, rand_count))\r\n",
    "\r\n",
    "conn.commit()"
   ],
   "outputs": [],
   "metadata": {}
  },
  {
   "cell_type": "code",
   "execution_count": 24,
   "source": [
    "cur.close()\r\n",
    "conn.close()"
   ],
   "outputs": [],
   "metadata": {}
  }
 ],
 "metadata": {
  "orig_nbformat": 4,
  "language_info": {
   "name": "python",
   "version": "3.8.10",
   "mimetype": "text/x-python",
   "codemirror_mode": {
    "name": "ipython",
    "version": 3
   },
   "pygments_lexer": "ipython3",
   "nbconvert_exporter": "python",
   "file_extension": ".py"
  },
  "kernelspec": {
   "name": "python3",
   "display_name": "Python 3.8.10 64-bit ('btfsop': conda)"
  },
  "interpreter": {
   "hash": "795bef2181d8c1d673d637ebabbfa46c3363c718d3652ae25a9a4fec543c87a1"
  }
 },
 "nbformat": 4,
 "nbformat_minor": 2
}
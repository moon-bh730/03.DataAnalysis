{
 "cells": [
  {
   "cell_type": "code",
   "execution_count": 1,
   "source": [
    "import json\r\n",
    "\r\n",
    "with open('ini/mysql_local.json', 'r') as file:\r\n",
    " config_str = file.read()\r\n",
    "\r\n",
    "config = json.loads(config_str)\r\n",
    "\r\n",
    "import pymysql\r\n",
    "\r\n",
    "conn = pymysql.connect(\r\n",
    " host = config['host'],\r\n",
    " user = config['user'],\r\n",
    " password = config['password'],\r\n",
    " database = config['database'],\r\n",
    " port = config['port']\r\n",
    ")"
   ],
   "outputs": [],
   "metadata": {}
  },
  {
   "cell_type": "markdown",
   "source": [
    "## 테이블 생성"
   ],
   "metadata": {}
  },
  {
   "cell_type": "code",
   "execution_count": 2,
   "source": [
    "cur = conn.cursor()\r\n",
    "sql_user = '''\r\n",
    " create table if not exists users (\r\n",
    "uid varchar(20) not null primary key,\r\n",
    "pwd char(44) not null,\r\n",
    "uname varchar(20) not null,\r\n",
    "email varchar(40) not null,\r\n",
    "reg_date datetime default current_timestamp,\r\n",
    "is_deleted int default 0\r\n",
    " );\r\n",
    "'''\r\n",
    "cur.execute(sql_user)"
   ],
   "outputs": [
    {
     "output_type": "execute_result",
     "data": {
      "text/plain": [
       "0"
      ]
     },
     "metadata": {},
     "execution_count": 2
    }
   ],
   "metadata": {}
  },
  {
   "cell_type": "markdown",
   "source": [
    "## 데이터 추가"
   ],
   "metadata": {}
  },
  {
   "cell_type": "code",
   "execution_count": null,
   "source": [
    "cur = conn.cursor()\r\n",
    "sql_insert = \"INSERT INTO users(uid, pwd , uname) VALUES('admin', '1234', '관리자');\"\r\n",
    "cur.execute(sql_insert)"
   ],
   "outputs": [],
   "metadata": {}
  },
  {
   "cell_type": "code",
   "execution_count": 5,
   "source": [
    "sql_select = \"select * from users;\"\r\n",
    "cur.execute(sql_select)\r\n",
    "row = cur.fetchone()"
   ],
   "outputs": [],
   "metadata": {}
  },
  {
   "cell_type": "code",
   "execution_count": 6,
   "source": [
    "row"
   ],
   "outputs": [
    {
     "output_type": "execute_result",
     "data": {
      "text/plain": [
       "('admin', '1234', '관리자', None, datetime.datetime(2021, 8, 25, 13, 28, 56), 0)"
      ]
     },
     "metadata": {},
     "execution_count": 6
    }
   ],
   "metadata": {}
  },
  {
   "cell_type": "markdown",
   "source": [
    "# 데이터를 물리 디스크에 쓰게하는 명령"
   ],
   "metadata": {}
  },
  {
   "cell_type": "code",
   "execution_count": 7,
   "source": [
    "conn.commit()"
   ],
   "outputs": [],
   "metadata": {}
  },
  {
   "cell_type": "markdown",
   "source": [
    "- 여러건의 데이터 추가"
   ],
   "metadata": {}
  },
  {
   "cell_type": "code",
   "execution_count": 9,
   "source": [
    "sql_multi_insert = \"\"\"\r\n",
    "            INSERT INTO users(uid, pwd , uname) VALUES\r\n",
    "            ('dskim', '1234', '김은숙')\r\n",
    "            ,('wjlee', '1234', '이우정')\r\n",
    "\"\"\"\r\n",
    "\r\n",
    "cur.execute(sql_multi_insert)\r\n",
    "conn.commit()"
   ],
   "outputs": [],
   "metadata": {}
  },
  {
   "cell_type": "markdown",
   "source": [
    "- Placeholder"
   ],
   "metadata": {}
  },
  {
   "cell_type": "code",
   "execution_count": 10,
   "source": [
    "sql_insert_ph = \"INSERT INTO users(uid, pwd , uname) VALUES (%s, '1234', %s);\"\r\n",
    "uid, uname = 'djy','대조영'\r\n",
    "# 가변인수 처리위해 튜플로 받는다.\r\n",
    "cur.execute(sql_insert_ph, (uid, uname))\r\n",
    "conn.commit()"
   ],
   "outputs": [],
   "metadata": {}
  },
  {
   "cell_type": "markdown",
   "source": [
    "- 여러건의 데이터를 placeholder를 이용해서 insert"
   ],
   "metadata": {}
  },
  {
   "cell_type": "code",
   "execution_count": 11,
   "source": [
    "sql_insert_ph = \"INSERT INTO users(uid, pwd , uname) VALUES (%s, '1234', %s);\"\r\n",
    "users = [\r\n",
    "            ('gdhong','홍길동')\r\n",
    "            ,('ils','일이삼')\r\n",
    "            ,('soy','사오육')\r\n",
    "            ,('cpg','칠팔구')\r\n",
    "]\r\n",
    "# 가변인수 처리위해 튜플로 받는다.\r\n",
    "cur.executemany(sql_insert_ph,users)\r\n",
    "conn.commit()"
   ],
   "outputs": [],
   "metadata": {}
  },
  {
   "cell_type": "code",
   "execution_count": null,
   "source": [
    "sql_insert_ph = \"INSERT INTO users(uid, pwd , uname) VALUES (%s, '1234', %s);\"\r\n",
    "users = [\r\n",
    "            ('gdhong','홍길동')\r\n",
    "            ,('ils','일이삼')\r\n",
    "            ,('soy','사오육')\r\n",
    "            ,('cpg','칠팔구')\r\n",
    "]\r\n",
    "\r\n",
    "for user in users:\r\n",
    "    cur.execute(sql_insert_ph, user)\r\n",
    "conn.commit()"
   ],
   "outputs": [],
   "metadata": {}
  },
  {
   "cell_type": "code",
   "execution_count": 12,
   "source": [
    "cur.close()\r\n",
    "conn.close()"
   ],
   "outputs": [],
   "metadata": {}
  }
 ],
 "metadata": {
  "orig_nbformat": 4,
  "language_info": {
   "name": "python",
   "version": "3.8.10",
   "mimetype": "text/x-python",
   "codemirror_mode": {
    "name": "ipython",
    "version": 3
   },
   "pygments_lexer": "ipython3",
   "nbconvert_exporter": "python",
   "file_extension": ".py"
  },
  "kernelspec": {
   "name": "python3",
   "display_name": "Python 3.8.10 64-bit ('btfsop': conda)"
  },
  "interpreter": {
   "hash": "795bef2181d8c1d673d637ebabbfa46c3363c718d3652ae25a9a4fec543c87a1"
  }
 },
 "nbformat": 4,
 "nbformat_minor": 2
}
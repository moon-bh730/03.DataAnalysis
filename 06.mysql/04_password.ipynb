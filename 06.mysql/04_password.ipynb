{
 "cells": [
  {
   "cell_type": "code",
   "execution_count": 2,
   "source": [
    "import json\r\n",
    "\r\n",
    "with open('ini/mysql_local.json', 'r') as file:\r\n",
    " config_str = file.read()\r\n",
    "\r\n",
    "config = json.loads(config_str)\r\n",
    "\r\n",
    "import pymysql\r\n",
    "\r\n",
    "conn = pymysql.connect(\r\n",
    " host = config['host'],\r\n",
    " user = config['user'],\r\n",
    " password = config['password'],\r\n",
    " database = config['database'],\r\n",
    " port = config['port']\r\n",
    ")"
   ],
   "outputs": [],
   "metadata": {}
  },
  {
   "cell_type": "markdown",
   "source": [
    "## 패스워드 암호화\r\n",
    "    - Secure Hash Algorithm(SHA-256)"
   ],
   "metadata": {}
  },
  {
   "cell_type": "code",
   "execution_count": 1,
   "source": [
    "import hashlib\r\n",
    "\r\n",
    "pwd = \"1234\"\r\n",
    "pwd_sha256 = hashlib.sha256(pwd.encode())\r\n",
    "pwd_sha256.digest()"
   ],
   "outputs": [
    {
     "output_type": "execute_result",
     "data": {
      "text/plain": [
       "b'\\x03\\xacgB\\x16\\xf3\\xe1\\\\v\\x1e\\xe1\\xa5\\xe2U\\xf0g\\x956#\\xc8\\xb3\\x88\\xb4E\\x9e\\x13\\xf9x\\xd7\\xc8F\\xf4'"
      ]
     },
     "metadata": {},
     "execution_count": 1
    }
   ],
   "metadata": {}
  },
  {
   "cell_type": "markdown",
   "source": [
    "- base64로 인코딩"
   ],
   "metadata": {}
  },
  {
   "cell_type": "code",
   "execution_count": 3,
   "source": [
    "import base64\r\n",
    "\r\n",
    "base64.b16encode(pwd_sha256.digest())"
   ],
   "outputs": [
    {
     "output_type": "execute_result",
     "data": {
      "text/plain": [
       "b'03AC674216F3E15C761EE1A5E255F067953623C8B388B4459E13F978D7C846F4'"
      ]
     },
     "metadata": {},
     "execution_count": 3
    }
   ],
   "metadata": {}
  },
  {
   "cell_type": "code",
   "execution_count": 4,
   "source": [
    "hashed_pwd = base64.b64encode(pwd_sha256.digest()).decode('utf-8')\r\n",
    "hashed_pwd"
   ],
   "outputs": [
    {
     "output_type": "execute_result",
     "data": {
      "text/plain": [
       "'A6xnQhbz4Vx2HuGl4lXwZ5U2I8iziLRFnhP5eNfIRvQ='"
      ]
     },
     "metadata": {},
     "execution_count": 4
    }
   ],
   "metadata": {}
  },
  {
   "cell_type": "code",
   "execution_count": 5,
   "source": [
    "len(hashed_pwd)"
   ],
   "outputs": [
    {
     "output_type": "execute_result",
     "data": {
      "text/plain": [
       "44"
      ]
     },
     "metadata": {},
     "execution_count": 5
    }
   ],
   "metadata": {}
  },
  {
   "cell_type": "markdown",
   "source": [
    "- 패스워드를 생성하는 함수"
   ],
   "metadata": {}
  },
  {
   "cell_type": "code",
   "execution_count": 6,
   "source": [
    "import hashlib, base64\r\n",
    "\r\n",
    "def gen_pwd(pwd):\r\n",
    "    pwd_sha256 = hashlib.sha256(pwd.encode())\r\n",
    "    hashed_pwd = base64.b64encode(pwd_sha256.digest()).decode('utf-8')\r\n",
    "    return hashed_pwd"
   ],
   "outputs": [],
   "metadata": {}
  },
  {
   "cell_type": "code",
   "execution_count": 7,
   "source": [
    "gen_pwd(\"qwerty\")"
   ],
   "outputs": [
    {
     "output_type": "execute_result",
     "data": {
      "text/plain": [
       "'ZehL4zUy+3hMSBKWdfnv86aCsnFowOp0Syz1juAjN8U='"
      ]
     },
     "metadata": {},
     "execution_count": 7
    }
   ],
   "metadata": {}
  },
  {
   "cell_type": "markdown",
   "source": [
    "## users table에 패스워드 넣기\r\n",
    "    - uid + 21"
   ],
   "metadata": {}
  },
  {
   "cell_type": "code",
   "execution_count": 8,
   "source": [
    "sql = \"select uid from users;\"\r\n",
    "cur = conn.cursor()\r\n",
    "cur.execute(sql)\r\n",
    "results = cur.fetchall()\r\n",
    "results"
   ],
   "outputs": [
    {
     "output_type": "execute_result",
     "data": {
      "text/plain": [
       "(('admin',),\n",
       " ('cpg',),\n",
       " ('djy',),\n",
       " ('dskim',),\n",
       " ('gdhong',),\n",
       " ('ils',),\n",
       " ('soy',),\n",
       " ('wjlee',))"
      ]
     },
     "metadata": {},
     "execution_count": 8
    }
   ],
   "metadata": {}
  },
  {
   "cell_type": "code",
   "execution_count": 12,
   "source": [
    "sql_update = 'update users set pwd = %s where uid = %s;'\r\n",
    "\r\n",
    "for line in results:\r\n",
    "    uid = line[0]\r\n",
    "    pwd = gen_pwd(uid+'21')\r\n",
    "    cur.execute(sql_update, (pwd, uid))\r\n",
    "\r\n",
    "conn.commit()"
   ],
   "outputs": [],
   "metadata": {}
  },
  {
   "cell_type": "markdown",
   "source": [
    "- email 추가 : uid@mc.com"
   ],
   "metadata": {}
  },
  {
   "cell_type": "code",
   "execution_count": 13,
   "source": [
    "sql_update = 'update users set email = %s where uid = %s;'\r\n",
    "\r\n",
    "for line in results:\r\n",
    "    uid = line[0]\r\n",
    "    email = uid + '@mc.com'\r\n",
    "    cur.execute(sql_update, (email, uid))\r\n",
    "\r\n",
    "conn.commit()"
   ],
   "outputs": [],
   "metadata": {}
  },
  {
   "cell_type": "markdown",
   "source": [
    "## 로그인"
   ],
   "metadata": {}
  },
  {
   "cell_type": "code",
   "execution_count": 37,
   "source": [
    "sql_login = 'select uid, pwd from users where uid = %s and is_deleted = 0'"
   ],
   "outputs": [],
   "metadata": {}
  },
  {
   "cell_type": "markdown",
   "source": [
    "- case 1) uid가 없는경우"
   ],
   "metadata": {}
  },
  {
   "cell_type": "code",
   "execution_count": 38,
   "source": [
    "uid = 'fool'\r\n",
    "cur.execute(sql_login, (uid, ))\r\n",
    "result = cur.fetchone()\r\n",
    "result"
   ],
   "outputs": [],
   "metadata": {}
  },
  {
   "cell_type": "markdown",
   "source": [
    "- case 2) 비밀번호가 틀린경우"
   ],
   "metadata": {}
  },
  {
   "cell_type": "code",
   "execution_count": 39,
   "source": [
    "uid, pwd = 'djy','djy123'\r\n",
    "cur.execute(sql_login, (uid, ))\r\n",
    "result = cur.fetchone()\r\n",
    "result"
   ],
   "outputs": [],
   "metadata": {}
  },
  {
   "cell_type": "code",
   "execution_count": 40,
   "source": [
    "db_pwd = result[1]\r\n",
    "hashed_pwd = gen_pwd(pwd)\r\n",
    "if db_pwd == hashed_pwd:\r\n",
    "    print('Login')\r\n",
    "else:\r\n",
    "    print('Incorrect password!!')"
   ],
   "outputs": [
    {
     "output_type": "error",
     "ename": "TypeError",
     "evalue": "'NoneType' object is not subscriptable",
     "traceback": [
      "\u001b[1;31m---------------------------------------------------------------------------\u001b[0m",
      "\u001b[1;31mTypeError\u001b[0m                                 Traceback (most recent call last)",
      "\u001b[1;32m<ipython-input-40-8a45d887a575>\u001b[0m in \u001b[0;36m<module>\u001b[1;34m\u001b[0m\n\u001b[1;32m----> 1\u001b[1;33m \u001b[0mdb_pwd\u001b[0m \u001b[1;33m=\u001b[0m \u001b[0mresult\u001b[0m\u001b[1;33m[\u001b[0m\u001b[1;36m1\u001b[0m\u001b[1;33m]\u001b[0m\u001b[1;33m\u001b[0m\u001b[1;33m\u001b[0m\u001b[0m\n\u001b[0m\u001b[0;32m      2\u001b[0m \u001b[0mhashed_pwd\u001b[0m \u001b[1;33m=\u001b[0m \u001b[0mgen_pwd\u001b[0m\u001b[1;33m(\u001b[0m\u001b[0mpwd\u001b[0m\u001b[1;33m)\u001b[0m\u001b[1;33m\u001b[0m\u001b[1;33m\u001b[0m\u001b[0m\n\u001b[0;32m      3\u001b[0m \u001b[1;32mif\u001b[0m \u001b[0mdb_pwd\u001b[0m \u001b[1;33m==\u001b[0m \u001b[0mhashed_pwd\u001b[0m\u001b[1;33m:\u001b[0m\u001b[1;33m\u001b[0m\u001b[1;33m\u001b[0m\u001b[0m\n\u001b[0;32m      4\u001b[0m     \u001b[0mprint\u001b[0m\u001b[1;33m(\u001b[0m\u001b[1;34m'Login'\u001b[0m\u001b[1;33m)\u001b[0m\u001b[1;33m\u001b[0m\u001b[1;33m\u001b[0m\u001b[0m\n\u001b[0;32m      5\u001b[0m \u001b[1;32melse\u001b[0m\u001b[1;33m:\u001b[0m\u001b[1;33m\u001b[0m\u001b[1;33m\u001b[0m\u001b[0m\n",
      "\u001b[1;31mTypeError\u001b[0m: 'NoneType' object is not subscriptable"
     ]
    }
   ],
   "metadata": {}
  },
  {
   "cell_type": "markdown",
   "source": [
    "- case 3) OK"
   ],
   "metadata": {}
  },
  {
   "cell_type": "code",
   "execution_count": 23,
   "source": [
    "uid, pwd = 'djy','djy123'\r\n",
    "cur.execute(sql_login, (uid, ))\r\n",
    "result = cur.fetchone()\r\n",
    "db_pwd = result[1]\r\n",
    "hashed_pwd = gen_pwd(pwd)\r\n",
    "if db_pwd == hashed_pwd:\r\n",
    "    print('Login')\r\n",
    "else:\r\n",
    "    print('Incorrect password!!')"
   ],
   "outputs": [
    {
     "output_type": "error",
     "ename": "TypeError",
     "evalue": "'NoneType' object is not subscriptable",
     "traceback": [
      "\u001b[1;31m---------------------------------------------------------------------------\u001b[0m",
      "\u001b[1;31mTypeError\u001b[0m                                 Traceback (most recent call last)",
      "\u001b[1;32m<ipython-input-23-cfaed787e778>\u001b[0m in \u001b[0;36m<module>\u001b[1;34m\u001b[0m\n\u001b[0;32m      2\u001b[0m \u001b[0mcur\u001b[0m\u001b[1;33m.\u001b[0m\u001b[0mexecute\u001b[0m\u001b[1;33m(\u001b[0m\u001b[0msql_login\u001b[0m\u001b[1;33m,\u001b[0m \u001b[1;33m(\u001b[0m\u001b[0muid\u001b[0m\u001b[1;33m,\u001b[0m \u001b[1;33m)\u001b[0m\u001b[1;33m)\u001b[0m\u001b[1;33m\u001b[0m\u001b[1;33m\u001b[0m\u001b[0m\n\u001b[0;32m      3\u001b[0m \u001b[0mresult\u001b[0m \u001b[1;33m=\u001b[0m \u001b[0mcur\u001b[0m\u001b[1;33m.\u001b[0m\u001b[0mfetchone\u001b[0m\u001b[1;33m(\u001b[0m\u001b[1;33m)\u001b[0m\u001b[1;33m\u001b[0m\u001b[1;33m\u001b[0m\u001b[0m\n\u001b[1;32m----> 4\u001b[1;33m \u001b[0mdb_pwd\u001b[0m \u001b[1;33m=\u001b[0m \u001b[0mresult\u001b[0m\u001b[1;33m[\u001b[0m\u001b[1;36m1\u001b[0m\u001b[1;33m]\u001b[0m\u001b[1;33m\u001b[0m\u001b[1;33m\u001b[0m\u001b[0m\n\u001b[0m\u001b[0;32m      5\u001b[0m \u001b[0mhashed_pwd\u001b[0m \u001b[1;33m=\u001b[0m \u001b[0mgen_pwd\u001b[0m\u001b[1;33m(\u001b[0m\u001b[0mpwd\u001b[0m\u001b[1;33m)\u001b[0m\u001b[1;33m\u001b[0m\u001b[1;33m\u001b[0m\u001b[0m\n\u001b[0;32m      6\u001b[0m \u001b[1;32mif\u001b[0m \u001b[0mdb_pwd\u001b[0m \u001b[1;33m==\u001b[0m \u001b[0mhashed_pwd\u001b[0m\u001b[1;33m:\u001b[0m\u001b[1;33m\u001b[0m\u001b[1;33m\u001b[0m\u001b[0m\n",
      "\u001b[1;31mTypeError\u001b[0m: 'NoneType' object is not subscriptable"
     ]
    }
   ],
   "metadata": {}
  },
  {
   "cell_type": "code",
   "execution_count": 42,
   "source": [
    "uid, pwd = 'djy','djy123'\r\n",
    "cur.execute(sql_login, (uid, ))\r\n",
    "result = cur.fetchone()\r\n",
    "if result:\r\n",
    "    db_pwd = result[1]\r\n",
    "    hashed_pwd = gen_pwd(pwd)\r\n",
    "    if db_pwd == hashed_pwd:\r\n",
    "        print('Login')\r\n",
    "    else:\r\n",
    "        print('Incorrect password!!')\r\n",
    "else:\r\n",
    "    print('bad uid!!!')"
   ],
   "outputs": [
    {
     "output_type": "stream",
     "name": "stdout",
     "text": [
      "bad uid!!!\n"
     ]
    }
   ],
   "metadata": {}
  },
  {
   "cell_type": "code",
   "execution_count": 41,
   "source": [
    "uid, pwd = 'djy','djy123'\r\n",
    "cur.execute(sql_login, (uid, ))\r\n",
    "result = cur.fetchone()\r\n",
    "try:\r\n",
    "    db_pwd = result[1]\r\n",
    "    hashed_pwd = gen_pwd(pwd)\r\n",
    "    if db_pwd == hashed_pwd:\r\n",
    "        print('Login')\r\n",
    "    else:\r\n",
    "        print('Incorrect password!!')\r\n",
    "except:\r\n",
    "    print('bad uid!!!')"
   ],
   "outputs": [
    {
     "output_type": "stream",
     "name": "stdout",
     "text": [
      "bad uid!!!\n"
     ]
    }
   ],
   "metadata": {}
  },
  {
   "cell_type": "code",
   "execution_count": 43,
   "source": [
    "cur.close()\r\n",
    "conn.close()"
   ],
   "outputs": [],
   "metadata": {}
  }
 ],
 "metadata": {
  "orig_nbformat": 4,
  "language_info": {
   "name": "python",
   "version": "3.8.10",
   "mimetype": "text/x-python",
   "codemirror_mode": {
    "name": "ipython",
    "version": 3
   },
   "pygments_lexer": "ipython3",
   "nbconvert_exporter": "python",
   "file_extension": ".py"
  },
  "kernelspec": {
   "name": "python3",
   "display_name": "Python 3.8.10 64-bit ('btfsop': conda)"
  },
  "interpreter": {
   "hash": "795bef2181d8c1d673d637ebabbfa46c3363c718d3652ae25a9a4fec543c87a1"
  }
 },
 "nbformat": 4,
 "nbformat_minor": 2
}
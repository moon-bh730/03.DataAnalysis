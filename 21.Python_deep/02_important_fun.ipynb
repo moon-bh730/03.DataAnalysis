{
  "nbformat": 4,
  "nbformat_minor": 0,
  "metadata": {
    "colab": {
      "name": "02.important_fun.ipynb",
      "provenance": [],
      "collapsed_sections": []
    },
    "kernelspec": {
      "name": "python3",
      "display_name": "Python 3"
    },
    "language_info": {
      "name": "python"
    }
  },
  "cells": [
    {
      "cell_type": "code",
      "metadata": {
        "colab": {
          "base_uri": "https://localhost:8080/"
        },
        "id": "seRt_h4tIWSg",
        "outputId": "8b80e5b4-89f9-438d-885e-6de9e830a575"
      },
      "source": [
        "# 데코레이터 개념\n",
        "\n",
        "def para(func):\n",
        "  def wrap(*args, **kwargs):\n",
        "    return \"<p>\"+str(func(*args, **kwargs))+\"</p>\"\n",
        "  return wrap\n",
        "\n",
        "@para\n",
        "def outname(name):\n",
        "  return 'Name : ' + name\n",
        "\n",
        "@para\n",
        "def outage(age):\n",
        "  return 'Age : ' + str(age)\n",
        "\n",
        "\n",
        "print(outname('James Bond'))\n",
        "print(outname.__name__)\n",
        "print(outage(29))\n",
        "print(outage.__name__)"
      ],
      "execution_count": 2,
      "outputs": [
        {
          "output_type": "stream",
          "name": "stdout",
          "text": [
            "<p>Name : James Bond</p>\n",
            "wrap\n",
            "<p>Age : 29</p>\n",
            "wrap\n"
          ]
        }
      ]
    },
    {
      "cell_type": "code",
      "metadata": {
        "colab": {
          "base_uri": "https://localhost:8080/"
        },
        "id": "8aaeX3HhUJ51",
        "outputId": "8cb030b8-e03c-4c75-ae41-70fe3d01709d"
      },
      "source": [
        "# 파이썬으로 switch 구현\n",
        "\n",
        "def plus(x, y):\n",
        "    return x+y\n",
        "def minus(x, y):\n",
        "    return x-y\n",
        "def multiply(x, y):\n",
        "    return x * y\n",
        "def divide(x, y):\n",
        "    return x/y \n",
        "def default_op(x, y):\n",
        "    return None\n",
        "\n",
        "fun_dic = {\n",
        "    'add': plus\n",
        "    ,'sub': minus\n",
        "    ,'mul': multiply\n",
        "    ,'div': divide\n",
        "}\n",
        "\n",
        "def dispatch_dict(operator, x, y):\n",
        "    return fun_dic.get(operator, default_op)(x,y)\n",
        "\n",
        "\n",
        "print(dispatch_dict('add', 7, 8))"
      ],
      "execution_count": 6,
      "outputs": [
        {
          "output_type": "stream",
          "name": "stdout",
          "text": [
            "15\n"
          ]
        }
      ]
    }
  ]
}
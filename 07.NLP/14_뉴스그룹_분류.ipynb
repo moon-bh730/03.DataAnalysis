{
 "cells": [
  {
   "cell_type": "markdown",
   "source": [
    "# 20 뉴스그룹 분류"
   ],
   "metadata": {}
  },
  {
   "cell_type": "code",
   "execution_count": 1,
   "source": [
    "import numpy as np\r\n",
    "import pandas as pd"
   ],
   "outputs": [],
   "metadata": {}
  },
  {
   "cell_type": "code",
   "execution_count": 2,
   "source": [
    "from sklearn.datasets import fetch_20newsgroups\r\n",
    "news = fetch_20newsgroups(subset=\"all\", random_state=2021)"
   ],
   "outputs": [],
   "metadata": {}
  },
  {
   "cell_type": "markdown",
   "source": [
    "## 데이터 탐색"
   ],
   "metadata": {}
  },
  {
   "cell_type": "code",
   "execution_count": 3,
   "source": [
    "news.keys()"
   ],
   "outputs": [
    {
     "output_type": "execute_result",
     "data": {
      "text/plain": [
       "dict_keys(['data', 'filenames', 'target_names', 'target', 'DESCR'])"
      ]
     },
     "metadata": {},
     "execution_count": 3
    }
   ],
   "metadata": {}
  },
  {
   "cell_type": "code",
   "execution_count": 4,
   "source": [
    "from sklearn.datasets import load_iris\r\n",
    "iris = load_iris()\r\n",
    "iris.keys()"
   ],
   "outputs": [
    {
     "output_type": "execute_result",
     "data": {
      "text/plain": [
       "dict_keys(['data', 'target', 'frame', 'target_names', 'DESCR', 'feature_names', 'filename'])"
      ]
     },
     "metadata": {},
     "execution_count": 4
    }
   ],
   "metadata": {}
  },
  {
   "cell_type": "code",
   "execution_count": 5,
   "source": [
    "news.target_names"
   ],
   "outputs": [
    {
     "output_type": "execute_result",
     "data": {
      "text/plain": [
       "['alt.atheism',\n",
       " 'comp.graphics',\n",
       " 'comp.os.ms-windows.misc',\n",
       " 'comp.sys.ibm.pc.hardware',\n",
       " 'comp.sys.mac.hardware',\n",
       " 'comp.windows.x',\n",
       " 'misc.forsale',\n",
       " 'rec.autos',\n",
       " 'rec.motorcycles',\n",
       " 'rec.sport.baseball',\n",
       " 'rec.sport.hockey',\n",
       " 'sci.crypt',\n",
       " 'sci.electronics',\n",
       " 'sci.med',\n",
       " 'sci.space',\n",
       " 'soc.religion.christian',\n",
       " 'talk.politics.guns',\n",
       " 'talk.politics.mideast',\n",
       " 'talk.politics.misc',\n",
       " 'talk.religion.misc']"
      ]
     },
     "metadata": {},
     "execution_count": 5
    }
   ],
   "metadata": {}
  },
  {
   "cell_type": "code",
   "execution_count": 6,
   "source": [
    "pd.Series(news.target).value_counts().sort_index()"
   ],
   "outputs": [
    {
     "output_type": "execute_result",
     "data": {
      "text/plain": [
       "0     799\n",
       "1     973\n",
       "2     985\n",
       "3     982\n",
       "4     963\n",
       "5     988\n",
       "6     975\n",
       "7     990\n",
       "8     996\n",
       "9     994\n",
       "10    999\n",
       "11    991\n",
       "12    984\n",
       "13    990\n",
       "14    987\n",
       "15    997\n",
       "16    910\n",
       "17    940\n",
       "18    775\n",
       "19    628\n",
       "dtype: int64"
      ]
     },
     "metadata": {},
     "execution_count": 6
    }
   ],
   "metadata": {}
  },
  {
   "cell_type": "code",
   "execution_count": 7,
   "source": [
    "len(news.data)"
   ],
   "outputs": [
    {
     "output_type": "execute_result",
     "data": {
      "text/plain": [
       "18846"
      ]
     },
     "metadata": {},
     "execution_count": 7
    }
   ],
   "metadata": {}
  },
  {
   "cell_type": "code",
   "execution_count": 21,
   "source": [
    "print(news.data[0])"
   ],
   "outputs": [
    {
     "output_type": "stream",
     "name": "stdout",
     "text": [
      "From: dagibbs@quantum.qnx.com (David Gibbs)\n",
      "Subject: Re: Countersteering sans Hands\n",
      "Organization: QNX Software Systems, Ltd.\n",
      "Lines: 22\n",
      "\n",
      "In article <1993Apr20.203344.8417@cs.cornell.edu> karr@cs.cornell.edu (David Karr) writes:\n",
      ">In article <Clarke.6.735328328@bdrc.bd.com> Clarke@bdrc.bd.com (Richard Clarke) writes:\n",
      ">>So how do I steer when my hands aren't on the bars? (Open Budweiser in left \n",
      ">>hand, Camel cigarette in the right, no feet allowed.) \n",
      ">\n",
      ">>If I lean, and the \n",
      ">>bike turns, am I countersteering?\n",
      ">\n",
      ">No, the bars would turn only *toward* the direction of turn in\n",
      ">no-hands steering.\n",
      "\n",
      "Just in case the original poster was looking for a serious answer,\n",
      "I'll supply one.\n",
      "\n",
      "Yes, even when steering no hands you do something quite similar\n",
      "to countersteering.  Basically to turn left, you to a quick wiggle\n",
      "of the bike to the right first, causing a counteracting lean to\n",
      "occur to the left.  It is a lot more difficult to do on a motorcycle\n",
      "than a bicycle though, because of the extra weight.  (Ok, so my\n",
      "motorcycle is heavy.  Maybe yous isn't.)\n",
      "\n",
      "-David\n",
      "\n"
     ]
    }
   ],
   "metadata": {}
  },
  {
   "cell_type": "markdown",
   "source": [
    "## 훈련/테스트용 데이터 추출"
   ],
   "metadata": {}
  },
  {
   "cell_type": "code",
   "execution_count": 24,
   "source": [
    "train_news = fetch_20newsgroups(\r\n",
    "    subset=\"test\", random_state=2021,\r\n",
    "    remove=(\"headers\",\"footers\",\"quotes\")\r\n",
    ")\r\n",
    "len(train_news.data)"
   ],
   "outputs": [
    {
     "output_type": "execute_result",
     "data": {
      "text/plain": [
       "7532"
      ]
     },
     "metadata": {},
     "execution_count": 24
    }
   ],
   "metadata": {}
  },
  {
   "cell_type": "code",
   "execution_count": 22,
   "source": [
    "test_news = fetch_20newsgroups(\r\n",
    "    subset='test', random_state=2021,\r\n",
    "    remove=('headers', 'footers', 'quotes')\r\n",
    ")\r\n",
    "len(test_news.data)"
   ],
   "outputs": [
    {
     "output_type": "execute_result",
     "data": {
      "text/plain": [
       "7532"
      ]
     },
     "metadata": {},
     "execution_count": 22
    }
   ],
   "metadata": {}
  },
  {
   "cell_type": "code",
   "execution_count": null,
   "source": [
    "print(news.data[0])"
   ],
   "outputs": [],
   "metadata": {}
  },
  {
   "cell_type": "code",
   "execution_count": 23,
   "source": [
    "print(train_news.data[1])"
   ],
   "outputs": [
    {
     "output_type": "stream",
     "name": "stdout",
     "text": [
      "There are chips which perform the voice compression/expansion.  They can't\n",
      "be expensive, because they exist in many phones connected to PBXs or on the\n",
      "PBX line cards, as well as in a lot of equipment which compresses\n",
      "voice-grade circuits to save the cost of long-distance, leased T1s or\n",
      "satellite circuits.\n",
      "\n",
      "I can't remember the generic term for these chips.  My impression is that\n",
      "this was a big deal 10 years ago, but circuits have gotten so cheap that\n",
      "it isn't done much now.\n",
      "\n",
      "Lew\n",
      "\n"
     ]
    }
   ],
   "metadata": {}
  },
  {
   "cell_type": "markdown",
   "source": [
    "## 텍스트 데이터에 대해서 전처리"
   ],
   "metadata": {}
  },
  {
   "cell_type": "code",
   "execution_count": 25,
   "source": [
    "train_df = pd.DataFrame({\"article\": train_news.data})\r\n",
    "test_df = pd.DataFrame({\"article\": test_news.data})"
   ],
   "outputs": [],
   "metadata": {}
  },
  {
   "cell_type": "markdown",
   "source": [
    "- train dataset"
   ],
   "metadata": {}
  },
  {
   "cell_type": "code",
   "execution_count": 27,
   "source": [
    "# 특수문자 제거\r\n",
    "#train_df['article'] = train_df.article.str.replace('[^A-Za-z\\$0-9]',' ')\r\n",
    "train_df['article'] = train_df.article.str.replace('[^A-Za-z]', ' ')\r\n",
    "train_df.article[1]"
   ],
   "outputs": [
    {
     "output_type": "stream",
     "name": "stderr",
     "text": [
      "<ipython-input-27-6c153cef6316>:3: FutureWarning: The default value of regex will change from True to False in a future version.\n",
      "  train_df['article'] = train_df.article.str.replace('[^A-Za-z]', ' ')\n"
     ]
    },
    {
     "output_type": "execute_result",
     "data": {
      "text/plain": [
       "'There are chips which perform the voice compression expansion   They can t be expensive  because they exist in many phones connected to PBXs or on the PBX line cards  as well as in a lot of equipment which compresses voice grade circuits to save the cost of long distance  leased T s or satellite circuits   I can t remember the generic term for these chips   My impression is that this was a big deal    years ago  but circuits have gotten so cheap that it isn t done much now   Lew '"
      ]
     },
     "metadata": {},
     "execution_count": 27
    }
   ],
   "metadata": {}
  },
  {
   "cell_type": "code",
   "execution_count": 28,
   "source": [
    "# 길이가 3 이하인 단어 제거\r\n",
    "train_df['article'] = train_df.article.apply(lambda x: ' '.join([w for w in x.split() if len(w) > 3]))\r\n",
    "train_df.article[1]"
   ],
   "outputs": [
    {
     "output_type": "execute_result",
     "data": {
      "text/plain": [
       "'There chips which perform voice compression expansion They expensive because they exist many phones connected PBXs line cards well equipment which compresses voice grade circuits save cost long distance leased satellite circuits remember generic term these chips impression that this deal years circuits have gotten cheap that done much'"
      ]
     },
     "metadata": {},
     "execution_count": 28
    }
   ],
   "metadata": {}
  },
  {
   "cell_type": "code",
   "execution_count": 18,
   "source": [
    "s = \"a ab abc abcd abcde\"\r\n",
    "x = []\r\n",
    "for w in s.split():\r\n",
    "    if len(w) > 3:\r\n",
    "        x.append(w)\r\n",
    "s = \" \".join([w for w in s.split() if len(w) > 3])\r\n",
    "s"
   ],
   "outputs": [
    {
     "output_type": "execute_result",
     "data": {
      "text/plain": [
       "'abcd abcde'"
      ]
     },
     "metadata": {},
     "execution_count": 18
    }
   ],
   "metadata": {}
  },
  {
   "cell_type": "code",
   "execution_count": null,
   "source": [
    "train_df['article'] = train_df['article'].astype(str).apply(lambda x : re.sub('r[^A-Za-z0-9]', '', x))"
   ],
   "outputs": [],
   "metadata": {}
  },
  {
   "cell_type": "code",
   "execution_count": null,
   "source": [
    "# import re\r\n",
    "# shortword = re.compile(r\"\\W*\\b\\s{1,2}\\b\")\r\n",
    "# print(soortword.sub('', train_df.article[1]))"
   ],
   "outputs": [],
   "metadata": {}
  },
  {
   "cell_type": "code",
   "execution_count": null,
   "source": [
    "# 소문자로 변환\r\n",
    "train_df['article'] = train_df.article.apply(lambda x : x.lower())"
   ],
   "outputs": [],
   "metadata": {}
  },
  {
   "cell_type": "code",
   "execution_count": null,
   "source": [
    "# 소문자로 변환하고 길이가 3 이하인 단어 제거\r\n",
    "train_df['article'] = train_df.article.apply(lambda x : \" \".join([w.lower() for w in x.split() if len(w)>3]))"
   ],
   "outputs": [],
   "metadata": {}
  },
  {
   "cell_type": "markdown",
   "source": [
    "## 텍스트 변환"
   ],
   "metadata": {}
  },
  {
   "cell_type": "code",
   "execution_count": 20,
   "source": [
    "from sklearn.feature_extraction.text import TfidfVectorizer"
   ],
   "outputs": [],
   "metadata": {}
  },
  {
   "cell_type": "code",
   "execution_count": 31,
   "source": [
    "# 학습 시키기\r\n",
    "tvect = TfidfVectorizer(stop_words='english')\r\n",
    "tvect.fit(train_df.article)"
   ],
   "outputs": [
    {
     "output_type": "execute_result",
     "data": {
      "text/plain": [
       "TfidfVectorizer(stop_words='english')"
      ]
     },
     "metadata": {},
     "execution_count": 31
    }
   ],
   "metadata": {}
  },
  {
   "cell_type": "code",
   "execution_count": 32,
   "source": [
    "X_train = tvect.transform(train_df.article)\r\n",
    "X_test = tvect.transform(test_df.article)\r\n",
    "X_train.shape, X_test.shape"
   ],
   "outputs": [
    {
     "output_type": "execute_result",
     "data": {
      "text/plain": [
       "((7532, 48501), (7532, 48501))"
      ]
     },
     "metadata": {},
     "execution_count": 32
    }
   ],
   "metadata": {}
  },
  {
   "cell_type": "code",
   "execution_count": 33,
   "source": [
    "y_train = train_news.target\r\n",
    "y_test = test_news.target"
   ],
   "outputs": [],
   "metadata": {}
  },
  {
   "cell_type": "markdown",
   "source": [
    "## 훈련/예측/평가"
   ],
   "metadata": {}
  },
  {
   "cell_type": "code",
   "execution_count": 34,
   "source": [
    "# Support Vector Machine의 Classifier 사용\r\n",
    "from sklearn.svm import SVC\r\n",
    "svc = SVC()\r\n",
    "svc.fit(X_train, y_train)"
   ],
   "outputs": [
    {
     "output_type": "execute_result",
     "data": {
      "text/plain": [
       "SVC()"
      ]
     },
     "metadata": {},
     "execution_count": 34
    }
   ],
   "metadata": {}
  },
  {
   "cell_type": "code",
   "execution_count": 35,
   "source": [
    "pred = svc.predict(X_test)"
   ],
   "outputs": [],
   "metadata": {}
  },
  {
   "cell_type": "code",
   "execution_count": 36,
   "source": [
    "from sklearn.metrics import accuracy_score\r\n",
    "accuracy_score(y_test, pred)"
   ],
   "outputs": [
    {
     "output_type": "execute_result",
     "data": {
      "text/plain": [
       "0.9669410515135423"
      ]
     },
     "metadata": {},
     "execution_count": 36
    }
   ],
   "metadata": {}
  }
 ],
 "metadata": {
  "orig_nbformat": 4,
  "language_info": {
   "name": "python",
   "version": "3.8.10",
   "mimetype": "text/x-python",
   "codemirror_mode": {
    "name": "ipython",
    "version": 3
   },
   "pygments_lexer": "ipython3",
   "nbconvert_exporter": "python",
   "file_extension": ".py"
  },
  "kernelspec": {
   "name": "python3",
   "display_name": "Python 3.8.10 64-bit ('btfsop': conda)"
  },
  "interpreter": {
   "hash": "795bef2181d8c1d673d637ebabbfa46c3363c718d3652ae25a9a4fec543c87a1"
  }
 },
 "nbformat": 4,
 "nbformat_minor": 2
}
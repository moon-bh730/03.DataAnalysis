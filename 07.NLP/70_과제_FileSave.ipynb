{
 "cells": [
  {
   "cell_type": "code",
   "execution_count": 3,
   "source": [
    "from selenium import webdriver\r\n",
    "from bs4 import BeautifulSoup\r\n",
    "import time\r\n",
    "import pandas as pd \r\n",
    "from urllib.parse import quote\r\n",
    "\r\n",
    "driver = webdriver.Chrome('data/chromedriver.exe')\r\n",
    "\r\n",
    "base_url = 'https://search.naver.com/search.naver?where=nexearch&sm=top_hty&fbm=1&ie=utf8&query='\r\n",
    "url = base_url + quote('테슬라')\r\n",
    "driver.get(url)"
   ],
   "outputs": [],
   "metadata": {}
  },
  {
   "cell_type": "code",
   "execution_count": 4,
   "source": [
    "driver.find_element_by_css_selector(\"div.lnb_group > div > ul > li:nth-child(4) > a\").click()\r\n",
    "time.sleep(5)"
   ],
   "outputs": [],
   "metadata": {}
  },
  {
   "cell_type": "code",
   "execution_count": 5,
   "source": [
    "# blog 페이지를 아래로 내려서 많은 데이터 확보\r\n",
    "from selenium.webdriver.common.keys import Keys\r\n",
    "\r\n",
    "body = driver.find_element_by_tag_name('body')\r\n",
    "for i in range(30):\r\n",
    "    body.send_keys(Keys.PAGE_DOWN)\r\n",
    "    time.sleep(2)"
   ],
   "outputs": [],
   "metadata": {}
  },
  {
   "cell_type": "code",
   "execution_count": 6,
   "source": [
    "html = driver.page_source\r\n",
    "soup = BeautifulSoup(html, 'html.parser')"
   ],
   "outputs": [],
   "metadata": {}
  },
  {
   "cell_type": "code",
   "execution_count": 7,
   "source": [
    "lis = soup.select('li.bx._svp_item')\r\n",
    "len(lis)"
   ],
   "outputs": [
    {
     "output_type": "execute_result",
     "data": {
      "text/plain": [
       "88"
      ]
     },
     "metadata": {},
     "execution_count": 7
    }
   ],
   "metadata": {}
  },
  {
   "cell_type": "code",
   "execution_count": 8,
   "source": [
    "li = lis[0]\r\n",
    "title = li.select_one('a.api_txt_lines.total_tit._cross_trigger').get_text()\r\n",
    "content = li.select_one('div.api_txt_lines.dsc_txt').get_text()\r\n",
    "date = li.select_one('.sub_time.sub_txt').get_text()\r\n",
    "title, date, content"
   ],
   "outputs": [
    {
     "output_type": "execute_result",
     "data": {
      "text/plain": [
       "('테슬라 모델3 PPF 찾고 계시나요? [부산 제로맥스]',\n",
       " '2021.08.14.',\n",
       " '오늘 만나볼 차량은 테슬라 모델3 리프레시입니다. 요즘 정말 핫한 차량이죠? 오늘 당장 계약해도 언제 출고... 해당 테슬라 모델 3 리프레시 차량처럼 기존에 시공된 생활보호 패키지의 경우는 그 차이가 심하진 않겠지만...')"
      ]
     },
     "metadata": {},
     "execution_count": 8
    }
   ],
   "metadata": {}
  },
  {
   "cell_type": "code",
   "execution_count": 9,
   "source": [
    "lis = soup.select('li.bx._svp_item')\r\n",
    "len(lis)"
   ],
   "outputs": [
    {
     "output_type": "execute_result",
     "data": {
      "text/plain": [
       "88"
      ]
     },
     "metadata": {},
     "execution_count": 9
    }
   ],
   "metadata": {}
  },
  {
   "cell_type": "code",
   "execution_count": 10,
   "source": [
    "title_list, content_list, date_list = [],[],[]\r\n",
    "for i, li in enumerate(lis):\r\n",
    "    try:\r\n",
    "        adv = li.select_one('a.link_ad').get_text()\r\n",
    "        print(adv.strip())\r\n",
    "        if adv.strip() == '광고':            \r\n",
    "            continue\r\n",
    "    except:\r\n",
    "        title = li.select_one('a.api_txt_lines.total_tit').get_text()\r\n",
    "        content = li.select_one('div.api_txt_lines.dsc_txt').get_text()\r\n",
    "        date = li.select_one('.sub_time.sub_txt').get_text()\r\n",
    "\r\n",
    "        title_list.append(title)\r\n",
    "        content_list.append(content)\r\n",
    "        date_list.append(date)"
   ],
   "outputs": [],
   "metadata": {}
  },
  {
   "cell_type": "code",
   "execution_count": 11,
   "source": [
    "df = pd.DataFrame({\r\n",
    "    'title':title_list, 'date':date_list, 'content':content_list\r\n",
    "})\r\n",
    "df.head()"
   ],
   "outputs": [
    {
     "output_type": "execute_result",
     "data": {
      "text/plain": [
       "                                   title         date  \\\n",
       "0         테슬라 모델3 PPF 찾고 계시나요? [부산 제로맥스]  2021.08.14.   \n",
       "1  폐배터리 관련주 테슬라 삼기, 천보, 영화테크 주가 강세 이어갈까?  2021.08.20.   \n",
       "2               증시리뷰 (테슬라 ai데이, 자율주행관련주)  2021.08.16.   \n",
       "3                      테슬라 주가가 헤매고 있는 이유  2021.08.13.   \n",
       "4              럭셔리 하우스에 설치되는 테슬라의 에코 시스템         5일 전   \n",
       "\n",
       "                                             content  \n",
       "0  오늘 만나볼 차량은 테슬라 모델3 리프레시입니다. 요즘 정말 핫한 차량이죠? 오늘 ...  \n",
       "1  첫번째는 테슬라 관련주인 삼기 ( 122350 ) 입니다. 알루미늄 다이캐스팅 전문...  \n",
       "2  테슬라 ai 데이 8/19 - 자율주행 관련주 관심 2. 8/18 FOMC 회의록 ...  \n",
       "3  테슬라 주주들의 불면증이 날로 심해지고 있다고 하네요. 이유는 올초까지만 해도 화성...  \n",
       "4  테슬라의 세 번째 주거 커뮤니티 프로젝트 환경 보호에 대한 관심이 높아지면서, 점차...  "
      ],
      "text/html": [
       "<div>\n",
       "<style scoped>\n",
       "    .dataframe tbody tr th:only-of-type {\n",
       "        vertical-align: middle;\n",
       "    }\n",
       "\n",
       "    .dataframe tbody tr th {\n",
       "        vertical-align: top;\n",
       "    }\n",
       "\n",
       "    .dataframe thead th {\n",
       "        text-align: right;\n",
       "    }\n",
       "</style>\n",
       "<table border=\"1\" class=\"dataframe\">\n",
       "  <thead>\n",
       "    <tr style=\"text-align: right;\">\n",
       "      <th></th>\n",
       "      <th>title</th>\n",
       "      <th>date</th>\n",
       "      <th>content</th>\n",
       "    </tr>\n",
       "  </thead>\n",
       "  <tbody>\n",
       "    <tr>\n",
       "      <th>0</th>\n",
       "      <td>테슬라 모델3 PPF 찾고 계시나요? [부산 제로맥스]</td>\n",
       "      <td>2021.08.14.</td>\n",
       "      <td>오늘 만나볼 차량은 테슬라 모델3 리프레시입니다. 요즘 정말 핫한 차량이죠? 오늘 ...</td>\n",
       "    </tr>\n",
       "    <tr>\n",
       "      <th>1</th>\n",
       "      <td>폐배터리 관련주 테슬라 삼기, 천보, 영화테크 주가 강세 이어갈까?</td>\n",
       "      <td>2021.08.20.</td>\n",
       "      <td>첫번째는 테슬라 관련주인 삼기 ( 122350 ) 입니다. 알루미늄 다이캐스팅 전문...</td>\n",
       "    </tr>\n",
       "    <tr>\n",
       "      <th>2</th>\n",
       "      <td>증시리뷰 (테슬라 ai데이, 자율주행관련주)</td>\n",
       "      <td>2021.08.16.</td>\n",
       "      <td>테슬라 ai 데이 8/19 - 자율주행 관련주 관심 2. 8/18 FOMC 회의록 ...</td>\n",
       "    </tr>\n",
       "    <tr>\n",
       "      <th>3</th>\n",
       "      <td>테슬라 주가가 헤매고 있는 이유</td>\n",
       "      <td>2021.08.13.</td>\n",
       "      <td>테슬라 주주들의 불면증이 날로 심해지고 있다고 하네요. 이유는 올초까지만 해도 화성...</td>\n",
       "    </tr>\n",
       "    <tr>\n",
       "      <th>4</th>\n",
       "      <td>럭셔리 하우스에 설치되는 테슬라의 에코 시스템</td>\n",
       "      <td>5일 전</td>\n",
       "      <td>테슬라의 세 번째 주거 커뮤니티 프로젝트 환경 보호에 대한 관심이 높아지면서, 점차...</td>\n",
       "    </tr>\n",
       "  </tbody>\n",
       "</table>\n",
       "</div>"
      ]
     },
     "metadata": {},
     "execution_count": 11
    }
   ],
   "metadata": {}
  },
  {
   "cell_type": "code",
   "execution_count": 12,
   "source": [
    "df.shape"
   ],
   "outputs": [
    {
     "output_type": "execute_result",
     "data": {
      "text/plain": [
       "(88, 3)"
      ]
     },
     "metadata": {},
     "execution_count": 12
    }
   ],
   "metadata": {}
  },
  {
   "cell_type": "code",
   "execution_count": 13,
   "source": [
    "df.to_csv('data/tesla.txt')"
   ],
   "outputs": [],
   "metadata": {}
  },
  {
   "cell_type": "code",
   "execution_count": 14,
   "source": [
    "driver.close()"
   ],
   "outputs": [],
   "metadata": {}
  }
 ],
 "metadata": {
  "orig_nbformat": 4,
  "language_info": {
   "name": "python",
   "version": "3.8.10",
   "mimetype": "text/x-python",
   "codemirror_mode": {
    "name": "ipython",
    "version": 3
   },
   "pygments_lexer": "ipython3",
   "nbconvert_exporter": "python",
   "file_extension": ".py"
  },
  "kernelspec": {
   "name": "python3",
   "display_name": "Python 3.8.10 64-bit ('btfsop': conda)"
  },
  "interpreter": {
   "hash": "795bef2181d8c1d673d637ebabbfa46c3363c718d3652ae25a9a4fec543c87a1"
  }
 },
 "nbformat": 4,
 "nbformat_minor": 2
}
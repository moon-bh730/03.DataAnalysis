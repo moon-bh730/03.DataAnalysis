{
 "cells": [
  {
   "cell_type": "markdown",
   "source": [
    "\r\n",
    "5. 0에서 10까지 랜덤 실수값으로 이루어진 5 x 6 형태의 데이터 행렬을 만들고 이 데이터에\r\n",
    "대해 다음과 같은 값을 구하시오.\r\n",
    "1) 전체의 최댓값\r\n",
    "2) 각 행의 합\r\n",
    "3) 각 행의 최댓값\r\n",
    "4) 각 열의 평균\r\n",
    "5) 각 열의 최솟값\r\n",
    "6. 다음 배열은 첫번째 행(row)에 학번, 두번째 행에 영어 성적, 세번째 행에 수학 성적을 적은\r\n",
    "배열이다. 영어 성적을 기준으로 각 열(column)을 재정렬하시오.\r\n",
    "array([[ 1, 2, 3, 4],\r\n",
    "[ 46, 99, 100, 71],\r\n",
    "[ 81, 59, 90, 100]])\r\n",
    "7. 주사위를 100번 던지는 가상 실험을 파이썬으로 작성하고,\r\n",
    "던져서 나오는 숫자의 평균을 구하시오.\r\n",
    "8. 가격이 10,000원인 주식이 있다. 이 주식의 일간 수익률(%)은 기댓값이 0%이고 표준편차가 1%\r\n",
    "인 표준 정규 분포를 따른다고 하자. 250일 동안의 주가를 무작위로 생성하시오.\r\n"
   ],
   "metadata": {}
  },
  {
   "cell_type": "code",
   "execution_count": 2,
   "source": [
    "import numpy as np"
   ],
   "outputs": [],
   "metadata": {}
  },
  {
   "cell_type": "markdown",
   "source": [
    "1. 넘파이를 사용하여 다음과 같은 행렬을 만드시오.\r\n",
    "   - 10 20 30 40\r\n",
    "   -  50 60 70 80"
   ],
   "metadata": {}
  },
  {
   "cell_type": "code",
   "execution_count": 7,
   "source": [
    "a =  np.arange(10,90,10).reshape(2,4)\r\n",
    "a"
   ],
   "outputs": [
    {
     "output_type": "execute_result",
     "data": {
      "text/plain": [
       "array([[10, 20, 30, 40],\n",
       "       [50, 60, 70, 80]])"
      ]
     },
     "metadata": {},
     "execution_count": 7
    }
   ],
   "metadata": {}
  },
  {
   "cell_type": "markdown",
   "source": [
    "2. 다음 행렬과 같은 행렬이 있다.\r\n",
    "    - m = np.array([[ 0, 1, 2, 3, 4],\r\n",
    "    -               [ 5, 6, 7, 8, 9],\r\n",
    "    -               [10, 11, 12, 13, 14]])\r\n",
    "    - 1) 이 행렬에서 값 7 을 인덱싱한다.\r\n",
    "    - 2) 이 행렬에서 값 14 을 인덱싱한다.\r\n",
    "    - 3) 이 행렬에서 배열 [6, 7] 을 슬라이싱한다.\r\n",
    "    - 4) 이 행렬에서 배열 [7, 12] 을 슬라이싱한다.\r\n",
    "    - 5) 이 행렬에서 배열 [[3, 4], [8, 9]] 을 슬라이싱한다."
   ],
   "metadata": {}
  },
  {
   "cell_type": "code",
   "execution_count": 10,
   "source": [
    "\r\n",
    "m = np.array([[ 0, 1, 2, 3, 4], [ 5, 6, 7, 8, 9], [10, 11, 12, 13, 14]])\r\n",
    "m"
   ],
   "outputs": [
    {
     "output_type": "execute_result",
     "data": {
      "text/plain": [
       "array([[ 0,  1,  2,  3,  4],\n",
       "       [ 5,  6,  7,  8,  9],\n",
       "       [10, 11, 12, 13, 14]])"
      ]
     },
     "metadata": {},
     "execution_count": 10
    }
   ],
   "metadata": {}
  },
  {
   "cell_type": "code",
   "execution_count": 73,
   "source": [
    "#m[1,2], m[-1,-1]\r\n",
    "m[1,2], m[2,4]"
   ],
   "outputs": [
    {
     "output_type": "execute_result",
     "data": {
      "text/plain": [
       "(7, 14)"
      ]
     },
     "metadata": {},
     "execution_count": 73
    }
   ],
   "metadata": {}
  },
  {
   "cell_type": "code",
   "execution_count": 59,
   "source": [
    "m[1:2,1:3], m[1:3,2:3], m[0:2,3:5]"
   ],
   "outputs": [
    {
     "output_type": "execute_result",
     "data": {
      "text/plain": [
       "(array([[6, 7]]),\n",
       " array([[ 7],\n",
       "        [12]]),\n",
       " array([[3, 4],\n",
       "        [8, 9]]))"
      ]
     },
     "metadata": {},
     "execution_count": 59
    }
   ],
   "metadata": {}
  },
  {
   "cell_type": "markdown",
   "source": [
    "3. 2번의 행렬 m을 1차원 벡터 f 로 변환한 후 다음의 문제를 푸시오.\r\n",
    "    1) 이 배열에서 3의 배수를 찾아라.\r\n",
    "    2) 이 배열에서 4로 나누면 1이 남는 수를 찾아라.\r\n",
    "    3) 이 배열에서 3으로 나누면 나누어지고 4로 나누면 1이 남는 수를 찾아라."
   ],
   "metadata": {}
  },
  {
   "cell_type": "code",
   "execution_count": 60,
   "source": [
    "#np.array(test_matrix).flatten()\r\n",
    "f = np.array(m).flatten()\r\n",
    "f"
   ],
   "outputs": [
    {
     "output_type": "execute_result",
     "data": {
      "text/plain": [
       "array([ 0,  1,  2,  3,  4,  5,  6,  7,  8,  9, 10, 11, 12, 13, 14])"
      ]
     },
     "metadata": {},
     "execution_count": 60
    }
   ],
   "metadata": {}
  },
  {
   "cell_type": "code",
   "execution_count": 68,
   "source": [
    "for k in f:\r\n",
    "    if (f[k] % 3 ==0) and f[k] > 0:\r\n",
    "        print(f[k])"
   ],
   "outputs": [
    {
     "output_type": "stream",
     "name": "stdout",
     "text": [
      "3\n",
      "6\n",
      "9\n",
      "12\n"
     ]
    }
   ],
   "metadata": {}
  },
  {
   "cell_type": "code",
   "execution_count": 69,
   "source": [
    "for k in f:\r\n",
    "    if f[k] % 4 ==1:\r\n",
    "        print(f[k])"
   ],
   "outputs": [
    {
     "output_type": "stream",
     "name": "stdout",
     "text": [
      "1\n",
      "5\n",
      "9\n",
      "13\n"
     ]
    }
   ],
   "metadata": {}
  },
  {
   "cell_type": "code",
   "execution_count": 72,
   "source": [
    "for k in f:\r\n",
    "    if (f[k] % 3 ==0) and (f[k] % 4 ==1) > 0:\r\n",
    "        print(f[k])"
   ],
   "outputs": [
    {
     "output_type": "stream",
     "name": "stdout",
     "text": [
      "9\n"
     ]
    }
   ],
   "metadata": {}
  },
  {
   "cell_type": "markdown",
   "source": [
    "### 4. 값을 직접 입력하지 말고 다음 행렬을 만드시오.\r\n",
    "\r\n",
    "    2, 1, 0, 0, 0\r\n",
    "    3, 2, 1, 0, 0\r\n",
    "    0, 3, 2, 1, 0\r\n",
    "    0, 0, 3, 2, 1\r\n",
    "    0, 0, 0, 3, 2"
   ],
   "metadata": {}
  },
  {
   "cell_type": "markdown",
   "source": [],
   "metadata": {}
  },
  {
   "cell_type": "code",
   "execution_count": null,
   "source": [],
   "outputs": [],
   "metadata": {}
  }
 ],
 "metadata": {
  "orig_nbformat": 4,
  "language_info": {
   "name": "python",
   "version": "3.8.10",
   "mimetype": "text/x-python",
   "codemirror_mode": {
    "name": "ipython",
    "version": 3
   },
   "pygments_lexer": "ipython3",
   "nbconvert_exporter": "python",
   "file_extension": ".py"
  },
  "kernelspec": {
   "name": "python3",
   "display_name": "Python 3.8.10 64-bit ('btfsop': conda)"
  },
  "interpreter": {
   "hash": "795bef2181d8c1d673d637ebabbfa46c3363c718d3652ae25a9a4fec543c87a1"
  }
 },
 "nbformat": 4,
 "nbformat_minor": 2
}
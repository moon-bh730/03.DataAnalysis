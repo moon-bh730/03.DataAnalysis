{
 "cells": [
  {
   "cell_type": "code",
   "execution_count": 4,
   "source": [
    "import numpy as np"
   ],
   "outputs": [],
   "metadata": {}
  },
  {
   "cell_type": "code",
   "execution_count": 5,
   "source": [
    "list_data = [1,2,3]\r\n",
    "list_data"
   ],
   "outputs": [
    {
     "output_type": "execute_result",
     "data": {
      "text/plain": [
       "[1, 2, 3]"
      ]
     },
     "metadata": {},
     "execution_count": 5
    }
   ],
   "metadata": {}
  },
  {
   "cell_type": "code",
   "execution_count": 6,
   "source": [
    "array = np.array(list_data)\r\n",
    "print(array)"
   ],
   "outputs": [
    {
     "output_type": "stream",
     "name": "stdout",
     "text": [
      "[1 2 3]\n"
     ]
    }
   ],
   "metadata": {}
  },
  {
   "cell_type": "code",
   "execution_count": 11,
   "source": [
    "print(array.size)\r\n",
    "print(array.dtype)\r\n",
    "print(array[2])"
   ],
   "outputs": [
    {
     "output_type": "stream",
     "name": "stdout",
     "text": [
      "3\n",
      "int32\n",
      "3\n"
     ]
    }
   ],
   "metadata": {}
  },
  {
   "cell_type": "code",
   "execution_count": 12,
   "source": [
    "# 0~3배열 만들기\r\n",
    "array1 = np.arange(4)\r\n",
    "print(array1)"
   ],
   "outputs": [
    {
     "output_type": "stream",
     "name": "stdout",
     "text": [
      "[0 1 2 3]\n"
     ]
    }
   ],
   "metadata": {}
  },
  {
   "cell_type": "code",
   "execution_count": 13,
   "source": [
    "array2 = np.zeros((4,4),dtype=float)\r\n",
    "print(array2)"
   ],
   "outputs": [
    {
     "output_type": "stream",
     "name": "stdout",
     "text": [
      "[[0. 0. 0. 0.]\n",
      " [0. 0. 0. 0.]\n",
      " [0. 0. 0. 0.]\n",
      " [0. 0. 0. 0.]]\n"
     ]
    }
   ],
   "metadata": {}
  },
  {
   "cell_type": "code",
   "execution_count": 15,
   "source": [
    "array3 = np.ones((4,4),dtype=str)\r\n",
    "print(array3)"
   ],
   "outputs": [
    {
     "output_type": "stream",
     "name": "stdout",
     "text": [
      "[['1' '1' '1' '1']\n",
      " ['1' '1' '1' '1']\n",
      " ['1' '1' '1' '1']\n",
      " ['1' '1' '1' '1']]\n"
     ]
    }
   ],
   "metadata": {}
  },
  {
   "cell_type": "code",
   "execution_count": 16,
   "source": [
    "# 0~9 까지 랜덤하게\r\n",
    "array4 = np.random.randint(0,10,(3,3))\r\n",
    "print(array4)"
   ],
   "outputs": [
    {
     "output_type": "stream",
     "name": "stdout",
     "text": [
      "[[3 5 0]\n",
      " [4 7 5]\n",
      " [6 4 6]]\n"
     ]
    }
   ],
   "metadata": {}
  },
  {
   "cell_type": "code",
   "execution_count": 17,
   "source": [
    "# 통계적 분포 배열 생성\r\n",
    "# 평균이 0, 표준편차 1인 표준 정규분포 배열 생성\r\n",
    "array5 = np.random.normal(0,1, (3,3))\r\n",
    "print(array5)"
   ],
   "outputs": [
    {
     "output_type": "stream",
     "name": "stdout",
     "text": [
      "[[ 0.46513864  0.9872131   0.47417364]\n",
      " [-1.37042929  0.15506573  1.12740738]\n",
      " [ 0.46785566 -0.05560374  2.15472342]]\n"
     ]
    }
   ],
   "metadata": {}
  },
  {
   "cell_type": "code",
   "execution_count": 19,
   "source": [
    "# 배열 합치기\r\n",
    "array1 = np.array([1,2,3])\r\n",
    "array2 = np.array([4,5,6])\r\n",
    "array3 = np.concatenate([array1, array2])\r\n",
    "\r\n",
    "print(array3.shape)\r\n",
    "print(array3)"
   ],
   "outputs": [
    {
     "output_type": "stream",
     "name": "stdout",
     "text": [
      "(6,)\n",
      "[1 2 3 4 5 6]\n"
     ]
    }
   ],
   "metadata": {}
  },
  {
   "cell_type": "code",
   "execution_count": 20,
   "source": [
    "# 가로축 합치기\r\n",
    "array1 = np.array([1,2,3,4])\r\n",
    "array2 = array1.reshape((2,2))\r\n",
    "print(array2)"
   ],
   "outputs": [
    {
     "output_type": "stream",
     "name": "stdout",
     "text": [
      "[[1 2]\n",
      " [3 4]]\n"
     ]
    }
   ],
   "metadata": {}
  },
  {
   "cell_type": "code",
   "execution_count": 26,
   "source": [
    "#세로축 합치기\r\n",
    "array1 = np.arange(4).reshape(1,4)\r\n",
    "array2 = np.arange(8).reshape(2,4)\r\n",
    "print(array1)\r\n",
    "print(array2)\r\n",
    "array3 = np.concatenate([array1, array2],axis=0)\r\n",
    "print(array3)\r\n"
   ],
   "outputs": [
    {
     "output_type": "stream",
     "name": "stdout",
     "text": [
      "[[0 1 2 3]]\n",
      "[[0 1 2 3]\n",
      " [4 5 6 7]]\n",
      "[[0 1 2 3]\n",
      " [0 1 2 3]\n",
      " [4 5 6 7]]\n"
     ]
    }
   ],
   "metadata": {}
  },
  {
   "cell_type": "code",
   "execution_count": 31,
   "source": [
    "array = np.arange(8).reshape(2,4)\r\n",
    "print(array)\r\n",
    "left, right = np.split(array, [2], axis=1)\r\n",
    "print(left.shape)\r\n",
    "print(right.shape)\r\n",
    "print(left)\r\n",
    "print(right)"
   ],
   "outputs": [
    {
     "output_type": "stream",
     "name": "stdout",
     "text": [
      "[[0 1 2 3]\n",
      " [4 5 6 7]]\n",
      "(2, 2)\n",
      "(2, 2)\n",
      "[[0 1]\n",
      " [4 5]]\n",
      "[[2 3]\n",
      " [6 7]]\n"
     ]
    }
   ],
   "metadata": {}
  }
 ],
 "metadata": {
  "orig_nbformat": 4,
  "language_info": {
   "name": "python",
   "version": "3.8.10",
   "mimetype": "text/x-python",
   "codemirror_mode": {
    "name": "ipython",
    "version": 3
   },
   "pygments_lexer": "ipython3",
   "nbconvert_exporter": "python",
   "file_extension": ".py"
  },
  "kernelspec": {
   "name": "python3",
   "display_name": "Python 3.8.10 64-bit ('btfsop': conda)"
  },
  "interpreter": {
   "hash": "795bef2181d8c1d673d637ebabbfa46c3363c718d3652ae25a9a4fec543c87a1"
  }
 },
 "nbformat": 4,
 "nbformat_minor": 2
}
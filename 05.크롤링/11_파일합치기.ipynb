{
 "cells": [
  {
   "cell_type": "markdown",
   "source": [
    "\r\n",
    "## 4가지 데이터 파일의 중복을 제거한 후 통합 저장"
   ],
   "metadata": {}
  },
  {
   "cell_type": "code",
   "execution_count": null,
   "source": [
    "import pandas as pd\r\n",
    "\r\n",
    "filename = \"data/\"\r\n",
    "raw_df = pd.read_csv()"
   ],
   "outputs": [],
   "metadata": {}
  },
  {
   "cell_type": "code",
   "execution_count": 1,
   "source": [
    "filenames = []\r\n",
    "filenames = ['1_crawling_jejudoGwanGwang.xlsx',\r\n",
    " '1_crawling_jejudoMatJip.xlsx',\r\n",
    " '1_crawling_jejuMatJip.xlsx',\r\n",
    " '1_crawling_jejuYeoHang.xlsx']"
   ],
   "outputs": [],
   "metadata": {}
  },
  {
   "cell_type": "code",
   "execution_count": 3,
   "source": [
    "import pandas as pd\r\n",
    "\r\n",
    "df = pd.read_excel(\"data/\"+filenames[0])\r\n",
    "df.head()"
   ],
   "outputs": [
    {
     "output_type": "execute_result",
     "data": {
      "text/plain": [
       "                                             content        date   like  \\\n",
       "0  더 늦기전에 제주도로 떠나쟈😍.#제주핫플레이스 간단히 1탄 모아봄!#제주여행 요 필...  2018-12-07  1,402   \n",
       "1  12월에 제주도를 가야하는이유🍊.#제주핫플 모음 끝판왕😍이거 하나면 겨울 #제주여행...  2018-12-03    368   \n",
       "2  11월 놓치지 말아야 할 제주 관광.가을바람이 최고조에 이르는 11월추운 겨울을 앞...  2018-11-02    166   \n",
       "3  국민학교세대#제주관광#제주살이#제주이주민#아라동주민#삼남매집 #새해첫날#드라이브#명...  2019-01-01     28   \n",
       "4  #제주관광 #제주 #돔나이트 #스트레스 #풀자 #춤추며 #땀날려 #가끔은괜찮아 #인...  2019-01-01     12   \n",
       "\n",
       "    place                                               tags  \n",
       "0     NaN  ['#제주핫플레이스', '#제주여행', '#제주여행', '#제주도여행', '#제주가...  \n",
       "1     NaN  ['#제주핫플', '#제주여행', '#제주', '#제주도', '#제주도맛집', '#...  \n",
       "2     NaN  ['#honestin', '#어니스틴', '#제주여행', '#제주', '#제주도',...  \n",
       "3  명월국민학교  ['#제주관광', '#제주살이', '#제주이주민', '#아라동주민', '#삼남매집'...  \n",
       "4     NaN  ['#제주관광', '#제주', '#돔나이트', '#스트레스', '#풀자', '#춤추...  "
      ],
      "text/html": [
       "<div>\n",
       "<style scoped>\n",
       "    .dataframe tbody tr th:only-of-type {\n",
       "        vertical-align: middle;\n",
       "    }\n",
       "\n",
       "    .dataframe tbody tr th {\n",
       "        vertical-align: top;\n",
       "    }\n",
       "\n",
       "    .dataframe thead th {\n",
       "        text-align: right;\n",
       "    }\n",
       "</style>\n",
       "<table border=\"1\" class=\"dataframe\">\n",
       "  <thead>\n",
       "    <tr style=\"text-align: right;\">\n",
       "      <th></th>\n",
       "      <th>content</th>\n",
       "      <th>date</th>\n",
       "      <th>like</th>\n",
       "      <th>place</th>\n",
       "      <th>tags</th>\n",
       "    </tr>\n",
       "  </thead>\n",
       "  <tbody>\n",
       "    <tr>\n",
       "      <th>0</th>\n",
       "      <td>더 늦기전에 제주도로 떠나쟈😍.#제주핫플레이스 간단히 1탄 모아봄!#제주여행 요 필...</td>\n",
       "      <td>2018-12-07</td>\n",
       "      <td>1,402</td>\n",
       "      <td>NaN</td>\n",
       "      <td>['#제주핫플레이스', '#제주여행', '#제주여행', '#제주도여행', '#제주가...</td>\n",
       "    </tr>\n",
       "    <tr>\n",
       "      <th>1</th>\n",
       "      <td>12월에 제주도를 가야하는이유🍊.#제주핫플 모음 끝판왕😍이거 하나면 겨울 #제주여행...</td>\n",
       "      <td>2018-12-03</td>\n",
       "      <td>368</td>\n",
       "      <td>NaN</td>\n",
       "      <td>['#제주핫플', '#제주여행', '#제주', '#제주도', '#제주도맛집', '#...</td>\n",
       "    </tr>\n",
       "    <tr>\n",
       "      <th>2</th>\n",
       "      <td>11월 놓치지 말아야 할 제주 관광.가을바람이 최고조에 이르는 11월추운 겨울을 앞...</td>\n",
       "      <td>2018-11-02</td>\n",
       "      <td>166</td>\n",
       "      <td>NaN</td>\n",
       "      <td>['#honestin', '#어니스틴', '#제주여행', '#제주', '#제주도',...</td>\n",
       "    </tr>\n",
       "    <tr>\n",
       "      <th>3</th>\n",
       "      <td>국민학교세대#제주관광#제주살이#제주이주민#아라동주민#삼남매집 #새해첫날#드라이브#명...</td>\n",
       "      <td>2019-01-01</td>\n",
       "      <td>28</td>\n",
       "      <td>명월국민학교</td>\n",
       "      <td>['#제주관광', '#제주살이', '#제주이주민', '#아라동주민', '#삼남매집'...</td>\n",
       "    </tr>\n",
       "    <tr>\n",
       "      <th>4</th>\n",
       "      <td>#제주관광 #제주 #돔나이트 #스트레스 #풀자 #춤추며 #땀날려 #가끔은괜찮아 #인...</td>\n",
       "      <td>2019-01-01</td>\n",
       "      <td>12</td>\n",
       "      <td>NaN</td>\n",
       "      <td>['#제주관광', '#제주', '#돔나이트', '#스트레스', '#풀자', '#춤추...</td>\n",
       "    </tr>\n",
       "  </tbody>\n",
       "</table>\n",
       "</div>"
      ]
     },
     "metadata": {},
     "execution_count": 3
    }
   ],
   "metadata": {}
  },
  {
   "cell_type": "code",
   "execution_count": 5,
   "source": [
    "jeju_df = pd.DataFrame([])\r\n",
    "for fname in filenames:\r\n",
    "    df = pd.read_excel(\"data/\"+fname)\r\n",
    "    jeju_df = jeju_df.append(df)\r\n",
    "\r\n",
    "jeju_df.shape"
   ],
   "outputs": [
    {
     "output_type": "execute_result",
     "data": {
      "text/plain": [
       "(12780, 5)"
      ]
     },
     "metadata": {},
     "execution_count": 5
    }
   ],
   "metadata": {}
  },
  {
   "cell_type": "code",
   "execution_count": 6,
   "source": [
    "# 중복 데이터 제거\r\n",
    "jeju_df.drop_duplicates(subset=['content'], inplace=True)\r\n",
    "jeju_df.to_csv('제주핫플레이스.csv', index=False)"
   ],
   "outputs": [],
   "metadata": {}
  },
  {
   "cell_type": "code",
   "execution_count": 7,
   "source": [
    "jeju_df.shape"
   ],
   "outputs": [
    {
     "output_type": "execute_result",
     "data": {
      "text/plain": [
       "(8369, 5)"
      ]
     },
     "metadata": {},
     "execution_count": 7
    }
   ],
   "metadata": {}
  },
  {
   "cell_type": "code",
   "execution_count": 8,
   "source": [
    "jeju_df.tail()"
   ],
   "outputs": [
    {
     "output_type": "execute_result",
     "data": {
      "text/plain": [
       "                                                content        date like  \\\n",
       "1702  Now it's purple😆💜수색 넘 이쀼리 🤭 올해는 아퓨지말구 즐거운 일만 가...  2019-01-01   42   \n",
       "1703  .간다간다간다#제주 #친정여행 #겨울방학 #제주여행앞머리는 괜히 전날 잘라서 또순이...  2019-01-01   50   \n",
       "1705  2019년 모두 복 많이많이 받고 풍요로운 한해 보내길 ♥️#사진좀찍으시는님덕에건져...  2019-01-01   68   \n",
       "1706  2018.12.25 ⠀룸에 의자가 두개 밖에 없어서 ⠀이현이는 유모차에 앉아서 식사...  2019-01-01   70   \n",
       "1707  .2019년 첫날디스이즈핫에서 새해를 맞이하시는 손님들께 떡국을 준비했습니다.한 해...  2019-01-01   48   \n",
       "\n",
       "      place                                               tags  \n",
       "1702    NaN  ['#일상', '#구기자', '#티타임', '#2019', '#새해', '#차스타그...  \n",
       "1703    NaN  ['#제주', '#친정여행', '#겨울방학', '#제주여행앞머리는', '#친정찬스'...  \n",
       "1705   Jeju                         ['#사진좀찍으시는님덕에건져또', '#이순간']  \n",
       "1706    NaN                                                 []  \n",
       "1707  디스이즈핫                          ['#HappyNewYearEveryone']  "
      ],
      "text/html": [
       "<div>\n",
       "<style scoped>\n",
       "    .dataframe tbody tr th:only-of-type {\n",
       "        vertical-align: middle;\n",
       "    }\n",
       "\n",
       "    .dataframe tbody tr th {\n",
       "        vertical-align: top;\n",
       "    }\n",
       "\n",
       "    .dataframe thead th {\n",
       "        text-align: right;\n",
       "    }\n",
       "</style>\n",
       "<table border=\"1\" class=\"dataframe\">\n",
       "  <thead>\n",
       "    <tr style=\"text-align: right;\">\n",
       "      <th></th>\n",
       "      <th>content</th>\n",
       "      <th>date</th>\n",
       "      <th>like</th>\n",
       "      <th>place</th>\n",
       "      <th>tags</th>\n",
       "    </tr>\n",
       "  </thead>\n",
       "  <tbody>\n",
       "    <tr>\n",
       "      <th>1702</th>\n",
       "      <td>Now it's purple😆💜수색 넘 이쀼리 🤭 올해는 아퓨지말구 즐거운 일만 가...</td>\n",
       "      <td>2019-01-01</td>\n",
       "      <td>42</td>\n",
       "      <td>NaN</td>\n",
       "      <td>['#일상', '#구기자', '#티타임', '#2019', '#새해', '#차스타그...</td>\n",
       "    </tr>\n",
       "    <tr>\n",
       "      <th>1703</th>\n",
       "      <td>.간다간다간다#제주 #친정여행 #겨울방학 #제주여행앞머리는 괜히 전날 잘라서 또순이...</td>\n",
       "      <td>2019-01-01</td>\n",
       "      <td>50</td>\n",
       "      <td>NaN</td>\n",
       "      <td>['#제주', '#친정여행', '#겨울방학', '#제주여행앞머리는', '#친정찬스'...</td>\n",
       "    </tr>\n",
       "    <tr>\n",
       "      <th>1705</th>\n",
       "      <td>2019년 모두 복 많이많이 받고 풍요로운 한해 보내길 ♥️#사진좀찍으시는님덕에건져...</td>\n",
       "      <td>2019-01-01</td>\n",
       "      <td>68</td>\n",
       "      <td>Jeju</td>\n",
       "      <td>['#사진좀찍으시는님덕에건져또', '#이순간']</td>\n",
       "    </tr>\n",
       "    <tr>\n",
       "      <th>1706</th>\n",
       "      <td>2018.12.25 ⠀룸에 의자가 두개 밖에 없어서 ⠀이현이는 유모차에 앉아서 식사...</td>\n",
       "      <td>2019-01-01</td>\n",
       "      <td>70</td>\n",
       "      <td>NaN</td>\n",
       "      <td>[]</td>\n",
       "    </tr>\n",
       "    <tr>\n",
       "      <th>1707</th>\n",
       "      <td>.2019년 첫날디스이즈핫에서 새해를 맞이하시는 손님들께 떡국을 준비했습니다.한 해...</td>\n",
       "      <td>2019-01-01</td>\n",
       "      <td>48</td>\n",
       "      <td>디스이즈핫</td>\n",
       "      <td>['#HappyNewYearEveryone']</td>\n",
       "    </tr>\n",
       "  </tbody>\n",
       "</table>\n",
       "</div>"
      ]
     },
     "metadata": {},
     "execution_count": 8
    }
   ],
   "metadata": {}
  },
  {
   "cell_type": "code",
   "execution_count": 9,
   "source": [
    "df = pd.read_csv('제주핫플레이스.csv')\r\n",
    "df.head()"
   ],
   "outputs": [
    {
     "output_type": "execute_result",
     "data": {
      "text/plain": [
       "                                             content        date   like  \\\n",
       "0  더 늦기전에 제주도로 떠나쟈😍.#제주핫플레이스 간단히 1탄 모아봄!#제주여행 요 필...  2018-12-07  1,402   \n",
       "1  12월에 제주도를 가야하는이유🍊.#제주핫플 모음 끝판왕😍이거 하나면 겨울 #제주여행...  2018-12-03    368   \n",
       "2  11월 놓치지 말아야 할 제주 관광.가을바람이 최고조에 이르는 11월추운 겨울을 앞...  2018-11-02    166   \n",
       "3  국민학교세대#제주관광#제주살이#제주이주민#아라동주민#삼남매집 #새해첫날#드라이브#명...  2019-01-01     28   \n",
       "4  #제주관광 #제주 #돔나이트 #스트레스 #풀자 #춤추며 #땀날려 #가끔은괜찮아 #인...  2019-01-01     12   \n",
       "\n",
       "    place                                               tags  \n",
       "0     NaN  ['#제주핫플레이스', '#제주여행', '#제주여행', '#제주도여행', '#제주가...  \n",
       "1     NaN  ['#제주핫플', '#제주여행', '#제주', '#제주도', '#제주도맛집', '#...  \n",
       "2     NaN  ['#honestin', '#어니스틴', '#제주여행', '#제주', '#제주도',...  \n",
       "3  명월국민학교  ['#제주관광', '#제주살이', '#제주이주민', '#아라동주민', '#삼남매집'...  \n",
       "4     NaN  ['#제주관광', '#제주', '#돔나이트', '#스트레스', '#풀자', '#춤추...  "
      ],
      "text/html": [
       "<div>\n",
       "<style scoped>\n",
       "    .dataframe tbody tr th:only-of-type {\n",
       "        vertical-align: middle;\n",
       "    }\n",
       "\n",
       "    .dataframe tbody tr th {\n",
       "        vertical-align: top;\n",
       "    }\n",
       "\n",
       "    .dataframe thead th {\n",
       "        text-align: right;\n",
       "    }\n",
       "</style>\n",
       "<table border=\"1\" class=\"dataframe\">\n",
       "  <thead>\n",
       "    <tr style=\"text-align: right;\">\n",
       "      <th></th>\n",
       "      <th>content</th>\n",
       "      <th>date</th>\n",
       "      <th>like</th>\n",
       "      <th>place</th>\n",
       "      <th>tags</th>\n",
       "    </tr>\n",
       "  </thead>\n",
       "  <tbody>\n",
       "    <tr>\n",
       "      <th>0</th>\n",
       "      <td>더 늦기전에 제주도로 떠나쟈😍.#제주핫플레이스 간단히 1탄 모아봄!#제주여행 요 필...</td>\n",
       "      <td>2018-12-07</td>\n",
       "      <td>1,402</td>\n",
       "      <td>NaN</td>\n",
       "      <td>['#제주핫플레이스', '#제주여행', '#제주여행', '#제주도여행', '#제주가...</td>\n",
       "    </tr>\n",
       "    <tr>\n",
       "      <th>1</th>\n",
       "      <td>12월에 제주도를 가야하는이유🍊.#제주핫플 모음 끝판왕😍이거 하나면 겨울 #제주여행...</td>\n",
       "      <td>2018-12-03</td>\n",
       "      <td>368</td>\n",
       "      <td>NaN</td>\n",
       "      <td>['#제주핫플', '#제주여행', '#제주', '#제주도', '#제주도맛집', '#...</td>\n",
       "    </tr>\n",
       "    <tr>\n",
       "      <th>2</th>\n",
       "      <td>11월 놓치지 말아야 할 제주 관광.가을바람이 최고조에 이르는 11월추운 겨울을 앞...</td>\n",
       "      <td>2018-11-02</td>\n",
       "      <td>166</td>\n",
       "      <td>NaN</td>\n",
       "      <td>['#honestin', '#어니스틴', '#제주여행', '#제주', '#제주도',...</td>\n",
       "    </tr>\n",
       "    <tr>\n",
       "      <th>3</th>\n",
       "      <td>국민학교세대#제주관광#제주살이#제주이주민#아라동주민#삼남매집 #새해첫날#드라이브#명...</td>\n",
       "      <td>2019-01-01</td>\n",
       "      <td>28</td>\n",
       "      <td>명월국민학교</td>\n",
       "      <td>['#제주관광', '#제주살이', '#제주이주민', '#아라동주민', '#삼남매집'...</td>\n",
       "    </tr>\n",
       "    <tr>\n",
       "      <th>4</th>\n",
       "      <td>#제주관광 #제주 #돔나이트 #스트레스 #풀자 #춤추며 #땀날려 #가끔은괜찮아 #인...</td>\n",
       "      <td>2019-01-01</td>\n",
       "      <td>12</td>\n",
       "      <td>NaN</td>\n",
       "      <td>['#제주관광', '#제주', '#돔나이트', '#스트레스', '#풀자', '#춤추...</td>\n",
       "    </tr>\n",
       "  </tbody>\n",
       "</table>\n",
       "</div>"
      ]
     },
     "metadata": {},
     "execution_count": 9
    }
   ],
   "metadata": {}
  },
  {
   "cell_type": "code",
   "execution_count": 10,
   "source": [
    "df.tail()"
   ],
   "outputs": [
    {
     "output_type": "execute_result",
     "data": {
      "text/plain": [
       "                                                content        date like  \\\n",
       "8364  Now it's purple😆💜수색 넘 이쀼리 🤭 올해는 아퓨지말구 즐거운 일만 가...  2019-01-01   42   \n",
       "8365  .간다간다간다#제주 #친정여행 #겨울방학 #제주여행앞머리는 괜히 전날 잘라서 또순이...  2019-01-01   50   \n",
       "8366  2019년 모두 복 많이많이 받고 풍요로운 한해 보내길 ♥️#사진좀찍으시는님덕에건져...  2019-01-01   68   \n",
       "8367  2018.12.25 ⠀룸에 의자가 두개 밖에 없어서 ⠀이현이는 유모차에 앉아서 식사...  2019-01-01   70   \n",
       "8368  .2019년 첫날디스이즈핫에서 새해를 맞이하시는 손님들께 떡국을 준비했습니다.한 해...  2019-01-01   48   \n",
       "\n",
       "      place                                               tags  \n",
       "8364    NaN  ['#일상', '#구기자', '#티타임', '#2019', '#새해', '#차스타그...  \n",
       "8365    NaN  ['#제주', '#친정여행', '#겨울방학', '#제주여행앞머리는', '#친정찬스'...  \n",
       "8366   Jeju                         ['#사진좀찍으시는님덕에건져또', '#이순간']  \n",
       "8367    NaN                                                 []  \n",
       "8368  디스이즈핫                          ['#HappyNewYearEveryone']  "
      ],
      "text/html": [
       "<div>\n",
       "<style scoped>\n",
       "    .dataframe tbody tr th:only-of-type {\n",
       "        vertical-align: middle;\n",
       "    }\n",
       "\n",
       "    .dataframe tbody tr th {\n",
       "        vertical-align: top;\n",
       "    }\n",
       "\n",
       "    .dataframe thead th {\n",
       "        text-align: right;\n",
       "    }\n",
       "</style>\n",
       "<table border=\"1\" class=\"dataframe\">\n",
       "  <thead>\n",
       "    <tr style=\"text-align: right;\">\n",
       "      <th></th>\n",
       "      <th>content</th>\n",
       "      <th>date</th>\n",
       "      <th>like</th>\n",
       "      <th>place</th>\n",
       "      <th>tags</th>\n",
       "    </tr>\n",
       "  </thead>\n",
       "  <tbody>\n",
       "    <tr>\n",
       "      <th>8364</th>\n",
       "      <td>Now it's purple😆💜수색 넘 이쀼리 🤭 올해는 아퓨지말구 즐거운 일만 가...</td>\n",
       "      <td>2019-01-01</td>\n",
       "      <td>42</td>\n",
       "      <td>NaN</td>\n",
       "      <td>['#일상', '#구기자', '#티타임', '#2019', '#새해', '#차스타그...</td>\n",
       "    </tr>\n",
       "    <tr>\n",
       "      <th>8365</th>\n",
       "      <td>.간다간다간다#제주 #친정여행 #겨울방학 #제주여행앞머리는 괜히 전날 잘라서 또순이...</td>\n",
       "      <td>2019-01-01</td>\n",
       "      <td>50</td>\n",
       "      <td>NaN</td>\n",
       "      <td>['#제주', '#친정여행', '#겨울방학', '#제주여행앞머리는', '#친정찬스'...</td>\n",
       "    </tr>\n",
       "    <tr>\n",
       "      <th>8366</th>\n",
       "      <td>2019년 모두 복 많이많이 받고 풍요로운 한해 보내길 ♥️#사진좀찍으시는님덕에건져...</td>\n",
       "      <td>2019-01-01</td>\n",
       "      <td>68</td>\n",
       "      <td>Jeju</td>\n",
       "      <td>['#사진좀찍으시는님덕에건져또', '#이순간']</td>\n",
       "    </tr>\n",
       "    <tr>\n",
       "      <th>8367</th>\n",
       "      <td>2018.12.25 ⠀룸에 의자가 두개 밖에 없어서 ⠀이현이는 유모차에 앉아서 식사...</td>\n",
       "      <td>2019-01-01</td>\n",
       "      <td>70</td>\n",
       "      <td>NaN</td>\n",
       "      <td>[]</td>\n",
       "    </tr>\n",
       "    <tr>\n",
       "      <th>8368</th>\n",
       "      <td>.2019년 첫날디스이즈핫에서 새해를 맞이하시는 손님들께 떡국을 준비했습니다.한 해...</td>\n",
       "      <td>2019-01-01</td>\n",
       "      <td>48</td>\n",
       "      <td>디스이즈핫</td>\n",
       "      <td>['#HappyNewYearEveryone']</td>\n",
       "    </tr>\n",
       "  </tbody>\n",
       "</table>\n",
       "</div>"
      ]
     },
     "metadata": {},
     "execution_count": 10
    }
   ],
   "metadata": {}
  }
 ],
 "metadata": {
  "orig_nbformat": 4,
  "language_info": {
   "name": "python",
   "version": "3.8.10",
   "mimetype": "text/x-python",
   "codemirror_mode": {
    "name": "ipython",
    "version": 3
   },
   "pygments_lexer": "ipython3",
   "nbconvert_exporter": "python",
   "file_extension": ".py"
  },
  "kernelspec": {
   "name": "python3",
   "display_name": "Python 3.8.10 64-bit ('btfsop': conda)"
  },
  "interpreter": {
   "hash": "795bef2181d8c1d673d637ebabbfa46c3363c718d3652ae25a9a4fec543c87a1"
  }
 },
 "nbformat": 4,
 "nbformat_minor": 2
}
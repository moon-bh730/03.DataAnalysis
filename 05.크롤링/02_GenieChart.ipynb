{
 "cells": [
  {
   "cell_type": "markdown",
   "source": [
    "# Genie Top200 Chart"
   ],
   "metadata": {}
  },
  {
   "cell_type": "code",
   "execution_count": 2,
   "source": [
    "import requests\r\n",
    "import pandas as pd\r\n"
   ],
   "outputs": [],
   "metadata": {}
  },
  {
   "cell_type": "markdown",
   "source": [
    "## 1. 인터넷상에서 첫번째 데이터 가져오기"
   ],
   "metadata": {}
  },
  {
   "cell_type": "code",
   "execution_count": 3,
   "source": [
    "# Genie top 200\r\n",
    "url = \"https://www.genie.co.kr/chart/top200\"\r\n",
    "req = requests.get(url)\r\n",
    "html = req.text\r\n",
    "html"
   ],
   "outputs": [
    {
     "output_type": "execute_result",
     "data": {
      "text/plain": [
       "'<br>\\r\\n<br>\\r\\n<center>\\r\\n<img src=\"http://www.geniemusic.co.kr/images/common/logo_r1.png\"><br>\\r\\n<h2> <meta http-equiv=\"Content-Type\" content=\"text/html;charset=UTF-8\"> ì\\xa0\\x91ì\\x86\\x8dì\\x9a\\x94ì²\\xadì\\x9d´ ë³´ì\\x95\\x88ì\\xa0\\x95ì±\\x85ì\\x97\\x90 ì\\x9d\\x98í\\x95´ ì°¨ë\\x8b¨ë\\x90\\x98ì\\x97\\x88ì\\x8aµë\\x8b\\x88ë\\x8b¤. ë\\x8b¹ì\\x82¬ ê³\\xa0ê°\\x9dì\\x84¼í\\x84°ë¡\\x9c ë¬¸ì\\x9d\\x98í\\x95´ì£¼ì\\x8b\\xadì\\x8b\\x9cì\\x98¤.<br><br>\\r\\nThe security policy of the connection request is blocked. Contact your customer service representative.<br><br>\\r\\nì§\\x80ë\\x8b\\x88ë®¤ì§\\x81 ê³\\xa0ê°\\x9dì\\x84¼í\\x84° 1577-5337<br><br>\\r\\n</h2>\\r\\n</center>\\r\\n<br>'"
      ]
     },
     "metadata": {},
     "execution_count": 3
    }
   ],
   "metadata": {}
  },
  {
   "cell_type": "code",
   "execution_count": 5,
   "source": [
    "# 기계가 아니라는 알림\r\n",
    "header = {\"user-Agent\":\"Mozilla/5.0 (Windows NT 6.3; Win64; x64) AppleWebKit/537.36 (KHTML, like Gecko) Chrome/92.0.4515.131 Safari/537.36\" }\r\n",
    "req = requests.get(url, headers=header)\r\n",
    "html = req.text\r\n",
    "#html"
   ],
   "outputs": [],
   "metadata": {}
  },
  {
   "cell_type": "code",
   "execution_count": 7,
   "source": [
    "from bs4 import BeautifulSoup\r\n",
    "\r\n",
    "soup = BeautifulSoup(html, \"html.parser\")"
   ],
   "outputs": [],
   "metadata": {}
  },
  {
   "cell_type": "markdown",
   "source": [
    "## 2. 찾으려고 하는 데이터의 태그 찾기"
   ],
   "metadata": {}
  },
  {
   "cell_type": "code",
   "execution_count": 10,
   "source": [
    "# <table class=\"list-wrap\">\r\n",
    "table = soup.select_one(\"table.list-wrap\")\r\n",
    "trs = table.select(\"tr.list\")\r\n",
    "len(trs)"
   ],
   "outputs": [
    {
     "output_type": "execute_result",
     "data": {
      "text/plain": [
       "50"
      ]
     },
     "metadata": {},
     "execution_count": 10
    }
   ],
   "metadata": {}
  },
  {
   "cell_type": "code",
   "execution_count": 11,
   "source": [
    "trs = soup.select(\"tr.list\")\r\n",
    "len(trs)"
   ],
   "outputs": [
    {
     "output_type": "execute_result",
     "data": {
      "text/plain": [
       "50"
      ]
     },
     "metadata": {},
     "execution_count": 11
    }
   ],
   "metadata": {}
  },
  {
   "cell_type": "markdown",
   "source": [
    "## 3. 여러개의 데이터중 하나를 선택해서 원하는 정보 추출"
   ],
   "metadata": {}
  },
  {
   "cell_type": "code",
   "execution_count": 12,
   "source": [
    "# rank, title, artist, album\r\n",
    "tr = trs[0]"
   ],
   "outputs": [],
   "metadata": {}
  },
  {
   "cell_type": "code",
   "execution_count": 14,
   "source": [
    "#rank\r\n",
    "tr.select_one(\".number\").get_text()"
   ],
   "outputs": [
    {
     "output_type": "execute_result",
     "data": {
      "text/plain": [
       "'1\\n                                        \\n                                    \\n유지\\n\\n'"
      ]
     },
     "metadata": {},
     "execution_count": 14
    }
   ],
   "metadata": {}
  },
  {
   "cell_type": "code",
   "execution_count": 16,
   "source": [
    "tr.select_one(\".number\").get_text().split(\"\\n\")[0]"
   ],
   "outputs": [
    {
     "output_type": "execute_result",
     "data": {
      "text/plain": [
       "'1'"
      ]
     },
     "metadata": {},
     "execution_count": 16
    }
   ],
   "metadata": {}
  },
  {
   "cell_type": "code",
   "execution_count": 21,
   "source": [
    "rank=int(tr.select_one(\".number\").get_text().split(\"\\n\")[0])\r\n",
    "rank"
   ],
   "outputs": [
    {
     "output_type": "execute_result",
     "data": {
      "text/plain": [
       "1"
      ]
     },
     "metadata": {},
     "execution_count": 21
    }
   ],
   "metadata": {}
  },
  {
   "cell_type": "code",
   "execution_count": 23,
   "source": [
    "# title\r\n",
    "tr.select_one(\".info\").find(\"a\").get_text()"
   ],
   "outputs": [
    {
     "output_type": "execute_result",
     "data": {
      "text/plain": [
       "'\\n                                        \\n                                            \\n                                        \\n                                        \\n                                        \\n                                        \\n                                            \\n                                                Queendom'"
      ]
     },
     "metadata": {},
     "execution_count": 23
    }
   ],
   "metadata": {}
  },
  {
   "cell_type": "code",
   "execution_count": 34,
   "source": [
    "title = tr.select_one(\".info\").find(\"a\").get_text().strip()\r\n",
    "title"
   ],
   "outputs": [
    {
     "output_type": "execute_result",
     "data": {
      "text/plain": [
       "'Queendom'"
      ]
     },
     "metadata": {},
     "execution_count": 34
    }
   ],
   "metadata": {}
  },
  {
   "cell_type": "code",
   "execution_count": 28,
   "source": [
    "# artist\r\n",
    "tr.select_one(\".info\").select_one(\".artist\").get_text()"
   ],
   "outputs": [
    {
     "output_type": "execute_result",
     "data": {
      "text/plain": [
       "'Red Velvet (레드벨벳)'"
      ]
     },
     "metadata": {},
     "execution_count": 28
    }
   ],
   "metadata": {}
  },
  {
   "cell_type": "code",
   "execution_count": 31,
   "source": [
    "artist = tr.select_one(\".info\").select_one(\".artist\").get_text().strip()\r\n",
    "artist"
   ],
   "outputs": [
    {
     "output_type": "execute_result",
     "data": {
      "text/plain": [
       "'Red Velvet (레드벨벳)'"
      ]
     },
     "metadata": {},
     "execution_count": 31
    }
   ],
   "metadata": {}
  },
  {
   "cell_type": "code",
   "execution_count": 32,
   "source": [
    "# album\r\n",
    "tr.select_one(\".info\").select_one(\".albumtitle\").get_text().strip()"
   ],
   "outputs": [
    {
     "output_type": "execute_result",
     "data": {
      "text/plain": [
       "'Queendom - The 6th Mini Album'"
      ]
     },
     "metadata": {},
     "execution_count": 32
    }
   ],
   "metadata": {}
  },
  {
   "cell_type": "code",
   "execution_count": 33,
   "source": [
    "album = tr.select_one(\".info\").select_one(\".albumtitle\").get_text().strip().strip()\r\n",
    "album"
   ],
   "outputs": [
    {
     "output_type": "execute_result",
     "data": {
      "text/plain": [
       "'Queendom - The 6th Mini Album'"
      ]
     },
     "metadata": {},
     "execution_count": 33
    }
   ],
   "metadata": {}
  },
  {
   "cell_type": "markdown",
   "source": [
    "## 4. 한페이지에 있는 모든 데이터를 반복문으로 가져오기"
   ],
   "metadata": {}
  },
  {
   "cell_type": "code",
   "execution_count": 36,
   "source": [
    "rank_list, title_list, artist_list, album_list = [],[],[],[]\r\n",
    "for tr in trs:\r\n",
    "    rank=int(tr.select_one(\".number\").get_text().split(\"\\n\")[0])\r\n",
    "    title = tr.select_one(\".info\").find(\"a\").get_text().strip()\r\n",
    "    artist = tr.select_one(\".info\").select_one(\".artist\").get_text().strip()\r\n",
    "    album = tr.select_one(\".info\").select_one(\".albumtitle\").get_text().strip().strip()\r\n",
    "    rank_list.append(rank)\r\n",
    "    title_list.append(title)\r\n",
    "    artist_list.append(artist)\r\n",
    "    album_list.append(album)\r\n"
   ],
   "outputs": [],
   "metadata": {}
  },
  {
   "cell_type": "code",
   "execution_count": 42,
   "source": [
    "df = pd.DataFrame({\r\n",
    "        \"순위\" : rank_list\r\n",
    "        , \"곡명\" : title_list\r\n",
    "        , \"가수\" : artist_list\r\n",
    "        , \"앨범\" : album_list\r\n",
    "})\r\n",
    "df.tail()"
   ],
   "outputs": [
    {
     "output_type": "execute_result",
     "data": {
      "text/plain": [
       "    순위                                              곡명        가수  \\\n",
       "45  46  사이렌 Remix (Feat. UNEDUCATED KID & Paul Blanco)       호미들   \n",
       "46  47                                     어푸 (Ah puh)  아이유 (IU)   \n",
       "47  48                                      가을 우체국 앞에서       김대명   \n",
       "48  49                                    Life Goes On     방탄소년단   \n",
       "49  50                                         그대라는 사치       임영웅   \n",
       "\n",
       "                                      앨범  \n",
       "45                             사이렌 Remix  \n",
       "46                  IU 5th Album 'LILAC'  \n",
       "47  슬기로운 의사생활 시즌2 OST Part 2 (tvN 목요드라마)  \n",
       "48                                    BE  \n",
       "49                        사랑의 콜센타 PART62  "
      ],
      "text/html": [
       "<div>\n",
       "<style scoped>\n",
       "    .dataframe tbody tr th:only-of-type {\n",
       "        vertical-align: middle;\n",
       "    }\n",
       "\n",
       "    .dataframe tbody tr th {\n",
       "        vertical-align: top;\n",
       "    }\n",
       "\n",
       "    .dataframe thead th {\n",
       "        text-align: right;\n",
       "    }\n",
       "</style>\n",
       "<table border=\"1\" class=\"dataframe\">\n",
       "  <thead>\n",
       "    <tr style=\"text-align: right;\">\n",
       "      <th></th>\n",
       "      <th>순위</th>\n",
       "      <th>곡명</th>\n",
       "      <th>가수</th>\n",
       "      <th>앨범</th>\n",
       "    </tr>\n",
       "  </thead>\n",
       "  <tbody>\n",
       "    <tr>\n",
       "      <th>45</th>\n",
       "      <td>46</td>\n",
       "      <td>사이렌 Remix (Feat. UNEDUCATED KID &amp; Paul Blanco)</td>\n",
       "      <td>호미들</td>\n",
       "      <td>사이렌 Remix</td>\n",
       "    </tr>\n",
       "    <tr>\n",
       "      <th>46</th>\n",
       "      <td>47</td>\n",
       "      <td>어푸 (Ah puh)</td>\n",
       "      <td>아이유 (IU)</td>\n",
       "      <td>IU 5th Album 'LILAC'</td>\n",
       "    </tr>\n",
       "    <tr>\n",
       "      <th>47</th>\n",
       "      <td>48</td>\n",
       "      <td>가을 우체국 앞에서</td>\n",
       "      <td>김대명</td>\n",
       "      <td>슬기로운 의사생활 시즌2 OST Part 2 (tvN 목요드라마)</td>\n",
       "    </tr>\n",
       "    <tr>\n",
       "      <th>48</th>\n",
       "      <td>49</td>\n",
       "      <td>Life Goes On</td>\n",
       "      <td>방탄소년단</td>\n",
       "      <td>BE</td>\n",
       "    </tr>\n",
       "    <tr>\n",
       "      <th>49</th>\n",
       "      <td>50</td>\n",
       "      <td>그대라는 사치</td>\n",
       "      <td>임영웅</td>\n",
       "      <td>사랑의 콜센타 PART62</td>\n",
       "    </tr>\n",
       "  </tbody>\n",
       "</table>\n",
       "</div>"
      ]
     },
     "metadata": {},
     "execution_count": 42
    }
   ],
   "metadata": {}
  },
  {
   "cell_type": "code",
   "execution_count": 43,
   "source": [
    "lines = []\r\n",
    "for tr in trs:\r\n",
    "    rank = int(tr.select_one(\".number\").get_text().split(\"\\n\")[0])\r\n",
    "    title = tr.select_one(\".info\").find(\"a\").get_text().strip()\r\n",
    "    artist = tr.select_one(\".info\").select_one(\".artist\").get_text().strip()\r\n",
    "    album = tr.select_one(\".info\").select_one(\".albumtitle\").get_text().strip().strip()\r\n",
    "    lines.append([rank, title, artist, album])"
   ],
   "outputs": [],
   "metadata": {}
  },
  {
   "cell_type": "code",
   "execution_count": 45,
   "source": [
    "df = pd.DataFrame(lines, columns=[\"순위\",\"곡명\",\"가수\",\"엘범\"])\r\n",
    "df.head()"
   ],
   "outputs": [
    {
     "output_type": "execute_result",
     "data": {
      "text/plain": [
       "   순위             곡명                 가수                             엘범\n",
       "0   1       Queendom  Red Velvet (레드벨벳)  Queendom - The 6th Mini Album\n",
       "1   2            신호등                이무진                            신호등\n",
       "2   3  낙하 (With 아이유)          AKMU (악뮤)                   NEXT EPISODE\n",
       "3   4         바라만 본다     MSG워너비 (M.O.M)                      MSG워너비 1집\n",
       "4   5        Weekend       태연 (TAEYEON)                        Weekend"
      ],
      "text/html": [
       "<div>\n",
       "<style scoped>\n",
       "    .dataframe tbody tr th:only-of-type {\n",
       "        vertical-align: middle;\n",
       "    }\n",
       "\n",
       "    .dataframe tbody tr th {\n",
       "        vertical-align: top;\n",
       "    }\n",
       "\n",
       "    .dataframe thead th {\n",
       "        text-align: right;\n",
       "    }\n",
       "</style>\n",
       "<table border=\"1\" class=\"dataframe\">\n",
       "  <thead>\n",
       "    <tr style=\"text-align: right;\">\n",
       "      <th></th>\n",
       "      <th>순위</th>\n",
       "      <th>곡명</th>\n",
       "      <th>가수</th>\n",
       "      <th>엘범</th>\n",
       "    </tr>\n",
       "  </thead>\n",
       "  <tbody>\n",
       "    <tr>\n",
       "      <th>0</th>\n",
       "      <td>1</td>\n",
       "      <td>Queendom</td>\n",
       "      <td>Red Velvet (레드벨벳)</td>\n",
       "      <td>Queendom - The 6th Mini Album</td>\n",
       "    </tr>\n",
       "    <tr>\n",
       "      <th>1</th>\n",
       "      <td>2</td>\n",
       "      <td>신호등</td>\n",
       "      <td>이무진</td>\n",
       "      <td>신호등</td>\n",
       "    </tr>\n",
       "    <tr>\n",
       "      <th>2</th>\n",
       "      <td>3</td>\n",
       "      <td>낙하 (With 아이유)</td>\n",
       "      <td>AKMU (악뮤)</td>\n",
       "      <td>NEXT EPISODE</td>\n",
       "    </tr>\n",
       "    <tr>\n",
       "      <th>3</th>\n",
       "      <td>4</td>\n",
       "      <td>바라만 본다</td>\n",
       "      <td>MSG워너비 (M.O.M)</td>\n",
       "      <td>MSG워너비 1집</td>\n",
       "    </tr>\n",
       "    <tr>\n",
       "      <th>4</th>\n",
       "      <td>5</td>\n",
       "      <td>Weekend</td>\n",
       "      <td>태연 (TAEYEON)</td>\n",
       "      <td>Weekend</td>\n",
       "    </tr>\n",
       "  </tbody>\n",
       "</table>\n",
       "</div>"
      ]
     },
     "metadata": {},
     "execution_count": 45
    }
   ],
   "metadata": {}
  },
  {
   "cell_type": "markdown",
   "source": [
    "### 5. 모든 페이지 데이터 가져오기"
   ],
   "metadata": {}
  },
  {
   "cell_type": "code",
   "execution_count": 46,
   "source": [
    "sub = \"https://www.genie.co.kr/chart/top200?ditc=D&ymd=20210817&hh=14&rtm=Y&pg=\"\r\n",
    "rank_list, title_list, artist_list, album_list = [],[],[],[]\r\n",
    "for page in range(1,5):\r\n",
    "    url = f\"{sub}{page}\"\r\n",
    "    req = requests.get(url, headers=header)\r\n",
    "    soup = BeautifulSoup(html, \"html.parser\")\r\n",
    "    trs = soup.select(\"tr.list\")\r\n",
    "    for tr in trs:\r\n",
    "        rank=int(tr.select_one(\".number\").get_text().split(\"\\n\")[0])\r\n",
    "        title = tr.select_one(\".info\").find(\"a\").get_text().strip()\r\n",
    "        artist = tr.select_one(\".info\").select_one(\".artist\").get_text().strip()\r\n",
    "        album = tr.select_one(\".info\").select_one(\".albumtitle\").get_text().strip().strip()\r\n",
    "        rank_list.append(rank)\r\n",
    "        title_list.append(title)\r\n",
    "        artist_list.append(artist)\r\n",
    "        album_list.append(album)    "
   ],
   "outputs": [],
   "metadata": {}
  },
  {
   "cell_type": "code",
   "execution_count": 47,
   "source": [
    "df = pd.DataFrame({\r\n",
    "          \"순위\" : rank_list\r\n",
    "        , \"곡명\" : title_list\r\n",
    "        , \"가수\" : artist_list\r\n",
    "        , \"앨범\" : album_list\r\n",
    "})\r\n",
    "df.tail()"
   ],
   "outputs": [
    {
     "output_type": "execute_result",
     "data": {
      "text/plain": [
       "     순위                                              곡명        가수  \\\n",
       "195  46  사이렌 Remix (Feat. UNEDUCATED KID & Paul Blanco)       호미들   \n",
       "196  47                                     어푸 (Ah puh)  아이유 (IU)   \n",
       "197  48                                      가을 우체국 앞에서       김대명   \n",
       "198  49                                    Life Goes On     방탄소년단   \n",
       "199  50                                         그대라는 사치       임영웅   \n",
       "\n",
       "                                       앨범  \n",
       "195                             사이렌 Remix  \n",
       "196                  IU 5th Album 'LILAC'  \n",
       "197  슬기로운 의사생활 시즌2 OST Part 2 (tvN 목요드라마)  \n",
       "198                                    BE  \n",
       "199                        사랑의 콜센타 PART62  "
      ],
      "text/html": [
       "<div>\n",
       "<style scoped>\n",
       "    .dataframe tbody tr th:only-of-type {\n",
       "        vertical-align: middle;\n",
       "    }\n",
       "\n",
       "    .dataframe tbody tr th {\n",
       "        vertical-align: top;\n",
       "    }\n",
       "\n",
       "    .dataframe thead th {\n",
       "        text-align: right;\n",
       "    }\n",
       "</style>\n",
       "<table border=\"1\" class=\"dataframe\">\n",
       "  <thead>\n",
       "    <tr style=\"text-align: right;\">\n",
       "      <th></th>\n",
       "      <th>순위</th>\n",
       "      <th>곡명</th>\n",
       "      <th>가수</th>\n",
       "      <th>앨범</th>\n",
       "    </tr>\n",
       "  </thead>\n",
       "  <tbody>\n",
       "    <tr>\n",
       "      <th>195</th>\n",
       "      <td>46</td>\n",
       "      <td>사이렌 Remix (Feat. UNEDUCATED KID &amp; Paul Blanco)</td>\n",
       "      <td>호미들</td>\n",
       "      <td>사이렌 Remix</td>\n",
       "    </tr>\n",
       "    <tr>\n",
       "      <th>196</th>\n",
       "      <td>47</td>\n",
       "      <td>어푸 (Ah puh)</td>\n",
       "      <td>아이유 (IU)</td>\n",
       "      <td>IU 5th Album 'LILAC'</td>\n",
       "    </tr>\n",
       "    <tr>\n",
       "      <th>197</th>\n",
       "      <td>48</td>\n",
       "      <td>가을 우체국 앞에서</td>\n",
       "      <td>김대명</td>\n",
       "      <td>슬기로운 의사생활 시즌2 OST Part 2 (tvN 목요드라마)</td>\n",
       "    </tr>\n",
       "    <tr>\n",
       "      <th>198</th>\n",
       "      <td>49</td>\n",
       "      <td>Life Goes On</td>\n",
       "      <td>방탄소년단</td>\n",
       "      <td>BE</td>\n",
       "    </tr>\n",
       "    <tr>\n",
       "      <th>199</th>\n",
       "      <td>50</td>\n",
       "      <td>그대라는 사치</td>\n",
       "      <td>임영웅</td>\n",
       "      <td>사랑의 콜센타 PART62</td>\n",
       "    </tr>\n",
       "  </tbody>\n",
       "</table>\n",
       "</div>"
      ]
     },
     "metadata": {},
     "execution_count": 47
    }
   ],
   "metadata": {}
  },
  {
   "cell_type": "code",
   "execution_count": 48,
   "source": [
    "df.to_csv(\"GenieTop200(210817).csv\",index=False,encoding='utf-8-sig')"
   ],
   "outputs": [],
   "metadata": {}
  }
 ],
 "metadata": {
  "orig_nbformat": 4,
  "language_info": {
   "name": "python",
   "version": "3.8.10",
   "mimetype": "text/x-python",
   "codemirror_mode": {
    "name": "ipython",
    "version": 3
   },
   "pygments_lexer": "ipython3",
   "nbconvert_exporter": "python",
   "file_extension": ".py"
  },
  "kernelspec": {
   "name": "python3",
   "display_name": "Python 3.8.10 64-bit ('btfsop': conda)"
  },
  "interpreter": {
   "hash": "795bef2181d8c1d673d637ebabbfa46c3363c718d3652ae25a9a4fec543c87a1"
  }
 },
 "nbformat": 4,
 "nbformat_minor": 2
}
{
 "cells": [
  {
   "cell_type": "markdown",
   "source": [
    "# 식신-양재역으로 검색"
   ],
   "metadata": {}
  },
  {
   "cell_type": "markdown",
   "source": [
    "- 명칭, 주요메뉴, 평점, 전화번호, 주소"
   ],
   "metadata": {}
  },
  {
   "cell_type": "code",
   "execution_count": 2,
   "source": [
    "import requests\r\n",
    "import pandas as pd\r\n",
    "from urllib.parse import quote"
   ],
   "outputs": [],
   "metadata": {}
  },
  {
   "cell_type": "markdown",
   "source": [
    "- 데이터 가져오기"
   ],
   "metadata": {}
  },
  {
   "cell_type": "code",
   "execution_count": 14,
   "source": [
    "#base_url = \"https://www.siksinhot.com/search?keywords=\"\r\n",
    "base_url =  \"https://www.siksinhot.com/\"\r\n",
    "url = f'{base_url}/search?keywords=/{quote(\"양재역\")}'\r\n",
    "req = requests.get(url)\r\n",
    "html = req.text\r\n",
    "#html\r\n"
   ],
   "outputs": [],
   "metadata": {}
  },
  {
   "cell_type": "code",
   "execution_count": 15,
   "source": [
    "from bs4 import BeautifulSoup\r\n",
    "\r\n",
    "soup = BeautifulSoup(html, \"html.parser\")"
   ],
   "outputs": [],
   "metadata": {}
  },
  {
   "cell_type": "markdown",
   "source": [
    "- 찾으려고 하는 데이터의 태그 찾기"
   ],
   "metadata": {}
  },
  {
   "cell_type": "code",
   "execution_count": 16,
   "source": [
    "lis = soup.select(\"div.listTy1 > ul > li\")\r\n",
    "len(lis)\r\n"
   ],
   "outputs": [
    {
     "output_type": "execute_result",
     "data": {
      "text/plain": [
       "12"
      ]
     },
     "metadata": {},
     "execution_count": 16
    }
   ],
   "metadata": {}
  },
  {
   "cell_type": "markdown",
   "source": [
    "- 여러개의 데이터중 하나를 선택해서 원하는 정보 추출"
   ],
   "metadata": {}
  },
  {
   "cell_type": "code",
   "execution_count": 19,
   "source": [
    "li = lis[0]\r\n",
    "herf = li.select_one(\"a\")[\"href\"]\r\n",
    "herf"
   ],
   "outputs": [
    {
     "output_type": "execute_result",
     "data": {
      "text/plain": [
       "'/P/358859'"
      ]
     },
     "metadata": {},
     "execution_count": 19
    }
   ],
   "metadata": {}
  },
  {
   "cell_type": "code",
   "execution_count": 20,
   "source": [
    "url = base_url + herf\r\n",
    "req = requests.get(url)\r\n",
    "sub_soup = BeautifulSoup(req.text,\"html.parser\")"
   ],
   "outputs": [],
   "metadata": {}
  },
  {
   "cell_type": "code",
   "execution_count": 21,
   "source": [
    "store = sub_soup.select_one(\".title\")\r\n",
    "info = store.find(\"h3\").get_text()\r\n",
    "info"
   ],
   "outputs": [
    {
     "output_type": "execute_result",
     "data": {
      "text/plain": [
       "'그릭슈바인 양재역점3.6HOT'"
      ]
     },
     "metadata": {},
     "execution_count": 21
    }
   ],
   "metadata": {}
  },
  {
   "cell_type": "code",
   "execution_count": 22,
   "source": [
    "score = store.select_one(\"h3 > strong\").string\r\n",
    "score"
   ],
   "outputs": [
    {
     "output_type": "execute_result",
     "data": {
      "text/plain": [
       "'3.6'"
      ]
     },
     "metadata": {},
     "execution_count": 22
    }
   ],
   "metadata": {}
  },
  {
   "cell_type": "code",
   "execution_count": 24,
   "source": [
    "info.find(score)"
   ],
   "outputs": [
    {
     "output_type": "execute_result",
     "data": {
      "text/plain": [
       "10"
      ]
     },
     "metadata": {},
     "execution_count": 24
    }
   ],
   "metadata": {}
  },
  {
   "cell_type": "code",
   "execution_count": 25,
   "source": [
    "name = info[:info.find(score)]\r\n",
    "name"
   ],
   "outputs": [
    {
     "output_type": "execute_result",
     "data": {
      "text/plain": [
       "'그릭슈바인 양재역점'"
      ]
     },
     "metadata": {},
     "execution_count": 25
    }
   ],
   "metadata": {}
  },
  {
   "cell_type": "code",
   "execution_count": 27,
   "source": [
    "menu = sub_soup.select(\".store_info p\")[1].get_text()\r\n",
    "menu"
   ],
   "outputs": [
    {
     "output_type": "execute_result",
     "data": {
      "text/plain": [
       "'나이트라이프 > 맥주/호프'"
      ]
     },
     "metadata": {},
     "execution_count": 27
    }
   ],
   "metadata": {}
  },
  {
   "cell_type": "code",
   "execution_count": 29,
   "source": [
    "tel = sub_soup.select_one(\".p_tel p\").get_text()\r\n",
    "tel"
   ],
   "outputs": [
    {
     "output_type": "execute_result",
     "data": {
      "text/plain": [
       "'02-572-6100'"
      ]
     },
     "metadata": {},
     "execution_count": 29
    }
   ],
   "metadata": {}
  },
  {
   "cell_type": "code",
   "execution_count": 32,
   "source": [
    "addr = sub_soup.select_one(\".txt_adr\").get_text()\r\n",
    "addr"
   ],
   "outputs": [
    {
     "output_type": "execute_result",
     "data": {
      "text/plain": [
       "'서울특별시 서초구 강남대로 224'"
      ]
     },
     "metadata": {},
     "execution_count": 32
    }
   ],
   "metadata": {}
  },
  {
   "cell_type": "markdown",
   "source": [
    "- 한 페이지에 있는"
   ],
   "metadata": {}
  },
  {
   "cell_type": "code",
   "execution_count": 39,
   "source": [
    "name_list, score_list, menu_list, tel_list, addr_list = [],[],[],[],[]\r\n",
    "\r\n",
    "for i,li in enumerate(lis):\r\n",
    "    href = li.select_one(\"a\")[\"href\"]\r\n",
    "    url = base_url + href\r\n",
    "    req = requests.get(url)\r\n",
    "    sub_soup = BeautifulSoup(req.text,\"html.parser\")\r\n",
    "\r\n",
    "    try:\r\n",
    "        store = sub_soup.select_one(\".title\")\r\n",
    "        info = store.find(\"h3\").get_text()\r\n",
    "        score = store.select_one(\"h3 > strong\").string\r\n",
    "        print(info[:info.find(score)])\r\n",
    "        name = info[:info.find(score)]\r\n",
    "        menu = sub_soup.select(\".store_info p\")[1].get_text()\r\n",
    "        tel = sub_soup.select_one(\".p_tel p\").get_text()        \r\n",
    "        addr = sub_soup.select_one(\".txt_adr\").get_text()\r\n",
    "\r\n",
    "        name_list.append(name)\r\n",
    "        #score_list.append(float(score))\r\n",
    "        menu_list.append(menu)\r\n",
    "        tel_list.append(tel)\r\n",
    "        addr_list.append(addr)\r\n",
    "    except:\r\n",
    "        print(i)\r\n"
   ],
   "outputs": [
    {
     "output_type": "stream",
     "name": "stdout",
     "text": [
      "그릭슈바인 양재역점\n",
      "미스터브리즈 양재역점\n",
      "동신참치 양재역점\n",
      "3\n",
      "4\n",
      "영동족발 3호점\n",
      "황재벌\n",
      "김영모과자점 도곡타워점\n",
      "소호정 본점\n",
      "산동칼국수\n",
      "양재정육식당\n",
      "스타쉐프\n"
     ]
    }
   ],
   "metadata": {}
  }
 ],
 "metadata": {
  "orig_nbformat": 4,
  "language_info": {
   "name": "python",
   "version": "3.8.10",
   "mimetype": "text/x-python",
   "codemirror_mode": {
    "name": "ipython",
    "version": 3
   },
   "pygments_lexer": "ipython3",
   "nbconvert_exporter": "python",
   "file_extension": ".py"
  },
  "kernelspec": {
   "name": "python3",
   "display_name": "Python 3.8.10 64-bit ('btfsop': conda)"
  },
  "interpreter": {
   "hash": "795bef2181d8c1d673d637ebabbfa46c3363c718d3652ae25a9a4fec543c87a1"
  }
 },
 "nbformat": 4,
 "nbformat_minor": 2
}
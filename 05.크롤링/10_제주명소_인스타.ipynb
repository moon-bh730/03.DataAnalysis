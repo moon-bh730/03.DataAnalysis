{
 "cells": [
  {
   "cell_type": "markdown",
   "source": [
    "## 제주도 핫플레이스 - 인스타그램 크롤링"
   ],
   "metadata": {}
  },
  {
   "cell_type": "code",
   "execution_count": 78,
   "source": [
    "from selenium import webdriver\r\n",
    "from bs4 import BeautifulSoup\r\n",
    "import time\r\n",
    "import pandas as pd\r\n",
    "from urllib.parse import quote"
   ],
   "outputs": [],
   "metadata": {}
  },
  {
   "cell_type": "code",
   "execution_count": 79,
   "source": [
    "chromedriver = \"chromedriver.exe\"\r\n",
    "driver = webdriver.Chrome(chromedriver)"
   ],
   "outputs": [],
   "metadata": {}
  },
  {
   "cell_type": "code",
   "execution_count": 80,
   "source": [
    "insta_url = \"https://www.instagram.com/\"\r\n",
    "driver.get(insta_url)\r\n",
    "time.sleep(1)"
   ],
   "outputs": [],
   "metadata": {}
  },
  {
   "cell_type": "code",
   "execution_count": 81,
   "source": [
    "with open(\"password.txt\") as f:\r\n",
    "    password = f.read()"
   ],
   "outputs": [],
   "metadata": {}
  },
  {
   "cell_type": "code",
   "execution_count": 82,
   "source": [
    "email = \"ra.iddo\"\r\n",
    "input_email = driver.find_element_by_css_selector(\"._2hvTZ.pexuQ.zyHYP\")\r\n",
    "input_email.clear()\r\n",
    "input_email.send_keys(email)"
   ],
   "outputs": [],
   "metadata": {}
  },
  {
   "cell_type": "code",
   "execution_count": 83,
   "source": [
    "input_pwd = driver.find_element_by_name(\"password\")\r\n",
    "input_pwd.clear()\r\n",
    "input_pwd.send_keys(password)\r\n",
    "input_pwd.submit()\r\n",
    "time.sleep(3)"
   ],
   "outputs": [],
   "metadata": {}
  },
  {
   "cell_type": "code",
   "execution_count": 84,
   "source": [
    "try:\r\n",
    "    driver.find_element_by_css_selector(\".sqdOP.yWX7d.y3zKF\").click()\r\n",
    "    time.sleep(5)\r\n",
    "except:\r\n",
    "    pass"
   ],
   "outputs": [],
   "metadata": {}
  },
  {
   "cell_type": "code",
   "execution_count": 85,
   "source": [
    "try:\r\n",
    "    driver.find_element_by_css_selector(\".aOOlW.HoLwm\").click()\r\n",
    "    time.sleep(1)\r\n",
    "except:\r\n",
    "    pass"
   ],
   "outputs": [],
   "metadata": {}
  },
  {
   "cell_type": "markdown",
   "source": [
    "### 2. 제주도 맛집으로 검색"
   ],
   "metadata": {}
  },
  {
   "cell_type": "code",
   "execution_count": 86,
   "source": [
    "from urllib.parse import quote\r\n",
    "keyword = \"제주도맛집\"\r\n",
    "search_url = \"https://www.instagram.com/explore/tags/\"\r\n",
    "url = f\"{search_url}{quote(keyword)}\"\r\n",
    "url"
   ],
   "outputs": [
    {
     "output_type": "execute_result",
     "data": {
      "text/plain": [
       "'https://www.instagram.com/explore/tags/%EC%A0%9C%EC%A3%BC%EB%8F%84%EB%A7%9B%EC%A7%91'"
      ]
     },
     "metadata": {},
     "execution_count": 86
    }
   ],
   "metadata": {}
  },
  {
   "cell_type": "code",
   "execution_count": 87,
   "source": [
    "driver.get(url)\r\n",
    "time.sleep(5)"
   ],
   "outputs": [],
   "metadata": {}
  },
  {
   "cell_type": "markdown",
   "source": [
    "### 6. 첫번째 게시글 열기"
   ],
   "metadata": {}
  },
  {
   "cell_type": "code",
   "execution_count": 106,
   "source": [
    "driver.find_element_by_css_selector(\"div._9AhH0\").click()"
   ],
   "outputs": [],
   "metadata": {}
  },
  {
   "cell_type": "markdown",
   "source": [
    "### 4. 게시글 정보 가져오기"
   ],
   "metadata": {}
  },
  {
   "cell_type": "code",
   "execution_count": 89,
   "source": [
    "html = driver.page_source\r\n",
    "soup = BeautifulSoup(html, \"html.parser\")"
   ],
   "outputs": [],
   "metadata": {}
  },
  {
   "cell_type": "code",
   "execution_count": 90,
   "source": [
    "import unicodedata\r\n",
    "try:\r\n",
    "    content = soup.select_one(\"div.C4VMK > span\").text\r\n",
    "    content = unicodedata.normalize(\"NFC\",content)\r\n",
    "except:\r\n",
    "    content = \" \"\r\n",
    "\r\n",
    "content"
   ],
   "outputs": [
    {
     "output_type": "execute_result",
     "data": {
      "text/plain": [
       "'(협찬)애월바다와 선셋🌅감성까지 더 한스페셜 카레맛집!😋다양한 카레와 토핑들로특별함을 UP!#사이카레@saicurry_aewolOPEN 10:00CLOSE 20:00🙅\\u200d♀️연중무휴(임시휴무 인스타공지)🙅NO브레이크타임🙆재료소진시 조기마감될 수 있어요📞064)752.4279위치 - 제주시 애월읍 애월해안로 752 2층  (구엄리 509)#사이카레 #구엄리맛집 #애월맛집 #제주맛집 #제주도맛집#애월밥집 #제주공항근처맛집 #애월카페#애월가볼만한곳 #협재맛집 #한림맛집#제주도민맛집 #제주오션뷰 #제주시맛집#애월해안도로맛집 #한담맛집 #한담카페#협재카페 #한림카페 #제주카페#제주애월맛집 #애월핫플레이스 #제주핫플'"
      ]
     },
     "metadata": {},
     "execution_count": 90
    }
   ],
   "metadata": {}
  },
  {
   "cell_type": "code",
   "execution_count": 100,
   "source": [
    "# 본문 내용에서 해쉬태그 가져오기, \"#[^\\s#,\\\\]+\"\r\n",
    "import re\r\n",
    "tags = re.findall(r\"#[^\\s#,\\\\]+\", content)\r\n",
    "tags"
   ],
   "outputs": [
    {
     "output_type": "execute_result",
     "data": {
      "text/plain": [
       "['#사이카레@saicurry_aewolOPEN',\n",
       " '#사이카레',\n",
       " '#구엄리맛집',\n",
       " '#애월맛집',\n",
       " '#제주맛집',\n",
       " '#제주도맛집',\n",
       " '#애월밥집',\n",
       " '#제주공항근처맛집',\n",
       " '#애월카페',\n",
       " '#애월가볼만한곳',\n",
       " '#협재맛집',\n",
       " '#한림맛집',\n",
       " '#제주도민맛집',\n",
       " '#제주오션뷰',\n",
       " '#제주시맛집',\n",
       " '#애월해안도로맛집',\n",
       " '#한담맛집',\n",
       " '#한담카페',\n",
       " '#협재카페',\n",
       " '#한림카페',\n",
       " '#제주카페',\n",
       " '#제주애월맛집',\n",
       " '#애월핫플레이스',\n",
       " '#제주핫플']"
      ]
     },
     "metadata": {},
     "execution_count": 100
    }
   ],
   "metadata": {}
  },
  {
   "cell_type": "code",
   "execution_count": 101,
   "source": [
    "# 3) 작성일자 정보 가져오기\r\n",
    "date = soup.select_one(\"time.FH9sR.Nzb55\")[\"datetime\"][:10]\r\n",
    "date"
   ],
   "outputs": [
    {
     "output_type": "execute_result",
     "data": {
      "text/plain": [
       "'2021-08-18'"
      ]
     },
     "metadata": {},
     "execution_count": 101
    }
   ],
   "metadata": {}
  },
  {
   "cell_type": "code",
   "execution_count": 102,
   "source": [
    "# 4) 좋아요 수 가져오기 : 좋아요 1,296개\r\n",
    "try:    \r\n",
    "    like = soup.select_one(\"div.Nm9Fw > button\").text[4:-1]\r\n",
    "except:\r\n",
    "    like = 0\r\n",
    "like"
   ],
   "outputs": [
    {
     "output_type": "execute_result",
     "data": {
      "text/plain": [
       "0"
      ]
     },
     "metadata": {},
     "execution_count": 102
    }
   ],
   "metadata": {}
  },
  {
   "cell_type": "code",
   "execution_count": 103,
   "source": [
    "# 5) 위치정보 가져오기\r\n",
    "try:\r\n",
    "    place = soup.select_one(\"div.M30cS\")[0].text\r\n",
    "    place = unicodedata.normalize(\"MFC\",place)\r\n",
    "except:\r\n",
    "    place = \"\"\r\n",
    "place"
   ],
   "outputs": [
    {
     "output_type": "execute_result",
     "data": {
      "text/plain": [
       "''"
      ]
     },
     "metadata": {},
     "execution_count": 103
    }
   ],
   "metadata": {}
  },
  {
   "cell_type": "code",
   "execution_count": 104,
   "source": [
    "row = [content, date, like, place, tags]\r\n",
    "row"
   ],
   "outputs": [
    {
     "output_type": "execute_result",
     "data": {
      "text/plain": [
       "['(협찬)애월바다와 선셋🌅감성까지 더 한스페셜 카레맛집!😋다양한 카레와 토핑들로특별함을 UP!#사이카레@saicurry_aewolOPEN 10:00CLOSE 20:00🙅\\u200d♀️연중무휴(임시휴무 인스타공지)🙅NO브레이크타임🙆재료소진시 조기마감될 수 있어요📞064)752.4279위치 - 제주시 애월읍 애월해안로 752 2층  (구엄리 509)#사이카레 #구엄리맛집 #애월맛집 #제주맛집 #제주도맛집#애월밥집 #제주공항근처맛집 #애월카페#애월가볼만한곳 #협재맛집 #한림맛집#제주도민맛집 #제주오션뷰 #제주시맛집#애월해안도로맛집 #한담맛집 #한담카페#협재카페 #한림카페 #제주카페#제주애월맛집 #애월핫플레이스 #제주핫플',\n",
       " '2021-08-18',\n",
       " 0,\n",
       " '',\n",
       " ['#사이카레@saicurry_aewolOPEN',\n",
       "  '#사이카레',\n",
       "  '#구엄리맛집',\n",
       "  '#애월맛집',\n",
       "  '#제주맛집',\n",
       "  '#제주도맛집',\n",
       "  '#애월밥집',\n",
       "  '#제주공항근처맛집',\n",
       "  '#애월카페',\n",
       "  '#애월가볼만한곳',\n",
       "  '#협재맛집',\n",
       "  '#한림맛집',\n",
       "  '#제주도민맛집',\n",
       "  '#제주오션뷰',\n",
       "  '#제주시맛집',\n",
       "  '#애월해안도로맛집',\n",
       "  '#한담맛집',\n",
       "  '#한담카페',\n",
       "  '#협재카페',\n",
       "  '#한림카페',\n",
       "  '#제주카페',\n",
       "  '#제주애월맛집',\n",
       "  '#애월핫플레이스',\n",
       "  '#제주핫플']]"
      ]
     },
     "metadata": {},
     "execution_count": 104
    }
   ],
   "metadata": {}
  },
  {
   "cell_type": "markdown",
   "source": [
    "### 5. 다음 게시글로 이동"
   ],
   "metadata": {}
  },
  {
   "cell_type": "code",
   "execution_count": 105,
   "source": [
    "driver.find_element_by_css_selector(\"a._65Bje.coreSpriteRightPaginationArrow\").click()\r\n",
    "time.sleep(3)"
   ],
   "outputs": [],
   "metadata": {}
  },
  {
   "cell_type": "code",
   "execution_count": null,
   "source": [
    "driver.find_element_by_css_selector(\"button,wp06b\")"
   ],
   "outputs": [],
   "metadata": {}
  },
  {
   "cell_type": "code",
   "execution_count": 108,
   "source": [
    "#6을 하기위해 팝업 화면을 없앰(즉 x 클릭)\r\n",
    "driver.find_element_by_xpath(\"/html/body/div[6]/div[3]/button\").click()"
   ],
   "outputs": [],
   "metadata": {}
  },
  {
   "cell_type": "markdown",
   "source": [
    "### 6. 여러개의 게시글 가져오기"
   ],
   "metadata": {}
  },
  {
   "cell_type": "code",
   "execution_count": null,
   "source": [],
   "outputs": [],
   "metadata": {}
  },
  {
   "cell_type": "code",
   "execution_count": 77,
   "source": [
    "driver.close()"
   ],
   "outputs": [],
   "metadata": {}
  }
 ],
 "metadata": {
  "orig_nbformat": 4,
  "language_info": {
   "name": "python",
   "version": "3.8.10",
   "mimetype": "text/x-python",
   "codemirror_mode": {
    "name": "ipython",
    "version": 3
   },
   "pygments_lexer": "ipython3",
   "nbconvert_exporter": "python",
   "file_extension": ".py"
  },
  "kernelspec": {
   "name": "python3",
   "display_name": "Python 3.8.10 64-bit ('btfsop': conda)"
  },
  "interpreter": {
   "hash": "795bef2181d8c1d673d637ebabbfa46c3363c718d3652ae25a9a4fec543c87a1"
  }
 },
 "nbformat": 4,
 "nbformat_minor": 2
}
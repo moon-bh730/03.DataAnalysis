{
 "cells": [
  {
   "cell_type": "markdown",
   "source": [
    "# BeautifulSoup 사용법"
   ],
   "metadata": {}
  },
  {
   "cell_type": "markdown",
   "source": [
    "## Local HTML 파일열기"
   ],
   "metadata": {}
  },
  {
   "cell_type": "code",
   "execution_count": 2,
   "source": [
    "from bs4 import BeautifulSoup\r\n",
    "with open(\"00_example.html\") as f:\r\n",
    "    soup = BeautifulSoup(f, \"html.parser\")\r\n",
    "soup\r\n"
   ],
   "outputs": [
    {
     "output_type": "execute_result",
     "data": {
      "text/plain": [
       "<!DOCTYPE html>\n",
       "\n",
       "<html lang=\"en\">\n",
       "<head>\n",
       "<meta charset=\"utf-8\"/>\n",
       "<meta content=\"width=device-width, initial-scale=1.0\" name=\"viewport\"/>\n",
       "<title>Web Crawling Example</title>\n",
       "</head>\n",
       "<body>\n",
       "<div>\n",
       "<p>a</p><p>b</p><p>c</p>\n",
       "</div>\n",
       "<div class=\"ex_class sample\">\n",
       "<p>1</p><p>2</p><p>3</p>\n",
       "</div>\n",
       "<div id=\"ex_id\">\n",
       "<p>X</p><p>Y</p><p>Z</p>\n",
       "</div>\n",
       "<h1>This is a heading.</h1>\n",
       "<p>This is a paragraph.</p>\n",
       "<p>This is another paragraph.</p>\n",
       "<a class=\"a sample\" href=\"www.naver.com\">Naver</a>\n",
       "</body>\n",
       "</html>"
      ]
     },
     "metadata": {},
     "execution_count": 2
    }
   ],
   "metadata": {}
  },
  {
   "cell_type": "markdown",
   "source": [
    "### fint - 한개만 찾는 메서드"
   ],
   "metadata": {}
  },
  {
   "cell_type": "code",
   "execution_count": 3,
   "source": [
    "first_div = soup.find(\"div\")        # find - 한개만 찾는 메섯드\r\n",
    "first_div"
   ],
   "outputs": [
    {
     "output_type": "execute_result",
     "data": {
      "text/plain": [
       "<div>\n",
       "<p>a</p><p>b</p><p>c</p>\n",
       "</div>"
      ]
     },
     "metadata": {},
     "execution_count": 3
    }
   ],
   "metadata": {}
  },
  {
   "cell_type": "markdown",
   "source": [
    "### find_all - 모두를 찾는 메서드"
   ],
   "metadata": {}
  },
  {
   "cell_type": "code",
   "execution_count": 4,
   "source": [
    "all_divs = soup.find_all(\"div\")         # find_all - 모두를 찾는 메서드\r\n",
    "all_divs"
   ],
   "outputs": [
    {
     "output_type": "execute_result",
     "data": {
      "text/plain": [
       "[<div>\n",
       " <p>a</p><p>b</p><p>c</p>\n",
       " </div>,\n",
       " <div class=\"ex_class sample\">\n",
       " <p>1</p><p>2</p><p>3</p>\n",
       " </div>,\n",
       " <div id=\"ex_id\">\n",
       " <p>X</p><p>Y</p><p>Z</p>\n",
       " </div>]"
      ]
     },
     "metadata": {},
     "execution_count": 4
    }
   ],
   "metadata": {}
  },
  {
   "cell_type": "code",
   "execution_count": 5,
   "source": [
    "len(all_divs)"
   ],
   "outputs": [
    {
     "output_type": "execute_result",
     "data": {
      "text/plain": [
       "3"
      ]
     },
     "metadata": {},
     "execution_count": 5
    }
   ],
   "metadata": {}
  },
  {
   "cell_type": "code",
   "execution_count": 7,
   "source": [
    "for div in all_divs:\r\n",
    "    print(div)\r\n",
    "    print(\"------------\")"
   ],
   "outputs": [
    {
     "output_type": "stream",
     "name": "stdout",
     "text": [
      "<div>\n",
      "<p>a</p><p>b</p><p>c</p>\n",
      "</div>\n",
      "------------\n",
      "<div class=\"ex_class sample\">\n",
      "<p>1</p><p>2</p><p>3</p>\n",
      "</div>\n",
      "------------\n",
      "<div id=\"ex_id\">\n",
      "<p>X</p><p>Y</p><p>Z</p>\n",
      "</div>\n",
      "------------\n"
     ]
    }
   ],
   "metadata": {}
  },
  {
   "cell_type": "code",
   "execution_count": 8,
   "source": [
    "all_ps = soup.find_all(\"p\")\r\n",
    "len(all_ps)"
   ],
   "outputs": [
    {
     "output_type": "execute_result",
     "data": {
      "text/plain": [
       "11"
      ]
     },
     "metadata": {},
     "execution_count": 8
    }
   ],
   "metadata": {}
  },
  {
   "cell_type": "code",
   "execution_count": 9,
   "source": [
    "print(all_ps)"
   ],
   "outputs": [
    {
     "output_type": "stream",
     "name": "stdout",
     "text": [
      "[<p>a</p>, <p>b</p>, <p>c</p>, <p>1</p>, <p>2</p>, <p>3</p>, <p>X</p>, <p>Y</p>, <p>Z</p>, <p>This is a paragraph.</p>, <p>This is another paragraph.</p>]\n"
     ]
    }
   ],
   "metadata": {}
  },
  {
   "cell_type": "markdown",
   "source": [
    "- Select_one - CSS Selector로 찾기"
   ],
   "metadata": {}
  },
  {
   "cell_type": "code",
   "execution_count": 10,
   "source": [
    "ex_id_div = soup.select_one(\"#ex_id\")\r\n",
    "ex_id_div"
   ],
   "outputs": [
    {
     "output_type": "execute_result",
     "data": {
      "text/plain": [
       "<div id=\"ex_id\">\n",
       "<p>X</p><p>Y</p><p>Z</p>\n",
       "</div>"
      ]
     },
     "metadata": {},
     "execution_count": 10
    }
   ],
   "metadata": {}
  },
  {
   "cell_type": "code",
   "execution_count": 11,
   "source": [
    "ex_sample_div = soup.select_one(\".ex_class.sample\")\r\n",
    "ex_sample_div"
   ],
   "outputs": [
    {
     "output_type": "execute_result",
     "data": {
      "text/plain": [
       "<div class=\"ex_class sample\">\n",
       "<p>1</p><p>2</p><p>3</p>\n",
       "</div>"
      ]
     },
     "metadata": {},
     "execution_count": 11
    }
   ],
   "metadata": {}
  },
  {
   "cell_type": "markdown",
   "source": [
    "- Select - CSS Selector로 모두를 찾기"
   ],
   "metadata": {}
  },
  {
   "cell_type": "code",
   "execution_count": 12,
   "source": [
    "ex_sample_divs = soup.select(\"#ex_id\")          # 결과는 리스트로\r\n",
    "ex_sample_divs"
   ],
   "outputs": [
    {
     "output_type": "execute_result",
     "data": {
      "text/plain": [
       "[<div id=\"ex_id\">\n",
       " <p>X</p><p>Y</p><p>Z</p>\n",
       " </div>]"
      ]
     },
     "metadata": {},
     "execution_count": 12
    }
   ],
   "metadata": {}
  },
  {
   "cell_type": "code",
   "execution_count": 13,
   "source": [
    "sample_divs = soup.select(\".sample\")\r\n",
    "sample_divs"
   ],
   "outputs": [
    {
     "output_type": "execute_result",
     "data": {
      "text/plain": [
       "[<div class=\"ex_class sample\">\n",
       " <p>1</p><p>2</p><p>3</p>\n",
       " </div>,\n",
       " <a class=\"a sample\" href=\"www.naver.com\">Naver</a>]"
      ]
     },
     "metadata": {},
     "execution_count": 13
    }
   ],
   "metadata": {}
  },
  {
   "cell_type": "markdown",
   "source": [
    "- 결과 가져오기"
   ],
   "metadata": {}
  },
  {
   "cell_type": "code",
   "execution_count": 14,
   "source": [
    "#<a class=\"a sample\" href=\"www.naver.com\">Naver</a>\r\n",
    "result = soup.select_one(\".a.sample\").get_text()\r\n",
    "result"
   ],
   "outputs": [
    {
     "output_type": "execute_result",
     "data": {
      "text/plain": [
       "'Naver'"
      ]
     },
     "metadata": {},
     "execution_count": 14
    }
   ],
   "metadata": {}
  },
  {
   "cell_type": "code",
   "execution_count": 16,
   "source": [
    "result = soup.select_one(\".a.sample\").string\r\n",
    "result"
   ],
   "outputs": [
    {
     "output_type": "execute_result",
     "data": {
      "text/plain": [
       "'Naver'"
      ]
     },
     "metadata": {},
     "execution_count": 16
    }
   ],
   "metadata": {}
  },
  {
   "cell_type": "code",
   "execution_count": 17,
   "source": [
    "#속성 값\r\n",
    "href = soup.select_one(\".a.sample\")[\"href\"]\r\n",
    "href"
   ],
   "outputs": [
    {
     "output_type": "execute_result",
     "data": {
      "text/plain": [
       "'www.naver.com'"
      ]
     },
     "metadata": {},
     "execution_count": 17
    }
   ],
   "metadata": {}
  },
  {
   "cell_type": "markdown",
   "source": [
    "- id = \"ex_id\"인 div에서 p 내용물 가져오기"
   ],
   "metadata": {}
  },
  {
   "cell_type": "code",
   "execution_count": 23,
   "source": [
    "\"\"\"\r\n",
    "    <div id=\"ex_id\">\r\n",
    "        <p>X</p><p>Y</p><p>Z</p>\r\n",
    "    </div>\r\n",
    "\"\"\"\r\n",
    "ex_id_div = all_ps = soup.select_one(\"#ex_id\")\r\n",
    "print(ex_id_div)\r\n",
    "print(\"--------------\")\r\n",
    "all_ps = ex_id_div.select(\"p\")\r\n",
    "print(all_ps)\r\n",
    "print(\"--------------\")\r\n",
    "\r\n",
    "for p in all_ps:\r\n",
    "    print(p.string)"
   ],
   "outputs": [
    {
     "output_type": "stream",
     "name": "stdout",
     "text": [
      "<div id=\"ex_id\">\n",
      "<p>X</p><p>Y</p><p>Z</p>\n",
      "</div>\n",
      "--------------\n",
      "[<p>X</p>, <p>Y</p>, <p>Z</p>]\n",
      "--------------\n",
      "X\n",
      "Y\n",
      "Z\n"
     ]
    }
   ],
   "metadata": {}
  },
  {
   "cell_type": "code",
   "execution_count": null,
   "source": [],
   "outputs": [],
   "metadata": {}
  }
 ],
 "metadata": {
  "orig_nbformat": 4,
  "language_info": {
   "name": "python",
   "version": "3.8.10",
   "mimetype": "text/x-python",
   "codemirror_mode": {
    "name": "ipython",
    "version": 3
   },
   "pygments_lexer": "ipython3",
   "nbconvert_exporter": "python",
   "file_extension": ".py"
  },
  "kernelspec": {
   "name": "python3",
   "display_name": "Python 3.8.10 64-bit ('btfsop': conda)"
  },
  "interpreter": {
   "hash": "795bef2181d8c1d673d637ebabbfa46c3363c718d3652ae25a9a4fec543c87a1"
  }
 },
 "nbformat": 4,
 "nbformat_minor": 2
}
{
 "cells": [
  {
   "cell_type": "markdown",
   "source": [
    "# 유투브 랭킹 데이터 수집해서 시각화 하기"
   ],
   "metadata": {}
  },
  {
   "cell_type": "code",
   "execution_count": 11,
   "source": [
    "from selenium import webdriver\r\n",
    "from bs4 import BeautifulSoup\r\n",
    "import time\r\n",
    "import pandas as pd"
   ],
   "outputs": [],
   "metadata": {}
  },
  {
   "cell_type": "code",
   "execution_count": 14,
   "source": [
    "options = webdriver.ChromeOptions()\r\n",
    "#options.add_argument(\"--headless\")      # 화면없이 실행\r\n",
    "#options.add_argument(\"--no-sandbox\")\r\n",
    "#options.add_argument(\"--single-process\")\r\n",
    "#options.add_argument(\"--disable-dev-shm-usage\")\r\n",
    "#driver = webdriver.Chrome(\"chromedriver.exe\", options=options)\r\n",
    "driver = webdriver.Chrome(\"chromedriver.exe\")"
   ],
   "outputs": [],
   "metadata": {}
  },
  {
   "cell_type": "code",
   "execution_count": 15,
   "source": [
    "\r\n",
    "url = \"https://www.youtube-rank.com/board/bbs/board.php?bo_table=youtube&page=1\"\r\n",
    "driver.get(url)"
   ],
   "outputs": [],
   "metadata": {}
  },
  {
   "cell_type": "code",
   "execution_count": 17,
   "source": [
    "trs = driver.find_elements_by_css_selector(\".aos-init\")\r\n",
    "len(trs)"
   ],
   "outputs": [
    {
     "output_type": "execute_result",
     "data": {
      "text/plain": [
       "100"
      ]
     },
     "metadata": {},
     "execution_count": 17
    }
   ],
   "metadata": {}
  },
  {
   "cell_type": "code",
   "execution_count": 18,
   "source": [
    "html = driver.page_source\r\n",
    "soup = BeautifulSoup(html, \"html.parser\")"
   ],
   "outputs": [],
   "metadata": {}
  },
  {
   "cell_type": "code",
   "execution_count": 22,
   "source": [
    "channel_list = soup.select(\".aos-init\")\r\n",
    "len(channel_list)"
   ],
   "outputs": [
    {
     "output_type": "execute_result",
     "data": {
      "text/plain": [
       "100"
      ]
     },
     "metadata": {},
     "execution_count": 22
    }
   ],
   "metadata": {}
  },
  {
   "cell_type": "code",
   "execution_count": 23,
   "source": [
    "channel = channel_list[0]\r\n",
    "category = channel.select_one(\"p.category\").get_text().strip()\r\n",
    "category"
   ],
   "outputs": [
    {
     "output_type": "execute_result",
     "data": {
      "text/plain": [
       "'[음악/댄스/가수]'"
      ]
     },
     "metadata": {},
     "execution_count": 23
    }
   ],
   "metadata": {}
  },
  {
   "cell_type": "code",
   "execution_count": 25,
   "source": [
    "name = channel.select_one(\".subject a\").text.strip()\r\n",
    "name"
   ],
   "outputs": [
    {
     "output_type": "execute_result",
     "data": {
      "text/plain": [
       "'BLACKPINK'"
      ]
     },
     "metadata": {},
     "execution_count": 25
    }
   ],
   "metadata": {}
  },
  {
   "cell_type": "code",
   "execution_count": 27,
   "source": [
    "subscriber = channel.select_one(\".subscriber_cnt\").text\r\n",
    "view = channel.select_one(\".view_cnt\").text\r\n",
    "video = channel.select_one(\".video_cnt\").text[:-1]\r\n",
    "subscriber, view, video"
   ],
   "outputs": [
    {
     "output_type": "execute_result",
     "data": {
      "text/plain": [
       "('6400만', '190억0381만', '371')"
      ]
     },
     "metadata": {},
     "execution_count": 27
    }
   ],
   "metadata": {}
  },
  {
   "cell_type": "code",
   "execution_count": 29,
   "source": [
    "channels = []\r\n",
    "for channel in channel_list:\r\n",
    "    category = channel.select_one(\"p.category\").get_text().strip(\" \\n[]\")\r\n",
    "    name = channel.select_one(\".subject a\").text.strip()\r\n",
    "    subscriber = channel.select_one(\".subscriber_cnt\").text\r\n",
    "    view = channel.select_one(\".view_cnt\").text\r\n",
    "    video = channel.select_one(\".video_cnt\").text[:-1]\r\n",
    "    channels.append([category, name, subscriber, view, video])"
   ],
   "outputs": [],
   "metadata": {}
  },
  {
   "cell_type": "code",
   "execution_count": 30,
   "source": [
    "df = pd.DataFrame(channels, columns = [\"카테고리\",\"채널명\",\"구독자수\",\"조회수\",\"비디오수\"])\r\n",
    "df.head()"
   ],
   "outputs": [
    {
     "output_type": "execute_result",
     "data": {
      "text/plain": [
       "       카테고리                          채널명   구독자수        조회수   비디오수\n",
       "0  음악/댄스/가수                    BLACKPINK  6400만  190억0381만    371\n",
       "1  음악/댄스/가수                  HYBE LABELS  6030만  187억1305만    654\n",
       "2  음악/댄스/가수                    BANGTANTV  5640만  121억9496만  1,579\n",
       "3  음악/댄스/가수                       SMTOWN  2850만  218억7092만  3,729\n",
       "4    키즈/어린이  Boram Tube Vlog [보람튜브 브이로그]  2650만  110억5288만    223"
      ],
      "text/html": [
       "<div>\n",
       "<style scoped>\n",
       "    .dataframe tbody tr th:only-of-type {\n",
       "        vertical-align: middle;\n",
       "    }\n",
       "\n",
       "    .dataframe tbody tr th {\n",
       "        vertical-align: top;\n",
       "    }\n",
       "\n",
       "    .dataframe thead th {\n",
       "        text-align: right;\n",
       "    }\n",
       "</style>\n",
       "<table border=\"1\" class=\"dataframe\">\n",
       "  <thead>\n",
       "    <tr style=\"text-align: right;\">\n",
       "      <th></th>\n",
       "      <th>카테고리</th>\n",
       "      <th>채널명</th>\n",
       "      <th>구독자수</th>\n",
       "      <th>조회수</th>\n",
       "      <th>비디오수</th>\n",
       "    </tr>\n",
       "  </thead>\n",
       "  <tbody>\n",
       "    <tr>\n",
       "      <th>0</th>\n",
       "      <td>음악/댄스/가수</td>\n",
       "      <td>BLACKPINK</td>\n",
       "      <td>6400만</td>\n",
       "      <td>190억0381만</td>\n",
       "      <td>371</td>\n",
       "    </tr>\n",
       "    <tr>\n",
       "      <th>1</th>\n",
       "      <td>음악/댄스/가수</td>\n",
       "      <td>HYBE LABELS</td>\n",
       "      <td>6030만</td>\n",
       "      <td>187억1305만</td>\n",
       "      <td>654</td>\n",
       "    </tr>\n",
       "    <tr>\n",
       "      <th>2</th>\n",
       "      <td>음악/댄스/가수</td>\n",
       "      <td>BANGTANTV</td>\n",
       "      <td>5640만</td>\n",
       "      <td>121억9496만</td>\n",
       "      <td>1,579</td>\n",
       "    </tr>\n",
       "    <tr>\n",
       "      <th>3</th>\n",
       "      <td>음악/댄스/가수</td>\n",
       "      <td>SMTOWN</td>\n",
       "      <td>2850만</td>\n",
       "      <td>218억7092만</td>\n",
       "      <td>3,729</td>\n",
       "    </tr>\n",
       "    <tr>\n",
       "      <th>4</th>\n",
       "      <td>키즈/어린이</td>\n",
       "      <td>Boram Tube Vlog [보람튜브 브이로그]</td>\n",
       "      <td>2650만</td>\n",
       "      <td>110억5288만</td>\n",
       "      <td>223</td>\n",
       "    </tr>\n",
       "  </tbody>\n",
       "</table>\n",
       "</div>"
      ]
     },
     "metadata": {},
     "execution_count": 30
    }
   ],
   "metadata": {}
  },
  {
   "cell_type": "code",
   "execution_count": 31,
   "source": [
    "df.tail()"
   ],
   "outputs": [
    {
     "output_type": "execute_result",
     "data": {
      "text/plain": [
       "         카테고리                    채널명  구독자수       조회수   비디오수\n",
       "95  음식/요리/레시피           까니짱 [ G-NI ]  408만  10억3471만    482\n",
       "96     키즈/어린이  로미유 스토리[Romiyu Story]  408만  10억6557만    433\n",
       "97   음악/댄스/가수              NCT DREAM  386만   3억7422만    228\n",
       "98  BJ/인물/연예인               허팝Heopop  381만  31억3892만  1,847\n",
       "99    애완/반려동물                 크림히어로즈  381만  13억7401만    939"
      ],
      "text/html": [
       "<div>\n",
       "<style scoped>\n",
       "    .dataframe tbody tr th:only-of-type {\n",
       "        vertical-align: middle;\n",
       "    }\n",
       "\n",
       "    .dataframe tbody tr th {\n",
       "        vertical-align: top;\n",
       "    }\n",
       "\n",
       "    .dataframe thead th {\n",
       "        text-align: right;\n",
       "    }\n",
       "</style>\n",
       "<table border=\"1\" class=\"dataframe\">\n",
       "  <thead>\n",
       "    <tr style=\"text-align: right;\">\n",
       "      <th></th>\n",
       "      <th>카테고리</th>\n",
       "      <th>채널명</th>\n",
       "      <th>구독자수</th>\n",
       "      <th>조회수</th>\n",
       "      <th>비디오수</th>\n",
       "    </tr>\n",
       "  </thead>\n",
       "  <tbody>\n",
       "    <tr>\n",
       "      <th>95</th>\n",
       "      <td>음식/요리/레시피</td>\n",
       "      <td>까니짱 [ G-NI ]</td>\n",
       "      <td>408만</td>\n",
       "      <td>10억3471만</td>\n",
       "      <td>482</td>\n",
       "    </tr>\n",
       "    <tr>\n",
       "      <th>96</th>\n",
       "      <td>키즈/어린이</td>\n",
       "      <td>로미유 스토리[Romiyu Story]</td>\n",
       "      <td>408만</td>\n",
       "      <td>10억6557만</td>\n",
       "      <td>433</td>\n",
       "    </tr>\n",
       "    <tr>\n",
       "      <th>97</th>\n",
       "      <td>음악/댄스/가수</td>\n",
       "      <td>NCT DREAM</td>\n",
       "      <td>386만</td>\n",
       "      <td>3억7422만</td>\n",
       "      <td>228</td>\n",
       "    </tr>\n",
       "    <tr>\n",
       "      <th>98</th>\n",
       "      <td>BJ/인물/연예인</td>\n",
       "      <td>허팝Heopop</td>\n",
       "      <td>381만</td>\n",
       "      <td>31억3892만</td>\n",
       "      <td>1,847</td>\n",
       "    </tr>\n",
       "    <tr>\n",
       "      <th>99</th>\n",
       "      <td>애완/반려동물</td>\n",
       "      <td>크림히어로즈</td>\n",
       "      <td>381만</td>\n",
       "      <td>13억7401만</td>\n",
       "      <td>939</td>\n",
       "    </tr>\n",
       "  </tbody>\n",
       "</table>\n",
       "</div>"
      ]
     },
     "metadata": {},
     "execution_count": 31
    }
   ],
   "metadata": {}
  },
  {
   "cell_type": "markdown",
   "source": [
    "- 만과 억을 숫자로 바꿔주는 함수"
   ],
   "metadata": {}
  },
  {
   "cell_type": "code",
   "execution_count": 34,
   "source": [
    "def convert_unit(s):\r\n",
    "    s = \"\".join(s.split(\"억\"))\r\n",
    "    s = s.replace(\"만\",\"0000\")\r\n",
    "    return s"
   ],
   "outputs": [],
   "metadata": {}
  },
  {
   "cell_type": "code",
   "execution_count": 35,
   "source": [
    "convert_unit(\"10억6557만\")"
   ],
   "outputs": [
    {
     "output_type": "execute_result",
     "data": {
      "text/plain": [
       "'1065570000'"
      ]
     },
     "metadata": {},
     "execution_count": 35
    }
   ],
   "metadata": {}
  },
  {
   "cell_type": "code",
   "execution_count": 32,
   "source": [
    "driver.close()\r\n",
    "#browser.close()"
   ],
   "outputs": [],
   "metadata": {}
  }
 ],
 "metadata": {
  "orig_nbformat": 4,
  "language_info": {
   "name": "python",
   "version": "3.8.10",
   "mimetype": "text/x-python",
   "codemirror_mode": {
    "name": "ipython",
    "version": 3
   },
   "pygments_lexer": "ipython3",
   "nbconvert_exporter": "python",
   "file_extension": ".py"
  },
  "kernelspec": {
   "name": "python3",
   "display_name": "Python 3.8.10 64-bit ('btfsop': conda)"
  },
  "interpreter": {
   "hash": "795bef2181d8c1d673d637ebabbfa46c3363c718d3652ae25a9a4fec543c87a1"
  }
 },
 "nbformat": 4,
 "nbformat_minor": 2
}
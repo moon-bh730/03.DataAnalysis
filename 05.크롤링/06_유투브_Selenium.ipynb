{
 "cells": [
  {
   "cell_type": "code",
   "execution_count": 6,
   "source": [
    "from selenium import webdriver\r\n",
    "import time\r\n",
    "import pandas as pd"
   ],
   "outputs": [],
   "metadata": {}
  },
  {
   "cell_type": "code",
   "execution_count": 7,
   "source": [
    "options = webdriver.ChromeOptions()\r\n",
    "#options.add_argument(\"--headless\")      # 화면없이 실행\r\n",
    "#options.add_argument(\"--no-sandbox\")\r\n",
    "#options.add_argument(\"--single-process\")\r\n",
    "#options.add_argument(\"--disable-dev-shm-usage\")\r\n",
    "#driver = webdriver.Chrome(\"chromedriver.exe\", options=options)\r\n",
    "driver = webdriver.Chrome(\"chromedriver.exe\")"
   ],
   "outputs": [],
   "metadata": {}
  },
  {
   "cell_type": "code",
   "execution_count": 8,
   "source": [
    "url = \"https://youtube-rank.com/board/bbs/board.php?bo_table=youtube&page=1\"\r\n",
    "driver.get(url)\r\n",
    "#time.sleep(2)"
   ],
   "outputs": [],
   "metadata": {}
  },
  {
   "cell_type": "code",
   "execution_count": 10,
   "source": [
    "# pop-up 창이 있으면, pop-up창을 닫고 메인 윈도우로 돌아온다.\r\n",
    "window_len = len(driver.window_handles)\r\n",
    "if window_len ==2:\r\n",
    "    driver.switch_to_window(driver.window_handles[1])\r\n",
    "    driver.close()\r\n",
    "\r\n",
    "driver.switch_to_window(driver.window_handles[0])"
   ],
   "outputs": [
    {
     "output_type": "stream",
     "name": "stderr",
     "text": [
      "<ipython-input-10-8d79e2da61d3>:5: DeprecationWarning: use driver.switch_to.window instead\n",
      "  driver.switch_to_window(driver.window_handles[0])\n"
     ]
    }
   ],
   "metadata": {}
  },
  {
   "cell_type": "code",
   "execution_count": 11,
   "source": [
    "trs = driver.find_elements_by_css_selector(\".aos-init\")\r\n",
    "len(trs)"
   ],
   "outputs": [
    {
     "output_type": "execute_result",
     "data": {
      "text/plain": [
       "100"
      ]
     },
     "metadata": {},
     "execution_count": 11
    }
   ],
   "metadata": {}
  },
  {
   "cell_type": "code",
   "execution_count": 13,
   "source": [
    "def convert_unit(s):\r\n",
    "    #s = \"\".join(s.split(\"억\"))\r\n",
    "    s = s.replace(\"억\",\"\").replace(\"개\",\"\").replace(\",\",\"\")\r\n",
    "    s = s.replace(\"만\",\"0000\")\r\n",
    "    return f\"{int(s):d}\""
   ],
   "outputs": [],
   "metadata": {}
  },
  {
   "cell_type": "code",
   "execution_count": 17,
   "source": [
    "tr = trs[0]\r\n",
    "category = tr.find_element_by_css_selector('p.category').text.strip(' \\n[]')\r\n",
    "category"
   ],
   "outputs": [
    {
     "output_type": "execute_result",
     "data": {
      "text/plain": [
       "'음악/댄스/가수'"
      ]
     },
     "metadata": {},
     "execution_count": 17
    }
   ],
   "metadata": {}
  },
  {
   "cell_type": "code",
   "execution_count": 19,
   "source": [
    "tr = trs[0]\r\n",
    "name = tr.find_element_by_css_selector('.subject a').text.strip()\r\n",
    "name"
   ],
   "outputs": [
    {
     "output_type": "execute_result",
     "data": {
      "text/plain": [
       "'BLACKPINK'"
      ]
     },
     "metadata": {},
     "execution_count": 19
    }
   ],
   "metadata": {}
  },
  {
   "cell_type": "code",
   "execution_count": 25,
   "source": [
    "tr = trs[0]\r\n",
    "subscriber = convert_unit(tr.find_element_by_css_selector('.subscriber_cnt').text)\r\n",
    "convert_unit(subscriber)"
   ],
   "outputs": [
    {
     "output_type": "execute_result",
     "data": {
      "text/plain": [
       "'64000000'"
      ]
     },
     "metadata": {},
     "execution_count": 25
    }
   ],
   "metadata": {}
  },
  {
   "cell_type": "code",
   "execution_count": 26,
   "source": [
    "tr = trs[0]\r\n",
    "view = convert_unit(tr.find_element_by_css_selector('.view_cnt').text)\r\n",
    "convert_unit(view)"
   ],
   "outputs": [
    {
     "output_type": "execute_result",
     "data": {
      "text/plain": [
       "'19003810000'"
      ]
     },
     "metadata": {},
     "execution_count": 26
    }
   ],
   "metadata": {}
  },
  {
   "cell_type": "code",
   "execution_count": 24,
   "source": [
    "tr = trs[0]\r\n",
    "video = convert_unit(tr.find_element_by_css_selector('.video_cnt').text)\r\n",
    "video"
   ],
   "outputs": [
    {
     "output_type": "execute_result",
     "data": {
      "text/plain": [
       "'371'"
      ]
     },
     "metadata": {},
     "execution_count": 24
    }
   ],
   "metadata": {}
  },
  {
   "cell_type": "code",
   "execution_count": 30,
   "source": [
    "results = []\r\n",
    "for page in range(1,11):\r\n",
    "    url = 'https://youtube-rank.com/board/bbs/board.php?bo_table=youtube&page='+str(page)\r\n",
    "    driver.get(url)\r\n",
    "    time.sleep(4)\r\n",
    "\r\n",
    "    window_len = len(driver.window_handles)\r\n",
    "    if window_len ==2:\r\n",
    "        driver.switch_to_window(driver.window_handles[1])\r\n",
    "        driver.close()\r\n",
    "        \r\n",
    "    driver.switch_to_window(driver.window_handles[0])  \r\n",
    "\r\n",
    "    trs = driver.find_elements_by_css_selector(\".aos-init\")\r\n",
    "\r\n",
    "    for tr in trs:\r\n",
    "        try:\r\n",
    "            category = tr.find_element_by_css_selector('p.category').text.strip(' \\n[]')\r\n",
    "            name = tr.find_element_by_css_selector('.subject a').text.strip()\r\n",
    "            subscriber = convert_unit(tr.find_element_by_css_selector('.subscriber_cnt').text)\r\n",
    "            view = convert_unit(tr.find_element_by_css_selector('.view_cnt').text)\r\n",
    "            video = convert_unit(tr.find_element_by_css_selector('.video_cnt').text)\r\n",
    "\r\n",
    "            results.append([category,name,subscriber,view,video])\r\n",
    "        except:\r\n",
    "            print(tr)\r\n"
   ],
   "outputs": [
    {
     "output_type": "stream",
     "name": "stderr",
     "text": [
      "<ipython-input-30-91838d3b06e5>:12: DeprecationWarning: use driver.switch_to.window instead\n",
      "  driver.switch_to_window(driver.window_handles[0])\n"
     ]
    },
    {
     "output_type": "stream",
     "name": "stdout",
     "text": [
      "<selenium.webdriver.remote.webelement.WebElement (session=\"ec73ce081f92ddb1aa1ca956a3477cd0\", element=\"329c91ef-5d9c-44b2-aa3f-80c684fa8299\")>\n",
      "<selenium.webdriver.remote.webelement.WebElement (session=\"ec73ce081f92ddb1aa1ca956a3477cd0\", element=\"1d912a42-0ab2-40f5-b1f4-4cf42bf0cf38\")>\n",
      "<selenium.webdriver.remote.webelement.WebElement (session=\"ec73ce081f92ddb1aa1ca956a3477cd0\", element=\"55285beb-d561-49dd-b368-9e9bd8f0390b\")>\n",
      "<selenium.webdriver.remote.webelement.WebElement (session=\"ec73ce081f92ddb1aa1ca956a3477cd0\", element=\"af31c4be-2524-4bba-9828-1ea289d5bf37\")>\n",
      "<selenium.webdriver.remote.webelement.WebElement (session=\"ec73ce081f92ddb1aa1ca956a3477cd0\", element=\"502822cd-50e1-457d-9d28-fba5af33cf1d\")>\n",
      "<selenium.webdriver.remote.webelement.WebElement (session=\"ec73ce081f92ddb1aa1ca956a3477cd0\", element=\"5a09deda-b3aa-4720-b7cb-c6495992ab25\")>\n",
      "<selenium.webdriver.remote.webelement.WebElement (session=\"ec73ce081f92ddb1aa1ca956a3477cd0\", element=\"71ac04bb-ee32-4b3a-8551-b396fd6f5787\")>\n",
      "<selenium.webdriver.remote.webelement.WebElement (session=\"ec73ce081f92ddb1aa1ca956a3477cd0\", element=\"d7a867fd-7b7a-4e79-99a9-2acdefdfe455\")>\n",
      "<selenium.webdriver.remote.webelement.WebElement (session=\"ec73ce081f92ddb1aa1ca956a3477cd0\", element=\"93626248-856c-4c1e-b378-71d1c652ab22\")>\n",
      "<selenium.webdriver.remote.webelement.WebElement (session=\"ec73ce081f92ddb1aa1ca956a3477cd0\", element=\"7287c413-c60f-407b-acc7-a57cf1e12138\")>\n",
      "<selenium.webdriver.remote.webelement.WebElement (session=\"ec73ce081f92ddb1aa1ca956a3477cd0\", element=\"681045f1-eacd-485e-93de-af41cab2fca2\")>\n",
      "<selenium.webdriver.remote.webelement.WebElement (session=\"ec73ce081f92ddb1aa1ca956a3477cd0\", element=\"064b4cb5-0991-4e92-a38d-0a4ebdae3e24\")>\n",
      "<selenium.webdriver.remote.webelement.WebElement (session=\"ec73ce081f92ddb1aa1ca956a3477cd0\", element=\"1f4a87bd-1e01-4062-89f0-ca7ae3cb4ebf\")>\n",
      "<selenium.webdriver.remote.webelement.WebElement (session=\"ec73ce081f92ddb1aa1ca956a3477cd0\", element=\"886b0b3b-ca26-4d61-a2dc-3fff42ef2a14\")>\n",
      "<selenium.webdriver.remote.webelement.WebElement (session=\"ec73ce081f92ddb1aa1ca956a3477cd0\", element=\"9abae66b-0980-474c-87a5-1ff5d43f1317\")>\n",
      "<selenium.webdriver.remote.webelement.WebElement (session=\"ec73ce081f92ddb1aa1ca956a3477cd0\", element=\"bc3624af-1fd3-4042-8885-a86d1398df0a\")>\n",
      "<selenium.webdriver.remote.webelement.WebElement (session=\"ec73ce081f92ddb1aa1ca956a3477cd0\", element=\"7ded78b2-0b80-4211-a5af-04f8a3d1a7ec\")>\n",
      "<selenium.webdriver.remote.webelement.WebElement (session=\"ec73ce081f92ddb1aa1ca956a3477cd0\", element=\"8082ecdf-bdec-457f-8ea8-43ac971d74c2\")>\n",
      "<selenium.webdriver.remote.webelement.WebElement (session=\"ec73ce081f92ddb1aa1ca956a3477cd0\", element=\"60a42ed6-d7bc-4af6-bd85-b513bf6973a5\")>\n",
      "<selenium.webdriver.remote.webelement.WebElement (session=\"ec73ce081f92ddb1aa1ca956a3477cd0\", element=\"424431d9-843c-4005-b2f2-5a658066a557\")>\n",
      "<selenium.webdriver.remote.webelement.WebElement (session=\"ec73ce081f92ddb1aa1ca956a3477cd0\", element=\"9a78c8ec-0e8f-45b8-ad30-2847188273c2\")>\n",
      "<selenium.webdriver.remote.webelement.WebElement (session=\"ec73ce081f92ddb1aa1ca956a3477cd0\", element=\"77983d97-b8d6-47fa-be22-dce83a7c6ade\")>\n",
      "<selenium.webdriver.remote.webelement.WebElement (session=\"ec73ce081f92ddb1aa1ca956a3477cd0\", element=\"614f86cb-3fe2-4011-ac40-0db90bbf91df\")>\n",
      "<selenium.webdriver.remote.webelement.WebElement (session=\"ec73ce081f92ddb1aa1ca956a3477cd0\", element=\"34c2f27a-8cde-4d3d-a838-e15723ceff63\")>\n",
      "<selenium.webdriver.remote.webelement.WebElement (session=\"ec73ce081f92ddb1aa1ca956a3477cd0\", element=\"5000d0a6-7ddc-462d-93b7-8578e887358e\")>\n",
      "<selenium.webdriver.remote.webelement.WebElement (session=\"ec73ce081f92ddb1aa1ca956a3477cd0\", element=\"e5e22669-a973-4535-8eba-65bdf765e50e\")>\n",
      "<selenium.webdriver.remote.webelement.WebElement (session=\"ec73ce081f92ddb1aa1ca956a3477cd0\", element=\"8e1f04da-dba9-4a95-86bd-5e9d8a348fe7\")>\n",
      "<selenium.webdriver.remote.webelement.WebElement (session=\"ec73ce081f92ddb1aa1ca956a3477cd0\", element=\"7361bdb1-d607-4d55-82f6-63f8dddbfb05\")>\n",
      "<selenium.webdriver.remote.webelement.WebElement (session=\"ec73ce081f92ddb1aa1ca956a3477cd0\", element=\"9da73c6f-e02f-4017-a6e7-f0be6a9f6489\")>\n",
      "<selenium.webdriver.remote.webelement.WebElement (session=\"ec73ce081f92ddb1aa1ca956a3477cd0\", element=\"5f566f42-f51b-4840-a499-348455fdfaa8\")>\n",
      "<selenium.webdriver.remote.webelement.WebElement (session=\"ec73ce081f92ddb1aa1ca956a3477cd0\", element=\"dd286aa5-01a1-4b68-a072-7ee3625f64a8\")>\n",
      "<selenium.webdriver.remote.webelement.WebElement (session=\"ec73ce081f92ddb1aa1ca956a3477cd0\", element=\"87334b80-c296-4629-a5da-610550fab03f\")>\n",
      "<selenium.webdriver.remote.webelement.WebElement (session=\"ec73ce081f92ddb1aa1ca956a3477cd0\", element=\"21bba164-52fc-4a92-b3e8-7e3292428c68\")>\n",
      "<selenium.webdriver.remote.webelement.WebElement (session=\"ec73ce081f92ddb1aa1ca956a3477cd0\", element=\"742da157-046f-4c95-bd06-2a1955819c31\")>\n",
      "<selenium.webdriver.remote.webelement.WebElement (session=\"ec73ce081f92ddb1aa1ca956a3477cd0\", element=\"79934da4-2884-4417-9746-4c6e2c4639d6\")>\n",
      "<selenium.webdriver.remote.webelement.WebElement (session=\"ec73ce081f92ddb1aa1ca956a3477cd0\", element=\"c7f8360c-9ece-4e3c-a25c-2771c1f2aff3\")>\n",
      "<selenium.webdriver.remote.webelement.WebElement (session=\"ec73ce081f92ddb1aa1ca956a3477cd0\", element=\"427465c5-90b8-4a07-adde-bd2f4bdd8ec2\")>\n",
      "<selenium.webdriver.remote.webelement.WebElement (session=\"ec73ce081f92ddb1aa1ca956a3477cd0\", element=\"b21f71ff-d987-436a-b70f-2cd80c7a1430\")>\n",
      "<selenium.webdriver.remote.webelement.WebElement (session=\"ec73ce081f92ddb1aa1ca956a3477cd0\", element=\"76791205-6f68-413a-8924-828183cb8441\")>\n",
      "<selenium.webdriver.remote.webelement.WebElement (session=\"ec73ce081f92ddb1aa1ca956a3477cd0\", element=\"1af68f4b-0f69-426a-832b-87e45b38d9e9\")>\n",
      "<selenium.webdriver.remote.webelement.WebElement (session=\"ec73ce081f92ddb1aa1ca956a3477cd0\", element=\"7b5b6109-d939-4a3e-b7be-36c0eeb8f1e5\")>\n",
      "<selenium.webdriver.remote.webelement.WebElement (session=\"ec73ce081f92ddb1aa1ca956a3477cd0\", element=\"8d7a2632-f702-4e83-bfa8-533703ffddf0\")>\n",
      "<selenium.webdriver.remote.webelement.WebElement (session=\"ec73ce081f92ddb1aa1ca956a3477cd0\", element=\"6912f600-2b45-450c-909e-9fc2c8560f9c\")>\n",
      "<selenium.webdriver.remote.webelement.WebElement (session=\"ec73ce081f92ddb1aa1ca956a3477cd0\", element=\"56b3ea9c-9ab5-4bed-9ee1-69b2d3de1039\")>\n",
      "<selenium.webdriver.remote.webelement.WebElement (session=\"ec73ce081f92ddb1aa1ca956a3477cd0\", element=\"d143d495-5020-4bc9-a260-e43c4c179049\")>\n",
      "<selenium.webdriver.remote.webelement.WebElement (session=\"ec73ce081f92ddb1aa1ca956a3477cd0\", element=\"ed99faf7-b13b-46b7-8e37-920b5913d6a4\")>\n",
      "<selenium.webdriver.remote.webelement.WebElement (session=\"ec73ce081f92ddb1aa1ca956a3477cd0\", element=\"a5ad56a6-90d4-4bd0-9294-d54b37a2e735\")>\n",
      "<selenium.webdriver.remote.webelement.WebElement (session=\"ec73ce081f92ddb1aa1ca956a3477cd0\", element=\"6cd2cd56-f406-48a4-ba18-289b0fa39d7f\")>\n",
      "<selenium.webdriver.remote.webelement.WebElement (session=\"ec73ce081f92ddb1aa1ca956a3477cd0\", element=\"5bfd0f1b-9897-4852-9736-b35950f52227\")>\n",
      "<selenium.webdriver.remote.webelement.WebElement (session=\"ec73ce081f92ddb1aa1ca956a3477cd0\", element=\"8d4d2c9e-8dd8-45c6-94ab-7786ad4b31fa\")>\n",
      "<selenium.webdriver.remote.webelement.WebElement (session=\"ec73ce081f92ddb1aa1ca956a3477cd0\", element=\"a3f29e7b-6b72-4aa2-a5e1-fef4a04f9760\")>\n",
      "<selenium.webdriver.remote.webelement.WebElement (session=\"ec73ce081f92ddb1aa1ca956a3477cd0\", element=\"05c38e7c-c8e8-4c3d-ac8d-eee5723627b8\")>\n",
      "<selenium.webdriver.remote.webelement.WebElement (session=\"ec73ce081f92ddb1aa1ca956a3477cd0\", element=\"9c4ed782-d605-4872-99ae-7c19f0db4ade\")>\n",
      "<selenium.webdriver.remote.webelement.WebElement (session=\"ec73ce081f92ddb1aa1ca956a3477cd0\", element=\"b1f53d72-83c5-4e0f-ab07-411378630950\")>\n",
      "<selenium.webdriver.remote.webelement.WebElement (session=\"ec73ce081f92ddb1aa1ca956a3477cd0\", element=\"34b88834-1499-4878-8967-1aa100348f27\")>\n",
      "<selenium.webdriver.remote.webelement.WebElement (session=\"ec73ce081f92ddb1aa1ca956a3477cd0\", element=\"5ebc1370-9585-485c-9a73-b8d4b487e3b0\")>\n",
      "<selenium.webdriver.remote.webelement.WebElement (session=\"ec73ce081f92ddb1aa1ca956a3477cd0\", element=\"943f4116-56f1-43c5-b2f1-ae3e07651574\")>\n",
      "<selenium.webdriver.remote.webelement.WebElement (session=\"ec73ce081f92ddb1aa1ca956a3477cd0\", element=\"d090b8ec-d302-4f85-8964-bbde603d6fb8\")>\n",
      "<selenium.webdriver.remote.webelement.WebElement (session=\"ec73ce081f92ddb1aa1ca956a3477cd0\", element=\"7da44ffb-9944-406e-8083-a430e8b53f95\")>\n",
      "<selenium.webdriver.remote.webelement.WebElement (session=\"ec73ce081f92ddb1aa1ca956a3477cd0\", element=\"17a90abc-18a2-4151-9be1-16033175ecb8\")>\n",
      "<selenium.webdriver.remote.webelement.WebElement (session=\"ec73ce081f92ddb1aa1ca956a3477cd0\", element=\"2cb6bf0d-c300-44bb-93bf-f96d58b8fab0\")>\n",
      "<selenium.webdriver.remote.webelement.WebElement (session=\"ec73ce081f92ddb1aa1ca956a3477cd0\", element=\"fa85ae5b-3ef2-4bf8-a6b3-63d3df34f344\")>\n",
      "<selenium.webdriver.remote.webelement.WebElement (session=\"ec73ce081f92ddb1aa1ca956a3477cd0\", element=\"2d2bca67-73cc-4eb7-b790-3f7b53a7b306\")>\n",
      "<selenium.webdriver.remote.webelement.WebElement (session=\"ec73ce081f92ddb1aa1ca956a3477cd0\", element=\"febf6e90-b678-4d64-92c9-4f37e2e84e25\")>\n",
      "<selenium.webdriver.remote.webelement.WebElement (session=\"ec73ce081f92ddb1aa1ca956a3477cd0\", element=\"f5c8dbf0-e781-42f3-af85-d3556f48de74\")>\n",
      "<selenium.webdriver.remote.webelement.WebElement (session=\"ec73ce081f92ddb1aa1ca956a3477cd0\", element=\"8d9eb8a5-c15b-40a8-9970-c8b1ea91ca76\")>\n",
      "<selenium.webdriver.remote.webelement.WebElement (session=\"ec73ce081f92ddb1aa1ca956a3477cd0\", element=\"88ab2698-c590-4f5f-9eda-5920e7ff19b7\")>\n",
      "<selenium.webdriver.remote.webelement.WebElement (session=\"ec73ce081f92ddb1aa1ca956a3477cd0\", element=\"89fa8726-19ee-48fb-a315-e68b31886886\")>\n",
      "<selenium.webdriver.remote.webelement.WebElement (session=\"ec73ce081f92ddb1aa1ca956a3477cd0\", element=\"acbc3a2b-c125-4a04-9a90-96cd5065b0b7\")>\n",
      "<selenium.webdriver.remote.webelement.WebElement (session=\"ec73ce081f92ddb1aa1ca956a3477cd0\", element=\"702e9042-c58b-46b4-b568-4532876fe65b\")>\n",
      "<selenium.webdriver.remote.webelement.WebElement (session=\"ec73ce081f92ddb1aa1ca956a3477cd0\", element=\"ab0d52e2-7420-4381-8ded-e6a94fc807f4\")>\n",
      "<selenium.webdriver.remote.webelement.WebElement (session=\"ec73ce081f92ddb1aa1ca956a3477cd0\", element=\"4dab9b40-4d4d-4a0e-a62f-eb023032bed1\")>\n",
      "<selenium.webdriver.remote.webelement.WebElement (session=\"ec73ce081f92ddb1aa1ca956a3477cd0\", element=\"87b08bae-ad40-48c5-849a-410b803375cf\")>\n",
      "<selenium.webdriver.remote.webelement.WebElement (session=\"ec73ce081f92ddb1aa1ca956a3477cd0\", element=\"7d929c42-eedf-472e-9bac-08b63c6a4ee6\")>\n",
      "<selenium.webdriver.remote.webelement.WebElement (session=\"ec73ce081f92ddb1aa1ca956a3477cd0\", element=\"5ced693a-47a2-4c0d-a039-54a27b3de7cf\")>\n",
      "<selenium.webdriver.remote.webelement.WebElement (session=\"ec73ce081f92ddb1aa1ca956a3477cd0\", element=\"52b4805e-7719-4b9a-8db9-3393bd658fb9\")>\n",
      "<selenium.webdriver.remote.webelement.WebElement (session=\"ec73ce081f92ddb1aa1ca956a3477cd0\", element=\"4d7376e9-ac85-4508-9c0c-dcfb08922c47\")>\n",
      "<selenium.webdriver.remote.webelement.WebElement (session=\"ec73ce081f92ddb1aa1ca956a3477cd0\", element=\"0119d91e-e9c3-4877-a8ee-43738731fbbb\")>\n",
      "<selenium.webdriver.remote.webelement.WebElement (session=\"ec73ce081f92ddb1aa1ca956a3477cd0\", element=\"ff9c6fbe-e51e-4626-bc6d-7a33f2ae6b0f\")>\n",
      "<selenium.webdriver.remote.webelement.WebElement (session=\"ec73ce081f92ddb1aa1ca956a3477cd0\", element=\"2d301931-57a0-47c0-8f70-fd6ce44c0c4c\")>\n",
      "<selenium.webdriver.remote.webelement.WebElement (session=\"ec73ce081f92ddb1aa1ca956a3477cd0\", element=\"5180c5dd-cec4-4f11-be15-8cfd62b30d51\")>\n",
      "<selenium.webdriver.remote.webelement.WebElement (session=\"ec73ce081f92ddb1aa1ca956a3477cd0\", element=\"4ffa0ddf-2ebc-42e7-90a0-39a727481798\")>\n",
      "<selenium.webdriver.remote.webelement.WebElement (session=\"ec73ce081f92ddb1aa1ca956a3477cd0\", element=\"39bf632b-86a9-4bad-b5ca-4091ebd888d0\")>\n",
      "<selenium.webdriver.remote.webelement.WebElement (session=\"ec73ce081f92ddb1aa1ca956a3477cd0\", element=\"4e036ea9-89df-45fc-b97e-c30f8feef333\")>\n",
      "<selenium.webdriver.remote.webelement.WebElement (session=\"ec73ce081f92ddb1aa1ca956a3477cd0\", element=\"26c636dd-a68d-4653-80e4-88c2a374bacf\")>\n",
      "<selenium.webdriver.remote.webelement.WebElement (session=\"ec73ce081f92ddb1aa1ca956a3477cd0\", element=\"42886f68-2847-4b20-bbb4-e03145c7fe2e\")>\n",
      "<selenium.webdriver.remote.webelement.WebElement (session=\"ec73ce081f92ddb1aa1ca956a3477cd0\", element=\"84bada10-2bbd-4d2d-af23-a0277099fde7\")>\n",
      "<selenium.webdriver.remote.webelement.WebElement (session=\"ec73ce081f92ddb1aa1ca956a3477cd0\", element=\"1e523fef-b62c-4bae-96c0-8668989d4d05\")>\n",
      "<selenium.webdriver.remote.webelement.WebElement (session=\"ec73ce081f92ddb1aa1ca956a3477cd0\", element=\"245815ae-ee7a-4ac4-bcd9-8bd32782d4b8\")>\n",
      "<selenium.webdriver.remote.webelement.WebElement (session=\"ec73ce081f92ddb1aa1ca956a3477cd0\", element=\"90191de6-4b99-49e9-9503-d950dc9659af\")>\n",
      "<selenium.webdriver.remote.webelement.WebElement (session=\"ec73ce081f92ddb1aa1ca956a3477cd0\", element=\"7798c1a1-4396-41e5-8e37-94a5f580fccf\")>\n",
      "<selenium.webdriver.remote.webelement.WebElement (session=\"ec73ce081f92ddb1aa1ca956a3477cd0\", element=\"45314805-01a4-485d-b0a1-b7aa581e435b\")>\n",
      "<selenium.webdriver.remote.webelement.WebElement (session=\"ec73ce081f92ddb1aa1ca956a3477cd0\", element=\"6802b052-6aef-448a-926f-0cec5aba7598\")>\n",
      "<selenium.webdriver.remote.webelement.WebElement (session=\"ec73ce081f92ddb1aa1ca956a3477cd0\", element=\"d8203e76-e84f-47e4-8eaf-9e2270c5a46f\")>\n",
      "<selenium.webdriver.remote.webelement.WebElement (session=\"ec73ce081f92ddb1aa1ca956a3477cd0\", element=\"bcc978c4-1399-4215-8319-f5b0b4120ea2\")>\n",
      "<selenium.webdriver.remote.webelement.WebElement (session=\"ec73ce081f92ddb1aa1ca956a3477cd0\", element=\"8f37f36e-8f31-4151-9505-0127c1e45610\")>\n",
      "<selenium.webdriver.remote.webelement.WebElement (session=\"ec73ce081f92ddb1aa1ca956a3477cd0\", element=\"d75c6e64-73df-489d-99da-ebc083a522c5\")>\n",
      "<selenium.webdriver.remote.webelement.WebElement (session=\"ec73ce081f92ddb1aa1ca956a3477cd0\", element=\"e19a79bc-117b-4ab9-be8c-feb2a64cd968\")>\n",
      "<selenium.webdriver.remote.webelement.WebElement (session=\"ec73ce081f92ddb1aa1ca956a3477cd0\", element=\"c4ed397c-b2d4-4acb-af63-162fb1657669\")>\n",
      "<selenium.webdriver.remote.webelement.WebElement (session=\"ec73ce081f92ddb1aa1ca956a3477cd0\", element=\"25afffe3-d106-4798-96ae-5cb53cf57cf1\")>\n",
      "<selenium.webdriver.remote.webelement.WebElement (session=\"ec73ce081f92ddb1aa1ca956a3477cd0\", element=\"241c955b-bfb9-46c9-970f-bcefcff1f5f8\")>\n",
      "<selenium.webdriver.remote.webelement.WebElement (session=\"ec73ce081f92ddb1aa1ca956a3477cd0\", element=\"9c927be2-24cc-4346-9bcb-893715cb1704\")>\n",
      "<selenium.webdriver.remote.webelement.WebElement (session=\"ec73ce081f92ddb1aa1ca956a3477cd0\", element=\"192d2a2f-9989-441f-a33b-089decab3e6f\")>\n",
      "<selenium.webdriver.remote.webelement.WebElement (session=\"ec73ce081f92ddb1aa1ca956a3477cd0\", element=\"db554c0d-aa23-4645-8a39-533526671af4\")>\n",
      "<selenium.webdriver.remote.webelement.WebElement (session=\"ec73ce081f92ddb1aa1ca956a3477cd0\", element=\"32e614a3-9e54-4552-ad1a-f712a7f07f9e\")>\n",
      "<selenium.webdriver.remote.webelement.WebElement (session=\"ec73ce081f92ddb1aa1ca956a3477cd0\", element=\"ccb207d6-a94b-40a6-ab88-429d9d10d281\")>\n",
      "<selenium.webdriver.remote.webelement.WebElement (session=\"ec73ce081f92ddb1aa1ca956a3477cd0\", element=\"67326c41-494b-4b0b-b7fc-7c014c3cd9e6\")>\n",
      "<selenium.webdriver.remote.webelement.WebElement (session=\"ec73ce081f92ddb1aa1ca956a3477cd0\", element=\"3a5daf18-4339-4592-a0e9-5ad3d19bf579\")>\n",
      "<selenium.webdriver.remote.webelement.WebElement (session=\"ec73ce081f92ddb1aa1ca956a3477cd0\", element=\"2d1731d1-cae0-4134-a845-98b31cc74444\")>\n",
      "<selenium.webdriver.remote.webelement.WebElement (session=\"ec73ce081f92ddb1aa1ca956a3477cd0\", element=\"48d24fb5-21b2-4c7b-bcf9-6811111d066e\")>\n",
      "<selenium.webdriver.remote.webelement.WebElement (session=\"ec73ce081f92ddb1aa1ca956a3477cd0\", element=\"b91892c1-669b-4958-86eb-e6dc34a61d9e\")>\n",
      "<selenium.webdriver.remote.webelement.WebElement (session=\"ec73ce081f92ddb1aa1ca956a3477cd0\", element=\"4c8f6317-dd0f-440b-b3a1-67f63a241635\")>\n",
      "<selenium.webdriver.remote.webelement.WebElement (session=\"ec73ce081f92ddb1aa1ca956a3477cd0\", element=\"1b07b685-83fe-427e-af55-c0192f8682ca\")>\n",
      "<selenium.webdriver.remote.webelement.WebElement (session=\"ec73ce081f92ddb1aa1ca956a3477cd0\", element=\"57fbf0c8-bb8b-4517-8e9e-562b5f68a4d5\")>\n",
      "<selenium.webdriver.remote.webelement.WebElement (session=\"ec73ce081f92ddb1aa1ca956a3477cd0\", element=\"1ff0aa11-5ffe-486f-8210-438c16a48bcd\")>\n",
      "<selenium.webdriver.remote.webelement.WebElement (session=\"ec73ce081f92ddb1aa1ca956a3477cd0\", element=\"4833f0c1-9c02-4976-8114-06b071587017\")>\n",
      "<selenium.webdriver.remote.webelement.WebElement (session=\"ec73ce081f92ddb1aa1ca956a3477cd0\", element=\"dad73a52-f7c2-44a9-abdc-1c1a514bfb46\")>\n",
      "<selenium.webdriver.remote.webelement.WebElement (session=\"ec73ce081f92ddb1aa1ca956a3477cd0\", element=\"1c3e4350-57cb-4787-9652-521c62eb48cf\")>\n",
      "<selenium.webdriver.remote.webelement.WebElement (session=\"ec73ce081f92ddb1aa1ca956a3477cd0\", element=\"5eb7bd85-2cc6-4e58-b507-222326cb3484\")>\n",
      "<selenium.webdriver.remote.webelement.WebElement (session=\"ec73ce081f92ddb1aa1ca956a3477cd0\", element=\"a0b66e54-da35-4338-ae16-3ddb5f396dc6\")>\n",
      "<selenium.webdriver.remote.webelement.WebElement (session=\"ec73ce081f92ddb1aa1ca956a3477cd0\", element=\"1773b1d9-efa6-458e-b031-b1654ecbe419\")>\n",
      "<selenium.webdriver.remote.webelement.WebElement (session=\"ec73ce081f92ddb1aa1ca956a3477cd0\", element=\"01015ece-2d71-49a5-87ef-eec3e232203a\")>\n",
      "<selenium.webdriver.remote.webelement.WebElement (session=\"ec73ce081f92ddb1aa1ca956a3477cd0\", element=\"55997ab7-86ec-48ae-88f6-0df1c2ee07e3\")>\n",
      "<selenium.webdriver.remote.webelement.WebElement (session=\"ec73ce081f92ddb1aa1ca956a3477cd0\", element=\"ffe7e743-7ab0-4df8-b6b0-2f8bf118a4a9\")>\n",
      "<selenium.webdriver.remote.webelement.WebElement (session=\"ec73ce081f92ddb1aa1ca956a3477cd0\", element=\"8392091a-5882-48cd-8034-161be270cb88\")>\n",
      "<selenium.webdriver.remote.webelement.WebElement (session=\"ec73ce081f92ddb1aa1ca956a3477cd0\", element=\"2e6067df-7833-479f-b352-5092f6d1acbf\")>\n",
      "<selenium.webdriver.remote.webelement.WebElement (session=\"ec73ce081f92ddb1aa1ca956a3477cd0\", element=\"17e2e791-80a4-4cc9-980f-9816bbc3b13b\")>\n",
      "<selenium.webdriver.remote.webelement.WebElement (session=\"ec73ce081f92ddb1aa1ca956a3477cd0\", element=\"15913dbb-5bf6-4b91-9ae9-d2c90ed0d38b\")>\n",
      "<selenium.webdriver.remote.webelement.WebElement (session=\"ec73ce081f92ddb1aa1ca956a3477cd0\", element=\"0699a3a4-b885-4518-ac9a-466c985c12a3\")>\n",
      "<selenium.webdriver.remote.webelement.WebElement (session=\"ec73ce081f92ddb1aa1ca956a3477cd0\", element=\"ec53b035-d68c-4298-9425-e6f3283f78e6\")>\n",
      "<selenium.webdriver.remote.webelement.WebElement (session=\"ec73ce081f92ddb1aa1ca956a3477cd0\", element=\"0e5499ef-7640-4388-b61b-fdaffcb80d0c\")>\n",
      "<selenium.webdriver.remote.webelement.WebElement (session=\"ec73ce081f92ddb1aa1ca956a3477cd0\", element=\"de72ff04-440a-4bf6-8c4e-ee13fb295cd9\")>\n",
      "<selenium.webdriver.remote.webelement.WebElement (session=\"ec73ce081f92ddb1aa1ca956a3477cd0\", element=\"82c216fe-b191-4208-bd2d-9907e6395058\")>\n",
      "<selenium.webdriver.remote.webelement.WebElement (session=\"ec73ce081f92ddb1aa1ca956a3477cd0\", element=\"6a8666e1-89db-4972-9296-2a2f3fe2b008\")>\n",
      "<selenium.webdriver.remote.webelement.WebElement (session=\"ec73ce081f92ddb1aa1ca956a3477cd0\", element=\"2f7fe1f7-bfd1-476e-8efa-0074c86cc7e1\")>\n",
      "<selenium.webdriver.remote.webelement.WebElement (session=\"ec73ce081f92ddb1aa1ca956a3477cd0\", element=\"b7685490-81a4-45c1-81c5-e135500ff7de\")>\n",
      "<selenium.webdriver.remote.webelement.WebElement (session=\"ec73ce081f92ddb1aa1ca956a3477cd0\", element=\"a383fab0-fa35-4dfe-a350-a14cc68a2247\")>\n",
      "<selenium.webdriver.remote.webelement.WebElement (session=\"ec73ce081f92ddb1aa1ca956a3477cd0\", element=\"1bcb81b0-357e-40c3-bafa-2f8bfdbbe3c2\")>\n",
      "<selenium.webdriver.remote.webelement.WebElement (session=\"ec73ce081f92ddb1aa1ca956a3477cd0\", element=\"a69c9acb-4329-4d37-85b5-fdcff9cfe577\")>\n",
      "<selenium.webdriver.remote.webelement.WebElement (session=\"ec73ce081f92ddb1aa1ca956a3477cd0\", element=\"969cdede-d091-4ba7-8532-3175672f29e8\")>\n",
      "<selenium.webdriver.remote.webelement.WebElement (session=\"ec73ce081f92ddb1aa1ca956a3477cd0\", element=\"dc6f1331-52d5-4c91-a7a6-1421f4036de0\")>\n",
      "<selenium.webdriver.remote.webelement.WebElement (session=\"ec73ce081f92ddb1aa1ca956a3477cd0\", element=\"076c277d-5320-4675-9a6e-d7b2148c40ce\")>\n",
      "<selenium.webdriver.remote.webelement.WebElement (session=\"ec73ce081f92ddb1aa1ca956a3477cd0\", element=\"b8b9cae5-5632-4d98-a98d-88808d5a8c5c\")>\n",
      "<selenium.webdriver.remote.webelement.WebElement (session=\"ec73ce081f92ddb1aa1ca956a3477cd0\", element=\"34001246-d111-43e6-a8ed-1a77c6124c23\")>\n",
      "<selenium.webdriver.remote.webelement.WebElement (session=\"ec73ce081f92ddb1aa1ca956a3477cd0\", element=\"1c7f2ca7-0fc5-4209-9e97-4bfeb3068574\")>\n",
      "<selenium.webdriver.remote.webelement.WebElement (session=\"ec73ce081f92ddb1aa1ca956a3477cd0\", element=\"87d17504-9be7-43ca-8bd3-ae627071f4a3\")>\n",
      "<selenium.webdriver.remote.webelement.WebElement (session=\"ec73ce081f92ddb1aa1ca956a3477cd0\", element=\"18735247-2524-451f-b8d5-7c420994ef2c\")>\n",
      "<selenium.webdriver.remote.webelement.WebElement (session=\"ec73ce081f92ddb1aa1ca956a3477cd0\", element=\"eb6b1226-608a-4ff3-89af-d4c177d0a449\")>\n",
      "<selenium.webdriver.remote.webelement.WebElement (session=\"ec73ce081f92ddb1aa1ca956a3477cd0\", element=\"98edd821-56b7-43ff-ad72-e18df98fffb9\")>\n",
      "<selenium.webdriver.remote.webelement.WebElement (session=\"ec73ce081f92ddb1aa1ca956a3477cd0\", element=\"8d0ed6a3-cc8e-4001-bbd0-ffb614f9bb5f\")>\n",
      "<selenium.webdriver.remote.webelement.WebElement (session=\"ec73ce081f92ddb1aa1ca956a3477cd0\", element=\"4b0737df-0769-4fe6-8ba1-4b172a6287c1\")>\n",
      "<selenium.webdriver.remote.webelement.WebElement (session=\"ec73ce081f92ddb1aa1ca956a3477cd0\", element=\"6caff423-1fc1-444f-8e01-23ddaa1c504e\")>\n",
      "<selenium.webdriver.remote.webelement.WebElement (session=\"ec73ce081f92ddb1aa1ca956a3477cd0\", element=\"48dbbfcd-ae9b-4230-8b76-eec4aafb3373\")>\n",
      "<selenium.webdriver.remote.webelement.WebElement (session=\"ec73ce081f92ddb1aa1ca956a3477cd0\", element=\"16473511-23d3-4ac2-81df-3bb6847c3c48\")>\n",
      "<selenium.webdriver.remote.webelement.WebElement (session=\"ec73ce081f92ddb1aa1ca956a3477cd0\", element=\"471844d4-4a40-454c-b2c0-9143b5c9d123\")>\n",
      "<selenium.webdriver.remote.webelement.WebElement (session=\"ec73ce081f92ddb1aa1ca956a3477cd0\", element=\"76539edb-55bb-4132-8a58-dd9622b12fc5\")>\n",
      "<selenium.webdriver.remote.webelement.WebElement (session=\"ec73ce081f92ddb1aa1ca956a3477cd0\", element=\"1d088dad-db09-4d4b-907a-3eb15f023ad5\")>\n",
      "<selenium.webdriver.remote.webelement.WebElement (session=\"ec73ce081f92ddb1aa1ca956a3477cd0\", element=\"7cca8d1c-a9c8-47a9-9cfc-cd1447eb7225\")>\n",
      "<selenium.webdriver.remote.webelement.WebElement (session=\"ec73ce081f92ddb1aa1ca956a3477cd0\", element=\"eeb842c9-aced-43d6-a587-e7a6fa6a4e4e\")>\n",
      "<selenium.webdriver.remote.webelement.WebElement (session=\"ec73ce081f92ddb1aa1ca956a3477cd0\", element=\"b9abf6b0-5672-425b-9709-f18d7fe7f6aa\")>\n",
      "<selenium.webdriver.remote.webelement.WebElement (session=\"ec73ce081f92ddb1aa1ca956a3477cd0\", element=\"db7bdbf2-65a1-4be6-b317-8c474a1ceb09\")>\n",
      "<selenium.webdriver.remote.webelement.WebElement (session=\"ec73ce081f92ddb1aa1ca956a3477cd0\", element=\"1b6aeea3-f832-499c-961a-d0edb919eacc\")>\n",
      "<selenium.webdriver.remote.webelement.WebElement (session=\"ec73ce081f92ddb1aa1ca956a3477cd0\", element=\"3efd9a7d-a228-4f43-a4dd-b4b1d88218c9\")>\n",
      "<selenium.webdriver.remote.webelement.WebElement (session=\"ec73ce081f92ddb1aa1ca956a3477cd0\", element=\"d93747dd-95d4-4ddd-845e-a863e39ad5d2\")>\n",
      "<selenium.webdriver.remote.webelement.WebElement (session=\"ec73ce081f92ddb1aa1ca956a3477cd0\", element=\"c62e7ae2-dd7d-4414-b029-39d2626141ba\")>\n",
      "<selenium.webdriver.remote.webelement.WebElement (session=\"ec73ce081f92ddb1aa1ca956a3477cd0\", element=\"4f40062c-dc80-4590-a5dc-b576be408669\")>\n",
      "<selenium.webdriver.remote.webelement.WebElement (session=\"ec73ce081f92ddb1aa1ca956a3477cd0\", element=\"cfd356b8-0fe2-4892-a95c-bcb8e32aedd8\")>\n",
      "<selenium.webdriver.remote.webelement.WebElement (session=\"ec73ce081f92ddb1aa1ca956a3477cd0\", element=\"6ef9d30b-1e87-4169-9481-ea684336e52d\")>\n",
      "<selenium.webdriver.remote.webelement.WebElement (session=\"ec73ce081f92ddb1aa1ca956a3477cd0\", element=\"0f47b142-38aa-4fd4-8992-777f2b0a7a7d\")>\n",
      "<selenium.webdriver.remote.webelement.WebElement (session=\"ec73ce081f92ddb1aa1ca956a3477cd0\", element=\"8974c03e-1673-4692-b357-099cd557285a\")>\n",
      "<selenium.webdriver.remote.webelement.WebElement (session=\"ec73ce081f92ddb1aa1ca956a3477cd0\", element=\"ab737615-5e72-4888-89e5-d9ecdf732fde\")>\n",
      "<selenium.webdriver.remote.webelement.WebElement (session=\"ec73ce081f92ddb1aa1ca956a3477cd0\", element=\"2bfe67c2-9816-4811-bd71-623e24469337\")>\n",
      "<selenium.webdriver.remote.webelement.WebElement (session=\"ec73ce081f92ddb1aa1ca956a3477cd0\", element=\"735838e2-6328-47d4-a141-d43384479949\")>\n",
      "<selenium.webdriver.remote.webelement.WebElement (session=\"ec73ce081f92ddb1aa1ca956a3477cd0\", element=\"3350bcdf-317c-47bc-992a-a58c19d48b76\")>\n",
      "<selenium.webdriver.remote.webelement.WebElement (session=\"ec73ce081f92ddb1aa1ca956a3477cd0\", element=\"6daf3226-9539-4c35-89a6-b51a38ee78f8\")>\n",
      "<selenium.webdriver.remote.webelement.WebElement (session=\"ec73ce081f92ddb1aa1ca956a3477cd0\", element=\"d4cbc46c-d0b7-42bf-89ab-aab6454c3163\")>\n",
      "<selenium.webdriver.remote.webelement.WebElement (session=\"ec73ce081f92ddb1aa1ca956a3477cd0\", element=\"cfa3dd6d-a6ac-4c35-bbd1-ec0c21876c50\")>\n",
      "<selenium.webdriver.remote.webelement.WebElement (session=\"ec73ce081f92ddb1aa1ca956a3477cd0\", element=\"7927f1dd-5b45-42bb-bf85-8aa42554f61b\")>\n",
      "<selenium.webdriver.remote.webelement.WebElement (session=\"ec73ce081f92ddb1aa1ca956a3477cd0\", element=\"fba1694b-7a43-4b93-aa27-7c17e84c4279\")>\n",
      "<selenium.webdriver.remote.webelement.WebElement (session=\"ec73ce081f92ddb1aa1ca956a3477cd0\", element=\"63413ef9-e432-491f-bc60-6fba7dbb84ee\")>\n",
      "<selenium.webdriver.remote.webelement.WebElement (session=\"ec73ce081f92ddb1aa1ca956a3477cd0\", element=\"7b43fbc7-7514-4470-9190-02b7299ef9e7\")>\n",
      "<selenium.webdriver.remote.webelement.WebElement (session=\"ec73ce081f92ddb1aa1ca956a3477cd0\", element=\"047d1af8-cee0-4f49-9e49-62e0e6526212\")>\n",
      "<selenium.webdriver.remote.webelement.WebElement (session=\"ec73ce081f92ddb1aa1ca956a3477cd0\", element=\"6a1107d1-3731-4fa5-b74c-96fca7a0e889\")>\n",
      "<selenium.webdriver.remote.webelement.WebElement (session=\"ec73ce081f92ddb1aa1ca956a3477cd0\", element=\"9aa0db9b-998c-4ec3-8e3b-2c45f5865df6\")>\n",
      "<selenium.webdriver.remote.webelement.WebElement (session=\"ec73ce081f92ddb1aa1ca956a3477cd0\", element=\"1f2cf144-3cc2-4ba6-8604-80a55898f66a\")>\n",
      "<selenium.webdriver.remote.webelement.WebElement (session=\"ec73ce081f92ddb1aa1ca956a3477cd0\", element=\"40ce3d8c-e36d-4fef-8715-58b2f1e8130f\")>\n",
      "<selenium.webdriver.remote.webelement.WebElement (session=\"ec73ce081f92ddb1aa1ca956a3477cd0\", element=\"c3874714-c09e-4398-ab34-1b43a91cb4ea\")>\n",
      "<selenium.webdriver.remote.webelement.WebElement (session=\"ec73ce081f92ddb1aa1ca956a3477cd0\", element=\"4175a351-2904-41ec-a2f7-f27eb37787a7\")>\n",
      "<selenium.webdriver.remote.webelement.WebElement (session=\"ec73ce081f92ddb1aa1ca956a3477cd0\", element=\"648aa32c-cef6-47d1-b469-c7c1dc8fe989\")>\n",
      "<selenium.webdriver.remote.webelement.WebElement (session=\"ec73ce081f92ddb1aa1ca956a3477cd0\", element=\"c9b1ff65-a769-4665-94a2-59521349efe7\")>\n",
      "<selenium.webdriver.remote.webelement.WebElement (session=\"ec73ce081f92ddb1aa1ca956a3477cd0\", element=\"2ab145dd-972e-47f1-95df-233477aa3eee\")>\n",
      "<selenium.webdriver.remote.webelement.WebElement (session=\"ec73ce081f92ddb1aa1ca956a3477cd0\", element=\"03e5be28-a9b1-48d3-8ba3-b9539a5173bc\")>\n",
      "<selenium.webdriver.remote.webelement.WebElement (session=\"ec73ce081f92ddb1aa1ca956a3477cd0\", element=\"179ab049-f07c-41d6-b30c-d00472187af0\")>\n",
      "<selenium.webdriver.remote.webelement.WebElement (session=\"ec73ce081f92ddb1aa1ca956a3477cd0\", element=\"017b94b1-ad37-4c35-8d2f-23b3cc38ba66\")>\n",
      "<selenium.webdriver.remote.webelement.WebElement (session=\"ec73ce081f92ddb1aa1ca956a3477cd0\", element=\"9887fbd0-d43a-4d67-9f34-354ce8c98511\")>\n",
      "<selenium.webdriver.remote.webelement.WebElement (session=\"ec73ce081f92ddb1aa1ca956a3477cd0\", element=\"fd90a16e-3bdc-4e83-9e60-4f819ffa3684\")>\n",
      "<selenium.webdriver.remote.webelement.WebElement (session=\"ec73ce081f92ddb1aa1ca956a3477cd0\", element=\"20da3cc6-a70e-4cc7-a387-898ee7dde4f9\")>\n",
      "<selenium.webdriver.remote.webelement.WebElement (session=\"ec73ce081f92ddb1aa1ca956a3477cd0\", element=\"b1e0d765-6356-4ce9-93cb-b691743d37a8\")>\n",
      "<selenium.webdriver.remote.webelement.WebElement (session=\"ec73ce081f92ddb1aa1ca956a3477cd0\", element=\"ca31c503-ed5f-4b79-af76-d180b2c50007\")>\n",
      "<selenium.webdriver.remote.webelement.WebElement (session=\"ec73ce081f92ddb1aa1ca956a3477cd0\", element=\"870afea1-3a43-4d05-b195-252ec8176020\")>\n",
      "<selenium.webdriver.remote.webelement.WebElement (session=\"ec73ce081f92ddb1aa1ca956a3477cd0\", element=\"a7151f05-ce01-4259-9163-45446c81ff35\")>\n",
      "<selenium.webdriver.remote.webelement.WebElement (session=\"ec73ce081f92ddb1aa1ca956a3477cd0\", element=\"39245188-c7e1-442d-bf23-d6426370b02f\")>\n",
      "<selenium.webdriver.remote.webelement.WebElement (session=\"ec73ce081f92ddb1aa1ca956a3477cd0\", element=\"cedeb4f0-4803-42cc-aa71-c797483676cc\")>\n",
      "<selenium.webdriver.remote.webelement.WebElement (session=\"ec73ce081f92ddb1aa1ca956a3477cd0\", element=\"30fcae26-91f6-4e21-9635-add20f8573ce\")>\n",
      "<selenium.webdriver.remote.webelement.WebElement (session=\"ec73ce081f92ddb1aa1ca956a3477cd0\", element=\"0ea2aa24-3ca3-4698-9e6e-03c645b5ed2a\")>\n",
      "<selenium.webdriver.remote.webelement.WebElement (session=\"ec73ce081f92ddb1aa1ca956a3477cd0\", element=\"640b5274-beca-470a-9ca7-f83d75edad88\")>\n",
      "<selenium.webdriver.remote.webelement.WebElement (session=\"ec73ce081f92ddb1aa1ca956a3477cd0\", element=\"8c1261eb-f174-4884-b186-d0b92512da90\")>\n",
      "<selenium.webdriver.remote.webelement.WebElement (session=\"ec73ce081f92ddb1aa1ca956a3477cd0\", element=\"ce939540-e1ef-4799-8eb6-c24acce15978\")>\n",
      "<selenium.webdriver.remote.webelement.WebElement (session=\"ec73ce081f92ddb1aa1ca956a3477cd0\", element=\"28552584-54a0-4fda-bf77-145505ca7b19\")>\n",
      "<selenium.webdriver.remote.webelement.WebElement (session=\"ec73ce081f92ddb1aa1ca956a3477cd0\", element=\"fae105c4-d0b8-4ef7-af4b-6a75003f1ce3\")>\n",
      "<selenium.webdriver.remote.webelement.WebElement (session=\"ec73ce081f92ddb1aa1ca956a3477cd0\", element=\"0b7cd4a6-1531-4a0d-8772-4155681ce1a9\")>\n",
      "<selenium.webdriver.remote.webelement.WebElement (session=\"ec73ce081f92ddb1aa1ca956a3477cd0\", element=\"8657fc57-0c02-479b-8030-9c842fcfd155\")>\n",
      "<selenium.webdriver.remote.webelement.WebElement (session=\"ec73ce081f92ddb1aa1ca956a3477cd0\", element=\"587a8763-d65e-41f8-a551-c07cdc1e4b95\")>\n",
      "<selenium.webdriver.remote.webelement.WebElement (session=\"ec73ce081f92ddb1aa1ca956a3477cd0\", element=\"3a1310cf-278f-4486-878f-124c432f8ace\")>\n",
      "<selenium.webdriver.remote.webelement.WebElement (session=\"ec73ce081f92ddb1aa1ca956a3477cd0\", element=\"bd6af06c-edec-4a59-a30e-ba62209c496b\")>\n",
      "<selenium.webdriver.remote.webelement.WebElement (session=\"ec73ce081f92ddb1aa1ca956a3477cd0\", element=\"162cd000-2c33-42a1-878d-9b8afac5508b\")>\n",
      "<selenium.webdriver.remote.webelement.WebElement (session=\"ec73ce081f92ddb1aa1ca956a3477cd0\", element=\"e492d2e7-3427-4879-8b93-622c657826ca\")>\n",
      "<selenium.webdriver.remote.webelement.WebElement (session=\"ec73ce081f92ddb1aa1ca956a3477cd0\", element=\"da7e32b9-b020-4944-9181-98076b22aef4\")>\n",
      "<selenium.webdriver.remote.webelement.WebElement (session=\"ec73ce081f92ddb1aa1ca956a3477cd0\", element=\"8c61a950-fece-44db-af4f-3d8a9ed43ff7\")>\n",
      "<selenium.webdriver.remote.webelement.WebElement (session=\"ec73ce081f92ddb1aa1ca956a3477cd0\", element=\"4c570ac1-e0e7-417f-a45e-7d93f796d128\")>\n",
      "<selenium.webdriver.remote.webelement.WebElement (session=\"ec73ce081f92ddb1aa1ca956a3477cd0\", element=\"c8073ede-f1f5-4ce2-999a-249aee2e4da6\")>\n",
      "<selenium.webdriver.remote.webelement.WebElement (session=\"ec73ce081f92ddb1aa1ca956a3477cd0\", element=\"0c75beac-d140-481a-919c-01382da8f726\")>\n",
      "<selenium.webdriver.remote.webelement.WebElement (session=\"ec73ce081f92ddb1aa1ca956a3477cd0\", element=\"ebb7f8b4-9e0f-48d5-88ad-3d3489d28a3c\")>\n",
      "<selenium.webdriver.remote.webelement.WebElement (session=\"ec73ce081f92ddb1aa1ca956a3477cd0\", element=\"3cf213ca-0948-410a-8447-5f60411cf979\")>\n",
      "<selenium.webdriver.remote.webelement.WebElement (session=\"ec73ce081f92ddb1aa1ca956a3477cd0\", element=\"71ccede6-5cfe-4488-a412-dc9ac75cfa22\")>\n",
      "<selenium.webdriver.remote.webelement.WebElement (session=\"ec73ce081f92ddb1aa1ca956a3477cd0\", element=\"29221056-c50c-4a83-a1c3-ca6e1a542ab5\")>\n",
      "<selenium.webdriver.remote.webelement.WebElement (session=\"ec73ce081f92ddb1aa1ca956a3477cd0\", element=\"c3994fbb-9216-4b56-8381-76052b319b9e\")>\n",
      "<selenium.webdriver.remote.webelement.WebElement (session=\"ec73ce081f92ddb1aa1ca956a3477cd0\", element=\"b9eeb425-409b-4ded-91ce-9f3d14da9add\")>\n",
      "<selenium.webdriver.remote.webelement.WebElement (session=\"ec73ce081f92ddb1aa1ca956a3477cd0\", element=\"f0d77f06-3395-445c-b600-a09eb511f867\")>\n",
      "<selenium.webdriver.remote.webelement.WebElement (session=\"ec73ce081f92ddb1aa1ca956a3477cd0\", element=\"1e59d1cc-0f0d-4a2d-bdd8-668e5ff6c633\")>\n",
      "<selenium.webdriver.remote.webelement.WebElement (session=\"ec73ce081f92ddb1aa1ca956a3477cd0\", element=\"ffaeabfa-affe-4e38-bb1b-3a398a66bc5b\")>\n",
      "<selenium.webdriver.remote.webelement.WebElement (session=\"ec73ce081f92ddb1aa1ca956a3477cd0\", element=\"86a85a9e-95e0-4d9b-90a2-937dc4538cba\")>\n",
      "<selenium.webdriver.remote.webelement.WebElement (session=\"ec73ce081f92ddb1aa1ca956a3477cd0\", element=\"a9089f52-e3ab-4d66-a9a6-043ed7e39126\")>\n",
      "<selenium.webdriver.remote.webelement.WebElement (session=\"ec73ce081f92ddb1aa1ca956a3477cd0\", element=\"8d7bba02-f818-47b5-9a17-95a2730d0469\")>\n",
      "<selenium.webdriver.remote.webelement.WebElement (session=\"ec73ce081f92ddb1aa1ca956a3477cd0\", element=\"b87f45db-5efe-4b8e-8d06-1d5071d2a7ed\")>\n",
      "<selenium.webdriver.remote.webelement.WebElement (session=\"ec73ce081f92ddb1aa1ca956a3477cd0\", element=\"da10e6a1-070d-445a-b3ca-191f4ea5bd3a\")>\n",
      "<selenium.webdriver.remote.webelement.WebElement (session=\"ec73ce081f92ddb1aa1ca956a3477cd0\", element=\"f3b91f13-6675-4a99-b53c-7040cf5dfd4f\")>\n",
      "<selenium.webdriver.remote.webelement.WebElement (session=\"ec73ce081f92ddb1aa1ca956a3477cd0\", element=\"465590d9-0487-491d-b0e2-819ccd4bd1ac\")>\n",
      "<selenium.webdriver.remote.webelement.WebElement (session=\"ec73ce081f92ddb1aa1ca956a3477cd0\", element=\"df799a41-1467-438f-aebc-ab0208e73301\")>\n",
      "<selenium.webdriver.remote.webelement.WebElement (session=\"ec73ce081f92ddb1aa1ca956a3477cd0\", element=\"cbe8a878-7397-445f-9444-b0a285ebb294\")>\n",
      "<selenium.webdriver.remote.webelement.WebElement (session=\"ec73ce081f92ddb1aa1ca956a3477cd0\", element=\"6b4bf195-f984-4605-bb22-6f6468470081\")>\n",
      "<selenium.webdriver.remote.webelement.WebElement (session=\"ec73ce081f92ddb1aa1ca956a3477cd0\", element=\"d88472f9-c605-4fe6-9567-ca25128c1e8d\")>\n",
      "<selenium.webdriver.remote.webelement.WebElement (session=\"ec73ce081f92ddb1aa1ca956a3477cd0\", element=\"88738682-34ea-4b12-8813-3c31e0e30879\")>\n",
      "<selenium.webdriver.remote.webelement.WebElement (session=\"ec73ce081f92ddb1aa1ca956a3477cd0\", element=\"b6051213-8305-461f-bd8e-8e33ed531f12\")>\n",
      "<selenium.webdriver.remote.webelement.WebElement (session=\"ec73ce081f92ddb1aa1ca956a3477cd0\", element=\"94bd445b-b016-40cc-8b84-1858ebe0bf02\")>\n",
      "<selenium.webdriver.remote.webelement.WebElement (session=\"ec73ce081f92ddb1aa1ca956a3477cd0\", element=\"066cf676-700e-45bd-9317-21e53afc03e8\")>\n",
      "<selenium.webdriver.remote.webelement.WebElement (session=\"ec73ce081f92ddb1aa1ca956a3477cd0\", element=\"2083b3be-dae4-4a3b-950a-b26316a018d8\")>\n",
      "<selenium.webdriver.remote.webelement.WebElement (session=\"ec73ce081f92ddb1aa1ca956a3477cd0\", element=\"f2db1529-e7c3-42f0-a271-8a5079f0b533\")>\n",
      "<selenium.webdriver.remote.webelement.WebElement (session=\"ec73ce081f92ddb1aa1ca956a3477cd0\", element=\"01d2dffe-8e02-44b6-8a06-e02747aef67f\")>\n",
      "<selenium.webdriver.remote.webelement.WebElement (session=\"ec73ce081f92ddb1aa1ca956a3477cd0\", element=\"9ef4a305-2deb-4547-ad83-e4e40cc6aa0c\")>\n",
      "<selenium.webdriver.remote.webelement.WebElement (session=\"ec73ce081f92ddb1aa1ca956a3477cd0\", element=\"3e6627a0-03fb-4ee1-a359-c0661425b4ce\")>\n",
      "<selenium.webdriver.remote.webelement.WebElement (session=\"ec73ce081f92ddb1aa1ca956a3477cd0\", element=\"36d073ef-ad7c-4f13-b059-fc008448464d\")>\n",
      "<selenium.webdriver.remote.webelement.WebElement (session=\"ec73ce081f92ddb1aa1ca956a3477cd0\", element=\"cf8aecec-086c-438f-b745-74663b0de7ae\")>\n",
      "<selenium.webdriver.remote.webelement.WebElement (session=\"ec73ce081f92ddb1aa1ca956a3477cd0\", element=\"14cdc23f-8096-428e-a6c1-0c3a8d0030f3\")>\n",
      "<selenium.webdriver.remote.webelement.WebElement (session=\"ec73ce081f92ddb1aa1ca956a3477cd0\", element=\"a42c310e-f7d0-45c2-9526-4f7e64d7df26\")>\n",
      "<selenium.webdriver.remote.webelement.WebElement (session=\"ec73ce081f92ddb1aa1ca956a3477cd0\", element=\"4c0e6310-0f39-44c2-b027-11b3e7279229\")>\n",
      "<selenium.webdriver.remote.webelement.WebElement (session=\"ec73ce081f92ddb1aa1ca956a3477cd0\", element=\"2e319398-4e2c-4926-8b43-aa4122b54adf\")>\n",
      "<selenium.webdriver.remote.webelement.WebElement (session=\"ec73ce081f92ddb1aa1ca956a3477cd0\", element=\"bcbac2eb-fabe-4c11-ade1-3d9b75b59451\")>\n",
      "<selenium.webdriver.remote.webelement.WebElement (session=\"ec73ce081f92ddb1aa1ca956a3477cd0\", element=\"b8279ca4-497b-49da-97f2-e700027d051e\")>\n",
      "<selenium.webdriver.remote.webelement.WebElement (session=\"ec73ce081f92ddb1aa1ca956a3477cd0\", element=\"3be1ab21-262c-4a96-b9af-48ce64701857\")>\n",
      "<selenium.webdriver.remote.webelement.WebElement (session=\"ec73ce081f92ddb1aa1ca956a3477cd0\", element=\"989b4f03-7b3f-492f-945a-ecff3a6b57b9\")>\n",
      "<selenium.webdriver.remote.webelement.WebElement (session=\"ec73ce081f92ddb1aa1ca956a3477cd0\", element=\"5585d936-3a43-4c7e-888a-b4f233253e31\")>\n",
      "<selenium.webdriver.remote.webelement.WebElement (session=\"ec73ce081f92ddb1aa1ca956a3477cd0\", element=\"e6ca639d-f89a-4617-aae2-adaa985849ae\")>\n",
      "<selenium.webdriver.remote.webelement.WebElement (session=\"ec73ce081f92ddb1aa1ca956a3477cd0\", element=\"f88b2474-4b0d-47e5-8463-999f6c4d4d33\")>\n",
      "<selenium.webdriver.remote.webelement.WebElement (session=\"ec73ce081f92ddb1aa1ca956a3477cd0\", element=\"57148832-0b6f-436e-bd32-d3e3b8ad0302\")>\n",
      "<selenium.webdriver.remote.webelement.WebElement (session=\"ec73ce081f92ddb1aa1ca956a3477cd0\", element=\"8d05fe76-4415-41aa-a085-f509f0b2f42a\")>\n",
      "<selenium.webdriver.remote.webelement.WebElement (session=\"ec73ce081f92ddb1aa1ca956a3477cd0\", element=\"2a77a7c8-5b79-4b9c-83ba-84dfc5f3d48f\")>\n",
      "<selenium.webdriver.remote.webelement.WebElement (session=\"ec73ce081f92ddb1aa1ca956a3477cd0\", element=\"e267ba61-3f6b-4b3f-9010-73c1ed247ed9\")>\n",
      "<selenium.webdriver.remote.webelement.WebElement (session=\"ec73ce081f92ddb1aa1ca956a3477cd0\", element=\"4ba6dd7d-f65e-47a8-b80b-ea8aba5030d5\")>\n",
      "<selenium.webdriver.remote.webelement.WebElement (session=\"ec73ce081f92ddb1aa1ca956a3477cd0\", element=\"805f5f2f-fb76-417d-ac56-73cb373fe1d2\")>\n",
      "<selenium.webdriver.remote.webelement.WebElement (session=\"ec73ce081f92ddb1aa1ca956a3477cd0\", element=\"1c88c99e-7096-4f16-8e8a-0eac8874eef4\")>\n",
      "<selenium.webdriver.remote.webelement.WebElement (session=\"ec73ce081f92ddb1aa1ca956a3477cd0\", element=\"46864664-a93c-4585-9657-70b0ad6ff067\")>\n",
      "<selenium.webdriver.remote.webelement.WebElement (session=\"ec73ce081f92ddb1aa1ca956a3477cd0\", element=\"26167b9e-4a88-4664-ba2c-36bed99b9ade\")>\n",
      "<selenium.webdriver.remote.webelement.WebElement (session=\"ec73ce081f92ddb1aa1ca956a3477cd0\", element=\"0206c284-ae5a-4570-be04-c328ec81806a\")>\n",
      "<selenium.webdriver.remote.webelement.WebElement (session=\"ec73ce081f92ddb1aa1ca956a3477cd0\", element=\"edc523fc-9dd7-49a9-bf3a-9c6bfa6fa86d\")>\n",
      "<selenium.webdriver.remote.webelement.WebElement (session=\"ec73ce081f92ddb1aa1ca956a3477cd0\", element=\"f20c4a68-f130-4dc3-b769-b67fd3c22b35\")>\n",
      "<selenium.webdriver.remote.webelement.WebElement (session=\"ec73ce081f92ddb1aa1ca956a3477cd0\", element=\"bc0b6957-b131-4e0e-9d6b-7b50dc70fdd4\")>\n",
      "<selenium.webdriver.remote.webelement.WebElement (session=\"ec73ce081f92ddb1aa1ca956a3477cd0\", element=\"3bee0ed5-6af6-4d8d-a058-aad1e25a6a01\")>\n",
      "<selenium.webdriver.remote.webelement.WebElement (session=\"ec73ce081f92ddb1aa1ca956a3477cd0\", element=\"1cd362f4-fbca-446c-837c-75f9389beb67\")>\n",
      "<selenium.webdriver.remote.webelement.WebElement (session=\"ec73ce081f92ddb1aa1ca956a3477cd0\", element=\"6d0815f6-e734-4816-a77b-2179cef69d33\")>\n",
      "<selenium.webdriver.remote.webelement.WebElement (session=\"ec73ce081f92ddb1aa1ca956a3477cd0\", element=\"61b8a860-a8ed-45da-8e46-a298890efefc\")>\n",
      "<selenium.webdriver.remote.webelement.WebElement (session=\"ec73ce081f92ddb1aa1ca956a3477cd0\", element=\"0aac3be0-36d4-4e26-abfb-f93061bb5ff9\")>\n",
      "<selenium.webdriver.remote.webelement.WebElement (session=\"ec73ce081f92ddb1aa1ca956a3477cd0\", element=\"2c819009-334c-4cbe-9e16-140f267068f4\")>\n",
      "<selenium.webdriver.remote.webelement.WebElement (session=\"ec73ce081f92ddb1aa1ca956a3477cd0\", element=\"047c4f24-8c00-41e2-a21e-2d75689dd770\")>\n",
      "<selenium.webdriver.remote.webelement.WebElement (session=\"ec73ce081f92ddb1aa1ca956a3477cd0\", element=\"6d8016d5-644b-4635-9c33-08c3850cfc3a\")>\n",
      "<selenium.webdriver.remote.webelement.WebElement (session=\"ec73ce081f92ddb1aa1ca956a3477cd0\", element=\"a0f76f73-f655-494b-98a5-8e0b1f4794c4\")>\n",
      "<selenium.webdriver.remote.webelement.WebElement (session=\"ec73ce081f92ddb1aa1ca956a3477cd0\", element=\"d2f2c4c7-51c8-4fc3-a6d6-a0eced64d6f4\")>\n",
      "<selenium.webdriver.remote.webelement.WebElement (session=\"ec73ce081f92ddb1aa1ca956a3477cd0\", element=\"3da93d60-f6a7-4ad0-a089-6e835fcd7e77\")>\n",
      "<selenium.webdriver.remote.webelement.WebElement (session=\"ec73ce081f92ddb1aa1ca956a3477cd0\", element=\"36b39956-f145-4afd-bf25-778c42456c3f\")>\n",
      "<selenium.webdriver.remote.webelement.WebElement (session=\"ec73ce081f92ddb1aa1ca956a3477cd0\", element=\"9f7a4962-a9b6-4a67-b51d-ff4f1db13117\")>\n",
      "<selenium.webdriver.remote.webelement.WebElement (session=\"ec73ce081f92ddb1aa1ca956a3477cd0\", element=\"4ea19d5a-bf45-414e-ace2-c70d424253c9\")>\n",
      "<selenium.webdriver.remote.webelement.WebElement (session=\"ec73ce081f92ddb1aa1ca956a3477cd0\", element=\"c723a432-bd43-494b-ad2d-6bb4c9bc1109\")>\n",
      "<selenium.webdriver.remote.webelement.WebElement (session=\"ec73ce081f92ddb1aa1ca956a3477cd0\", element=\"bf267383-689f-4837-a1a8-daea533eb78c\")>\n",
      "<selenium.webdriver.remote.webelement.WebElement (session=\"ec73ce081f92ddb1aa1ca956a3477cd0\", element=\"6fadd9cf-1828-4b0e-b55b-0e89832370b3\")>\n",
      "<selenium.webdriver.remote.webelement.WebElement (session=\"ec73ce081f92ddb1aa1ca956a3477cd0\", element=\"1c4be7d1-b023-4c65-b1a1-9e24f1eec50d\")>\n",
      "<selenium.webdriver.remote.webelement.WebElement (session=\"ec73ce081f92ddb1aa1ca956a3477cd0\", element=\"103f4f31-a41b-42d1-93c3-a8ec1a49da1b\")>\n",
      "<selenium.webdriver.remote.webelement.WebElement (session=\"ec73ce081f92ddb1aa1ca956a3477cd0\", element=\"580006c8-bb93-4253-afc0-9b4a349837c6\")>\n",
      "<selenium.webdriver.remote.webelement.WebElement (session=\"ec73ce081f92ddb1aa1ca956a3477cd0\", element=\"8c65d915-a814-46ad-b911-d56399480ea8\")>\n",
      "<selenium.webdriver.remote.webelement.WebElement (session=\"ec73ce081f92ddb1aa1ca956a3477cd0\", element=\"3efc9082-7fbd-4be9-828d-2c0e32e56adf\")>\n",
      "<selenium.webdriver.remote.webelement.WebElement (session=\"ec73ce081f92ddb1aa1ca956a3477cd0\", element=\"9caf356f-5462-48d2-941d-c11fd43e7b43\")>\n",
      "<selenium.webdriver.remote.webelement.WebElement (session=\"ec73ce081f92ddb1aa1ca956a3477cd0\", element=\"5ebcf9ee-859b-4d6d-aa19-1ec1ed7ba7c7\")>\n",
      "<selenium.webdriver.remote.webelement.WebElement (session=\"ec73ce081f92ddb1aa1ca956a3477cd0\", element=\"ea1bc975-2d30-499e-a03b-03857f04310a\")>\n",
      "<selenium.webdriver.remote.webelement.WebElement (session=\"ec73ce081f92ddb1aa1ca956a3477cd0\", element=\"af41ec40-eed3-495a-b890-e7e8f2b93e1f\")>\n",
      "<selenium.webdriver.remote.webelement.WebElement (session=\"ec73ce081f92ddb1aa1ca956a3477cd0\", element=\"8251f43b-6831-4e1b-9976-b1e52490c3f9\")>\n",
      "<selenium.webdriver.remote.webelement.WebElement (session=\"ec73ce081f92ddb1aa1ca956a3477cd0\", element=\"c86acb73-81ef-4400-831a-b7f146b4849e\")>\n",
      "<selenium.webdriver.remote.webelement.WebElement (session=\"ec73ce081f92ddb1aa1ca956a3477cd0\", element=\"79fe81bc-75f7-4443-9445-46467d7b4141\")>\n",
      "<selenium.webdriver.remote.webelement.WebElement (session=\"ec73ce081f92ddb1aa1ca956a3477cd0\", element=\"095eb7e3-2a23-4332-99f1-3ece6608b1e2\")>\n",
      "<selenium.webdriver.remote.webelement.WebElement (session=\"ec73ce081f92ddb1aa1ca956a3477cd0\", element=\"1b53effb-3573-40ac-af42-c5ea972bb84a\")>\n",
      "<selenium.webdriver.remote.webelement.WebElement (session=\"ec73ce081f92ddb1aa1ca956a3477cd0\", element=\"caaef0fa-b3b8-4cc0-a57c-c0c897b1609f\")>\n",
      "<selenium.webdriver.remote.webelement.WebElement (session=\"ec73ce081f92ddb1aa1ca956a3477cd0\", element=\"ea109468-676c-419e-bd23-1dab17f9baef\")>\n",
      "<selenium.webdriver.remote.webelement.WebElement (session=\"ec73ce081f92ddb1aa1ca956a3477cd0\", element=\"fb4ff6fc-9bea-432f-bce2-76d4eb6d1611\")>\n",
      "<selenium.webdriver.remote.webelement.WebElement (session=\"ec73ce081f92ddb1aa1ca956a3477cd0\", element=\"0afb5645-df43-48eb-84a2-f08bccf56701\")>\n",
      "<selenium.webdriver.remote.webelement.WebElement (session=\"ec73ce081f92ddb1aa1ca956a3477cd0\", element=\"e08a2349-8dee-4956-8afe-c3afa327c99a\")>\n",
      "<selenium.webdriver.remote.webelement.WebElement (session=\"ec73ce081f92ddb1aa1ca956a3477cd0\", element=\"f33f16c5-4db2-4f3a-8436-d17a959d742d\")>\n",
      "<selenium.webdriver.remote.webelement.WebElement (session=\"ec73ce081f92ddb1aa1ca956a3477cd0\", element=\"4c336c86-ebad-478a-95eb-dc7e44ed24fd\")>\n",
      "<selenium.webdriver.remote.webelement.WebElement (session=\"ec73ce081f92ddb1aa1ca956a3477cd0\", element=\"ec3dff3d-76ab-4ada-a0b4-e71bf12cd484\")>\n",
      "<selenium.webdriver.remote.webelement.WebElement (session=\"ec73ce081f92ddb1aa1ca956a3477cd0\", element=\"31ee60fe-b989-4909-bea1-e433478442e6\")>\n",
      "<selenium.webdriver.remote.webelement.WebElement (session=\"ec73ce081f92ddb1aa1ca956a3477cd0\", element=\"157238ac-46f0-4ba7-accd-7930e581ba61\")>\n",
      "<selenium.webdriver.remote.webelement.WebElement (session=\"ec73ce081f92ddb1aa1ca956a3477cd0\", element=\"da76a501-baf6-48a1-8b44-964cfa8acfe5\")>\n",
      "<selenium.webdriver.remote.webelement.WebElement (session=\"ec73ce081f92ddb1aa1ca956a3477cd0\", element=\"1182b92b-39de-41af-a717-d28ae46efa09\")>\n",
      "<selenium.webdriver.remote.webelement.WebElement (session=\"ec73ce081f92ddb1aa1ca956a3477cd0\", element=\"d62f3949-d372-4c6a-a990-32dc54ec37ca\")>\n",
      "<selenium.webdriver.remote.webelement.WebElement (session=\"ec73ce081f92ddb1aa1ca956a3477cd0\", element=\"eea9e02d-45d1-447f-a216-b492377381d6\")>\n",
      "<selenium.webdriver.remote.webelement.WebElement (session=\"ec73ce081f92ddb1aa1ca956a3477cd0\", element=\"d68bdc66-e3b9-4bc4-a0db-d9c7dcce64fe\")>\n",
      "<selenium.webdriver.remote.webelement.WebElement (session=\"ec73ce081f92ddb1aa1ca956a3477cd0\", element=\"a150a8dd-9690-4675-b414-dc14cb60e39d\")>\n"
     ]
    }
   ],
   "metadata": {}
  },
  {
   "cell_type": "code",
   "execution_count": 4,
   "source": [
    "driver.close()"
   ],
   "outputs": [],
   "metadata": {}
  }
 ],
 "metadata": {
  "orig_nbformat": 4,
  "language_info": {
   "name": "python",
   "version": "3.8.10",
   "mimetype": "text/x-python",
   "codemirror_mode": {
    "name": "ipython",
    "version": 3
   },
   "pygments_lexer": "ipython3",
   "nbconvert_exporter": "python",
   "file_extension": ".py"
  },
  "kernelspec": {
   "name": "python3",
   "display_name": "Python 3.8.10 64-bit ('btfsop': conda)"
  },
  "interpreter": {
   "hash": "795bef2181d8c1d673d637ebabbfa46c3363c718d3652ae25a9a4fec543c87a1"
  }
 },
 "nbformat": 4,
 "nbformat_minor": 2
}
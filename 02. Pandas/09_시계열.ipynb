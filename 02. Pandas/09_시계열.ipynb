{
 "cells": [
  {
   "cell_type": "markdown",
   "source": [
    "## 시계열 자료 다루기"
   ],
   "metadata": {}
  },
  {
   "cell_type": "code",
   "execution_count": 1,
   "source": [
    "import numpy as np\r\n",
    "import pandas as pd\r\n"
   ],
   "outputs": [],
   "metadata": {}
  },
  {
   "cell_type": "markdown",
   "source": [
    "### DatetimeIndex 인덱스"
   ],
   "metadata": {}
  },
  {
   "cell_type": "code",
   "execution_count": 6,
   "source": [
    "date_str = [\"2021, 8, 12\",\"2021-8-12\",\"20210812\",\"2021.8.12\",\"081221\",\"8/12/21\"]\r\n",
    "idx = pd.to_datetime(date_str)\r\n",
    "idx"
   ],
   "outputs": [
    {
     "output_type": "execute_result",
     "data": {
      "text/plain": [
       "DatetimeIndex(['2021-08-12', '2021-08-12', '2021-08-12', '2021-08-12',\n",
       "               '2021-08-12', '2021-08-12'],\n",
       "              dtype='datetime64[ns]', freq=None)"
      ]
     },
     "metadata": {},
     "execution_count": 6
    }
   ],
   "metadata": {}
  },
  {
   "cell_type": "code",
   "execution_count": 7,
   "source": [
    "date_str = [\"2021, 8, 10\",\"2021-8-11\",\"20210812\",\"2021.8.13\",\"081421\",\"8/15/21\"]\r\n",
    "idx = pd.to_datetime(date_str)\r\n",
    "idx"
   ],
   "outputs": [
    {
     "output_type": "execute_result",
     "data": {
      "text/plain": [
       "DatetimeIndex(['2021-08-10', '2021-08-11', '2021-08-12', '2021-08-13',\n",
       "               '2021-08-14', '2021-08-15'],\n",
       "              dtype='datetime64[ns]', freq=None)"
      ]
     },
     "metadata": {},
     "execution_count": 7
    }
   ],
   "metadata": {}
  },
  {
   "cell_type": "code",
   "execution_count": 8,
   "source": [
    "np.random.seed(2021)\r\n",
    "s = pd.Series(np.random.rand(6), index=idx)\r\n",
    "s"
   ],
   "outputs": [
    {
     "output_type": "execute_result",
     "data": {
      "text/plain": [
       "2021-08-10    0.605978\n",
       "2021-08-11    0.733369\n",
       "2021-08-12    0.138947\n",
       "2021-08-13    0.312673\n",
       "2021-08-14    0.997243\n",
       "2021-08-15    0.128162\n",
       "dtype: float64"
      ]
     },
     "metadata": {},
     "execution_count": 8
    }
   ],
   "metadata": {}
  },
  {
   "cell_type": "code",
   "execution_count": 9,
   "source": [
    "pd.date_range(\"20210801\",\"2021-08-31\")"
   ],
   "outputs": [
    {
     "output_type": "execute_result",
     "data": {
      "text/plain": [
       "DatetimeIndex(['2021-08-01', '2021-08-02', '2021-08-03', '2021-08-04',\n",
       "               '2021-08-05', '2021-08-06', '2021-08-07', '2021-08-08',\n",
       "               '2021-08-09', '2021-08-10', '2021-08-11', '2021-08-12',\n",
       "               '2021-08-13', '2021-08-14', '2021-08-15', '2021-08-16',\n",
       "               '2021-08-17', '2021-08-18', '2021-08-19', '2021-08-20',\n",
       "               '2021-08-21', '2021-08-22', '2021-08-23', '2021-08-24',\n",
       "               '2021-08-25', '2021-08-26', '2021-08-27', '2021-08-28',\n",
       "               '2021-08-29', '2021-08-30', '2021-08-31'],\n",
       "              dtype='datetime64[ns]', freq='D')"
      ]
     },
     "metadata": {},
     "execution_count": 9
    }
   ],
   "metadata": {}
  },
  {
   "cell_type": "code",
   "execution_count": 10,
   "source": [
    "pd.date_range(\"20210801\",periods=31)"
   ],
   "outputs": [
    {
     "output_type": "execute_result",
     "data": {
      "text/plain": [
       "DatetimeIndex(['2021-08-01', '2021-08-02', '2021-08-03', '2021-08-04',\n",
       "               '2021-08-05', '2021-08-06', '2021-08-07', '2021-08-08',\n",
       "               '2021-08-09', '2021-08-10', '2021-08-11', '2021-08-12',\n",
       "               '2021-08-13', '2021-08-14', '2021-08-15', '2021-08-16',\n",
       "               '2021-08-17', '2021-08-18', '2021-08-19', '2021-08-20',\n",
       "               '2021-08-21', '2021-08-22', '2021-08-23', '2021-08-24',\n",
       "               '2021-08-25', '2021-08-26', '2021-08-27', '2021-08-28',\n",
       "               '2021-08-29', '2021-08-30', '2021-08-31'],\n",
       "              dtype='datetime64[ns]', freq='D')"
      ]
     },
     "metadata": {},
     "execution_count": 10
    }
   ],
   "metadata": {}
  },
  {
   "cell_type": "markdown",
   "source": [
    "freq 인수값은 다음과 같다.\r\n",
    "\r\n",
    "s: 초\r\n",
    "\r\n",
    "T: 분\r\n",
    "\r\n",
    "H: 시간\r\n",
    "\r\n",
    "D: 일(day)\r\n",
    "\r\n",
    "B: 주말이 아닌 평일\r\n",
    "\r\n",
    "W: 주(일요일)\r\n",
    "\r\n",
    "W-MON: 주(월요일)\r\n",
    "\r\n",
    "M: 각 달(month)의 마지막 날\r\n",
    "\r\n",
    "MS: 각 달의 첫날\r\n",
    "\r\n",
    "BM: 주말이 아닌 평일 중에서 각 달의 마지막 날\r\n",
    "\r\n",
    "BMS: 주말이 아닌 평일 중에서 각 달의 첫날\r\n",
    "\r\n",
    "WOM-2THU: 각 달의 두번째 목요일\r\n",
    "\r\n",
    "Q-JAN: 각 분기의 첫달의 마지막 날\r\n",
    "\r\n",
    "Q-DEC: 각 분기의 마지막 달의 마지막 날"
   ],
   "metadata": {}
  },
  {
   "cell_type": "code",
   "execution_count": 14,
   "source": [
    "# 근무일만 뽑기(biz-day)\r\n",
    "pd.date_range(\"2021-08-01\",\"2021-08-31\",freq=\"B\")"
   ],
   "outputs": [
    {
     "output_type": "execute_result",
     "data": {
      "text/plain": [
       "DatetimeIndex(['2021-08-02', '2021-08-03', '2021-08-04', '2021-08-05',\n",
       "               '2021-08-06', '2021-08-09', '2021-08-10', '2021-08-11',\n",
       "               '2021-08-12', '2021-08-13', '2021-08-16', '2021-08-17',\n",
       "               '2021-08-18', '2021-08-19', '2021-08-20', '2021-08-23',\n",
       "               '2021-08-24', '2021-08-25', '2021-08-26', '2021-08-27',\n",
       "               '2021-08-30', '2021-08-31'],\n",
       "              dtype='datetime64[ns]', freq='B')"
      ]
     },
     "metadata": {},
     "execution_count": 14
    }
   ],
   "metadata": {}
  },
  {
   "cell_type": "code",
   "execution_count": 15,
   "source": [
    "# 일요일만 뽑기(W)\r\n",
    "pd.date_range(\"2021-08-01\",\"2021-08-31\",freq=\"W\")"
   ],
   "outputs": [
    {
     "output_type": "execute_result",
     "data": {
      "text/plain": [
       "DatetimeIndex(['2021-08-01', '2021-08-08', '2021-08-15', '2021-08-22',\n",
       "               '2021-08-29'],\n",
       "              dtype='datetime64[ns]', freq='W-SUN')"
      ]
     },
     "metadata": {},
     "execution_count": 15
    }
   ],
   "metadata": {}
  },
  {
   "cell_type": "markdown",
   "source": [
    "### resample 연산"
   ],
   "metadata": {}
  },
  {
   "cell_type": "code",
   "execution_count": 17,
   "source": [
    "ts = pd.Series(np.random.randn(100),\r\n",
    "            index = pd.date_range(\"2021-1-1\",periods=100))\r\n",
    "ts.tail(10)"
   ],
   "outputs": [
    {
     "output_type": "execute_result",
     "data": {
      "text/plain": [
       "2021-04-01   -1.517695\n",
       "2021-04-02   -1.037998\n",
       "2021-04-03    0.662567\n",
       "2021-04-04   -0.624228\n",
       "2021-04-05   -0.643762\n",
       "2021-04-06   -0.686254\n",
       "2021-04-07    0.441222\n",
       "2021-04-08    0.855880\n",
       "2021-04-09    0.147717\n",
       "2021-04-10   -1.594633\n",
       "Freq: D, dtype: float64"
      ]
     },
     "metadata": {},
     "execution_count": 17
    }
   ],
   "metadata": {}
  },
  {
   "cell_type": "code",
   "execution_count": 20,
   "source": [
    "ts.resample(\"M\").first()"
   ],
   "outputs": [
    {
     "output_type": "execute_result",
     "data": {
      "text/plain": [
       "2021-01-31    0.541335\n",
       "2021-02-28    0.514857\n",
       "2021-03-31   -0.075244\n",
       "2021-04-30   -1.517695\n",
       "Freq: M, dtype: float64"
      ]
     },
     "metadata": {},
     "execution_count": 20
    }
   ],
   "metadata": {}
  },
  {
   "cell_type": "code",
   "execution_count": null,
   "source": [],
   "outputs": [],
   "metadata": {}
  }
 ],
 "metadata": {
  "orig_nbformat": 4,
  "language_info": {
   "name": "python",
   "version": "3.8.10",
   "mimetype": "text/x-python",
   "codemirror_mode": {
    "name": "ipython",
    "version": 3
   },
   "pygments_lexer": "ipython3",
   "nbconvert_exporter": "python",
   "file_extension": ".py"
  },
  "kernelspec": {
   "name": "python3",
   "display_name": "Python 3.8.10 64-bit ('btfsop': conda)"
  },
  "interpreter": {
   "hash": "795bef2181d8c1d673d637ebabbfa46c3363c718d3652ae25a9a4fec543c87a1"
  }
 },
 "nbformat": 4,
 "nbformat_minor": 2
}
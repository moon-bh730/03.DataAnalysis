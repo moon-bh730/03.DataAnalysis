{
 "cells": [
  {
   "cell_type": "code",
   "execution_count": null,
   "source": [
    "import pandas as pd\r\n",
    "#matplotlib 패키지 한글 깨짐 처리 시작\r\n",
    "import matplotlib.pyplot as plt\r\n",
    "import platform\r\n",
    "\r\n",
    "\r\n",
    "if platform.system() == 'Darwin': #맥\r\n",
    "        plt.rc('font', family='AppleGothic') \r\n",
    "elif platform.system() == 'Windows': #윈도우\r\n",
    "        plt.rc('font', family='Malgun Gothic') \r\n",
    "elif platform.system() == 'Linux': #리눅스 (구글 콜랩)\r\n",
    "        #!wget \"https://www.wfonts.com/download/data/2016/06/13/malgun-gothic/malgun.ttf\"\r\n",
    "        #!mv malgun.ttf /usr/share/fonts/truetype/\r\n",
    "        #import matplotlib.font_manager as fm \r\n",
    "        #fm._rebuild() \r\n",
    "        plt.rc('font', family='Malgun Gothic') \r\n",
    "plt.rcParams['axes.unicode_minus'] = False #한글 폰트 사용시 마이너스 폰트 깨짐 해결\r\n",
    "#matplotlib 패키지 한글 깨짐 처리 끝\r\n",
    "\r\n",
    "#마이너스 기호 깨짐 방지\r\n",
    "plt.rcParams['axes.unicode_minus'] = False"
   ],
   "outputs": [],
   "metadata": {}
  }
 ],
 "metadata": {
  "orig_nbformat": 4,
  "language_info": {
   "name": "python"
  }
 },
 "nbformat": 4,
 "nbformat_minor": 2
}